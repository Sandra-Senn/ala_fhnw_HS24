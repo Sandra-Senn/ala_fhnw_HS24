{
 "cells": [
  {
   "cell_type": "code",
   "execution_count": 8,
   "metadata": {},
   "outputs": [],
   "source": [
    "import pandas as pd\n",
    "import numpy as np\n",
    "import sympy as sym\n",
    "from scipy.stats import pearsonr\n",
    "\n",
    "import matplotlib.pyplot as plt\n",
    "\n",
    "\n",
    "from tqdm.auto import tqdm\n",
    "from IPython.display import display"
   ]
  },
  {
   "cell_type": "code",
   "execution_count": 53,
   "metadata": {},
   "outputs": [
    {
     "data": {
      "text/latex": [
       "$\\displaystyle \\left[\\begin{matrix}5.47722557505166 & 0.0\\\\0.0 & 2.0\\end{matrix}\\right]$"
      ],
      "text/plain": [
       "Matrix([\n",
       "[5.47722557505166, 0.0],\n",
       "[             0.0, 2.0]])"
      ]
     },
     "execution_count": 53,
     "metadata": {},
     "output_type": "execute_result"
    }
   ],
   "source": [
    "A = np.array([[2,4],[-1,3],[0,-2]])\n",
    "\n",
    "U, s, Vt = np.linalg.svd(A)\n",
    "\n",
    "Sigma = np.diag(s)\n",
    "sym.Matrix(Sigma)"
   ]
  },
  {
   "cell_type": "code",
   "execution_count": 57,
   "metadata": {},
   "outputs": [
    {
     "name": "stdout",
     "output_type": "stream",
     "text": [
      "[[0.18257419 0.         0.        ]\n",
      " [0.         0.5        0.        ]]\n"
     ]
    },
    {
     "data": {
      "text/latex": [
       "$\\displaystyle \\left[\\begin{matrix}0.316666666666667 & -0.366666666666667 & 0.0833333333333334\\\\0.0833333333333333 & 0.166666666666667 & -0.0833333333333333\\end{matrix}\\right]$"
      ],
      "text/plain": [
       "Matrix([\n",
       "[ 0.316666666666667, -0.366666666666667,  0.0833333333333334],\n",
       "[0.0833333333333333,  0.166666666666667, -0.0833333333333333]])"
      ]
     },
     "execution_count": 57,
     "metadata": {},
     "output_type": "execute_result"
    }
   ],
   "source": [
    "Sigma_plus = np.zeros(A.T.shape)\n",
    "Sigma_plus[0,0] = 1/ s[0]\n",
    "Sigma_plus[1,1] = 1/ s[1]\n",
    "print(Sigma_plus)\n",
    "\n",
    "\n",
    "A_plus = Vt.T@Sigma_plus@U.T\n",
    "\n",
    "sym.Matrix(A_plus)"
   ]
  },
  {
   "cell_type": "code",
   "execution_count": 64,
   "metadata": {},
   "outputs": [
    {
     "data": {
      "text/latex": [
       "$\\displaystyle \\left[\\begin{matrix}0.966666666666667 & -0.0666666666666665 & -0.166666666666667\\\\-0.0666666666666666 & 0.866666666666667 & -0.333333333333333\\\\-0.166666666666667 & -0.333333333333333 & 0.166666666666667\\end{matrix}\\right]$"
      ],
      "text/plain": [
       "Matrix([\n",
       "[  0.966666666666667, -0.0666666666666665, -0.166666666666667],\n",
       "[-0.0666666666666666,   0.866666666666667, -0.333333333333333],\n",
       "[ -0.166666666666667,  -0.333333333333333,  0.166666666666667]])"
      ]
     },
     "execution_count": 64,
     "metadata": {},
     "output_type": "execute_result"
    }
   ],
   "source": [
    "AplusA = A_plus@A\n",
    "AAplus = A@A_plus\n",
    "\n",
    "\n",
    "sym.Matrix(AplusA)  \n",
    "sym.Matrix(AAplus)"
   ]
  },
  {
   "cell_type": "code",
   "execution_count": 68,
   "metadata": {},
   "outputs": [
    {
     "data": {
      "text/plain": [
       "array([[-0.16666667],\n",
       "       [ 0.16666667]])"
      ]
     },
     "execution_count": 68,
     "metadata": {},
     "output_type": "execute_result"
    }
   ],
   "source": [
    "GLS = np.array([[3,4,0],[3,-1,0],[2,0,0]])\n",
    "y = np.array([[1,2,3]])\n",
    "\n",
    "nl = A_plus @ y.T\n",
    "nl\n"
   ]
  },
  {
   "cell_type": "code",
   "execution_count": 72,
   "metadata": {},
   "outputs": [
    {
     "data": {
      "text/plain": [
       "array([[ 3,  0,  0, -1],\n",
       "       [ 0,  3, -1,  0],\n",
       "       [ 0, -1,  3,  0],\n",
       "       [-1,  0,  0,  3]])"
      ]
     },
     "execution_count": 72,
     "metadata": {},
     "output_type": "execute_result"
    }
   ],
   "source": [
    "At = np.array([[3,0,0,-1], [0,3,-1,0],[0,-1,3,0],[-1,0,0,3]])\n",
    "\n",
    "A = At.T\n",
    "A"
   ]
  },
  {
   "cell_type": "code",
   "execution_count": 76,
   "metadata": {},
   "outputs": [
    {
     "data": {
      "text/plain": [
       "(array([4., 2., 4., 2.]),\n",
       " array([[ 0.70710678,  0.70710678,  0.        ,  0.        ],\n",
       "        [ 0.        ,  0.        , -0.70710678,  0.70710678],\n",
       "        [ 0.        ,  0.        ,  0.70710678,  0.70710678],\n",
       "        [-0.70710678,  0.70710678,  0.        ,  0.        ]]))"
      ]
     },
     "execution_count": 76,
     "metadata": {},
     "output_type": "execute_result"
    }
   ],
   "source": [
    "ew, V = np.linalg.eig(A)\n",
    "\n",
    "ew, V"
   ]
  }
 ],
 "metadata": {
  "kernelspec": {
   "display_name": "Python 3",
   "language": "python",
   "name": "python3"
  },
  "language_info": {
   "codemirror_mode": {
    "name": "ipython",
    "version": 3
   },
   "file_extension": ".py",
   "mimetype": "text/x-python",
   "name": "python",
   "nbconvert_exporter": "python",
   "pygments_lexer": "ipython3",
   "version": "3.13.1"
  }
 },
 "nbformat": 4,
 "nbformat_minor": 2
}
