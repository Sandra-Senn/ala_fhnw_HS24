{
 "cells": [
  {
   "cell_type": "markdown",
   "metadata": {},
   "source": [
    "# Code snipets for MSP"
   ]
  },
  {
   "cell_type": "code",
   "execution_count": 2,
   "metadata": {},
   "outputs": [],
   "source": [
    "import pandas as pd\n",
    "import numpy as np\n",
    "import matplotlib.pyplot as plt\n",
    "from scipy.stats import pearsonr\n",
    "from tqdm.auto import tqdm"
   ]
  },
  {
   "cell_type": "markdown",
   "metadata": {},
   "source": [
    "## PCA"
   ]
  },
  {
   "cell_type": "markdown",
   "metadata": {},
   "source": [
    "Daten einlesen"
   ]
  },
  {
   "cell_type": "code",
   "execution_count": 3,
   "metadata": {},
   "outputs": [
    {
     "data": {
      "text/plain": [
       "((20, 2), (20, 2), (20, 2))"
      ]
     },
     "execution_count": 3,
     "metadata": {},
     "output_type": "execute_result"
    }
   ],
   "source": [
    "X1 = np.array([[0.51, 0.87],[0.77, 0.11],[0.87, 0.3 ],[0.01, 0.47],[0.31, 0.67],[0.96, 0.26],[0.51, 0.7 ],\n",
    "               [0.32, 0.66],[0.54, 0.18],[0.22, 0.32],[0.81, 0.89],[0.34, 0.08],[0.54, 0.75],[0.01, 0.06],\n",
    "               [0.67, 0.73],[0.21, 0.74],[0.93, 0.41],[0.37, 0.99],[0.75, 0.45],[0.76, 0.19]])\n",
    "\n",
    "X2 = np.array([[0.51, -1.08],[0.77, -2.01],[0.87, -2.03],[0.01, 0.19],[0.31, -0.37],[0.96, -1.6],\n",
    "               [0.51, -1.16],[0.32, -0.89],[0.54, -0.85],[0.22, -0.22],[0.81, -1.61],[0.34, -0.68],\n",
    "               [0.54, -1.42],[0.01, -0.07],[0.67, -1.01],[0.21, -0.65],[0.93, -1.98],[0.37, -0.78],\n",
    "               [0.75, -1.58],[0.76, -1.97]])\n",
    "\n",
    "X3 = np.array([[0.08,  0.1],[0.78, 0.78],[0.44, 0.45],[0.72, 0.66],[0.98, 1.05],[0.54, 0.55],[0.5, 0.48],\n",
    "               [0.07, 0.15],[0.27, 0.27],[0.5, 0.44],[0.68, 0.66],[0.8, 0.71],[0.38, 0.42],[0.07, 0.05],\n",
    "               [0.29, 0.26],[0.91, 0.95],[0.21, 0.14],[0.45, 0.47],[0.93, 0.85],[0.02, -0.01]]\n",
    ")\n",
    "X1.shape, X2.shape, X3.shape"
   ]
  },
  {
   "cell_type": "markdown",
   "metadata": {},
   "source": [
    "### Kovarianzmatrix berechnen\n",
    "\n",
    "- Auf der Diagonale: Varianzen der einzelnen Variablen\n",
    "- Nicht standardisiert, abhängig von der Skala der Variablen\n",
    "- Misst die Richtung der linearen Beziehung zwischen Variablen"
   ]
  },
  {
   "cell_type": "code",
   "execution_count": 14,
   "metadata": {},
   "outputs": [
    {
     "name": "stdout",
     "output_type": "stream",
     "text": [
      "Kovarianzmatrix:\n",
      "[[ 0.08474184 -0.00534816]\n",
      " [-0.00534816  0.08722395]] \n",
      "\n"
     ]
    }
   ],
   "source": [
    "def calc_cov(X):\n",
    "\n",
    "    mean_X = np.mean(X, axis=0)\n",
    "\n",
    "    X_ = (X-mean_X)\n",
    "    C = (1/(len(X)-1)) * X_.T @ X_\n",
    "\n",
    "    print(f\"Kovarianzmatrix:\\n{C} \\n\")\n",
    "\n",
    "    return C\n",
    "\n",
    "\n",
    "#calc covariance matrix\n",
    "C1 = calc_cov(X1)"
   ]
  },
  {
   "cell_type": "markdown",
   "metadata": {},
   "source": [
    "### Korrelationsmatrix berechnen\n",
    "\n",
    "- Auf der Diagonale: Immer 1, da jede Variable perfekt mit sich selbst korreliert\n",
    "- Standardisiert, Werte zwischen -1 und +11\n",
    "- Misst sowohl die Stärke als auch die Richtung der linearen Beziehung\n",
    "- Pearson-Korrelation bei den nicht einsen "
   ]
  },
  {
   "cell_type": "code",
   "execution_count": 11,
   "metadata": {},
   "outputs": [
    {
     "name": "stdout",
     "output_type": "stream",
     "text": [
      "Korrelationsmatrix:\n",
      "[[ 1.         -0.06220673]\n",
      " [-0.06220673  1.        ]] \n",
      "\n"
     ]
    }
   ],
   "source": [
    "# X= Ursprüngliche Matrix, nicht Kovarianz Mtrix!!\n",
    "def calc_cor(X):\n",
    "\n",
    "    C = calc_cov(X)\n",
    "    \n",
    "    # Berechne die Standardabweichungen aus der Diagonale der Kovarianzmatrix\n",
    "    std = np.sqrt(np.diag(C))\n",
    "    \n",
    "    # Berechne die Korrelationsmatrix\n",
    "    R = C / np.outer(std, std)\n",
    "\n",
    "\n",
    "    print(f\"Korrelationsmatrix:\\n{R} \\n\") \n",
    "\n",
    "    return R\n",
    "\n",
    "\n",
    "# R berechnen\n",
    "R1 = calc_cor(X1)"
   ]
  },
  {
   "cell_type": "markdown",
   "metadata": {},
   "source": [
    "### Eigenwerte / Eigenvektoren berechnen und sortieren"
   ]
  },
  {
   "cell_type": "code",
   "execution_count": 6,
   "metadata": {},
   "outputs": [
    {
     "data": {
      "text/plain": [
       "(array([1., 0.]),\n",
       " array([[ 0.        ,  0.70710678],\n",
       "        [ 1.        , -0.70710678]]))"
      ]
     },
     "execution_count": 6,
     "metadata": {},
     "output_type": "execute_result"
    }
   ],
   "source": [
    "def calc_sorted_eig( M ):\n",
    "    \n",
    "    ew, ev = np.linalg.eig(M)\n",
    "\n",
    "    # Sortiere Indizes basierend auf den Eigenwerten in absteigender Reihenfolge\n",
    "    idx = ew.argsort()[::-1]\n",
    "    \n",
    "    # Sortiere Eigenwerte und Eigenvektoren\n",
    "    ew_sorted = ew[idx]\n",
    "    ev_sorted = ev[:, idx]\n",
    "    \n",
    "    return ew_sorted, ev_sorted\n",
    "\n",
    "\n",
    "A= np.array([[0,0],[1,1]])\n",
    "# EW / EV berechnen\n",
    "ew1, ev1 = calc_sorted_eig(A)\n",
    "# ew2, ev2 = calc_sorted_eig(C2)\n",
    "# ew3, ev3 = calc_sorted_eig(C3)\n",
    "ew1,ev1"
   ]
  },
  {
   "cell_type": "markdown",
   "metadata": {},
   "source": [
    "### Kovarianzmatrizen diagonalisieren"
   ]
  },
  {
   "cell_type": "code",
   "execution_count": 7,
   "metadata": {},
   "outputs": [
    {
     "name": "stdout",
     "output_type": "stream",
     "text": [
      "Diagonalised covariance matrix zu: \n",
      "[[1. 0.]\n",
      " [0. 0.]]\n",
      "\n"
     ]
    },
    {
     "ename": "NameError",
     "evalue": "name 'ew2' is not defined",
     "output_type": "error",
     "traceback": [
      "\u001b[1;31m---------------------------------------------------------------------------\u001b[0m",
      "\u001b[1;31mNameError\u001b[0m                                 Traceback (most recent call last)",
      "Cell \u001b[1;32mIn[7], line 10\u001b[0m\n\u001b[0;32m      6\u001b[0m     \u001b[38;5;28;01mreturn\u001b[39;00m D\n\u001b[0;32m      9\u001b[0m C1_diag \u001b[38;5;241m=\u001b[39m diag_cov_matrix(ew1)\n\u001b[1;32m---> 10\u001b[0m C2_diag \u001b[38;5;241m=\u001b[39m diag_cov_matrix(\u001b[43mew2\u001b[49m)\n\u001b[0;32m     11\u001b[0m C3_diag \u001b[38;5;241m=\u001b[39m diag_cov_matrix(ew3)\n",
      "\u001b[1;31mNameError\u001b[0m: name 'ew2' is not defined"
     ]
    }
   ],
   "source": [
    "#calculate the diagonalised covariance matrix\n",
    "def diag_cov_matrix(ew):\n",
    "    D = np.diag(ew)\n",
    "    D = np.round(D, 4)\n",
    "    print(f\"Diagonalised covariance matrix zu: \\n{D}\\n\")\n",
    "    return D\n",
    "\n",
    "\n",
    "C1_diag = diag_cov_matrix(ew1)\n",
    "C2_diag = diag_cov_matrix(ew2)\n",
    "C3_diag = diag_cov_matrix(ew3)"
   ]
  },
  {
   "cell_type": "markdown",
   "metadata": {},
   "source": [
    "### Varianzanteile berechnen"
   ]
  },
  {
   "cell_type": "markdown",
   "metadata": {},
   "source": [
    "α1 = λ1/(λ1+λ2)\n",
    "\n",
    "α2 = λ2/(λ1+λ2)\n",
    "\n",
    "α1+α2= 100%"
   ]
  },
  {
   "cell_type": "code",
   "execution_count": 7,
   "metadata": {},
   "outputs": [
    {
     "name": "stdout",
     "output_type": "stream",
     "text": [
      "The varaince ist True\n",
      "The varaince ist True\n",
      "The varaince ist True\n"
     ]
    }
   ],
   "source": [
    "def varianzanteile(eigenvalues):\n",
    "    total_var = np.sum(eigenvalues)\n",
    "    var_anteile = eigenvalues / total_var * 100\n",
    "\n",
    "    alpha_1 = round(var_anteile[0,0], 1) #auf die erste Dezimalstelle gerundet\n",
    "    alpha_2 = round(var_anteile[1,1], 1) #auf die erste Dezimalstelle gerundet\n",
    "\n",
    "    is_valid = True if (alpha_1+alpha_2) == 100 else False\n",
    "\n",
    "    print(f\"The varaince ist {is_valid}\")\n",
    "    return alpha_1, alpha_2\n",
    "\n",
    " \n",
    "C1_var = varianzanteile(C1_diag)\n",
    "C2_var = varianzanteile(C2_diag)\n",
    "C3_var = varianzanteile(C3_diag)\n"
   ]
  },
  {
   "cell_type": "markdown",
   "metadata": {},
   "source": [
    "## Lineare Regression"
   ]
  },
  {
   "cell_type": "markdown",
   "metadata": {},
   "source": [
    "### Normalengleichung\n",
    "\n",
    "wir haben folgende Matrizen\n",
    "\n",
    "$$\n",
    "X = \\begin{pmatrix}\n",
    "1 & x_1 \\\\\n",
    "1 & x_2 \\\\\n",
    "\\vdots & \\vdots \\\\\n",
    "1 & x_n\n",
    "\\end{pmatrix}, \\quad\n",
    "\\mathbf{y} = \\begin{pmatrix}\n",
    "y_1 \\\\\n",
    "y_2 \\\\\n",
    "\\vdots \\\\\n",
    "y_n\n",
    "\\end{pmatrix}, \\quad\n",
    "\\hat{\\mathbf{y}} = \\begin{pmatrix}\n",
    "\\hat{y}_1 \\\\\n",
    "\\hat{y}_2 \\\\\n",
    "\\vdots \\\\\n",
    "\\hat{y}_n\n",
    "\\end{pmatrix}, \\quad \\text{und} \\quad\n",
    "\\beta = \\begin{pmatrix}\n",
    "q \\\\\n",
    "m\n",
    "\\end{pmatrix}.\n",
    "\\\\\n",
    "$$\n",
    "\n",
    "\n",
    "\n",
    "\n",
    "und berechnen Beta mit:\n",
    "\n",
    "$$\n",
    "\\boldsymbol{\\beta} = (X^T X)^{-1} \\, X^T \\, \\mathbf{y}\n",
    "$$\n",
    "\n",
    "die Parameter $\\boldsymbol{\\beta}$ der Regressionsgerade bestimmen"
   ]
  },
  {
   "cell_type": "code",
   "execution_count": 8,
   "metadata": {},
   "outputs": [],
   "source": [
    "# 1. Daten einlesen\n",
    "data = pd.read_csv(\"le2_lineare_regression/height_weight_data.csv\")        # Anpassen\n",
    "x = np.array(data.height)                           # Anpassen\n",
    "y = np.array(data.weight)                           # Anpassen\n",
    "\n",
    "# 2. Daten transponieren\n",
    "x_trans = np.array(x).reshape(-1, 1)\n",
    "y_trans = np.array(y).reshape(-1, 1)\n",
    "\n",
    "# 3. X und y definieren\n",
    "X = np.hstack([np.ones_like(x_trans), x_trans])\n",
    "y = y_trans\n",
    "\n",
    "# 4. Beta berechnen\n",
    "beta = np.linalg.inv(X.T@X)@X.T@y"
   ]
  },
  {
   "cell_type": "code",
   "execution_count": 9,
   "metadata": {},
   "outputs": [
    {
     "data": {
      "text/plain": [
       "Text(0, 0.5, 'Körpergewicht [kg]')"
      ]
     },
     "execution_count": 9,
     "metadata": {},
     "output_type": "execute_result"
    },
    {
     "data": {
      "image/png": "[encoded data removed]",
      "text/plain": [
       "<Figure size 640x480 with 1 Axes>"
      ]
     },
     "metadata": {},
     "output_type": "display_data"
    }
   ],
   "source": [
    "plt.scatter(x, y)\n",
    "plt.xlabel(\"Körpergrösse [cm]\")         # Anpassen\n",
    "plt.ylabel(\"Körpergewicht [kg]\")        # Anpassen"
   ]
  },
  {
   "cell_type": "markdown",
   "metadata": {},
   "source": [
    "Mit Regressionsparameter $\\boldsymbol{\\beta}$ die vorhergesagten Werte $\\mathbf{\\hat{y}}$ berechnen: \n",
    "\n",
    "\n",
    "$\\mathbf{\\hat{y}} = X\\boldsymbol{\\beta}$\n",
    "\n",
    "**Hinweis:** $\\mathbf{\\hat{y}}$ hat natürlich die gleichen Dimensionen wie $\\mathbf{y}$."
   ]
  },
  {
   "cell_type": "code",
   "execution_count": 10,
   "metadata": {},
   "outputs": [
    {
     "data": {
      "text/plain": [
       "True"
      ]
     },
     "execution_count": 10,
     "metadata": {},
     "output_type": "execute_result"
    }
   ],
   "source": [
    "y_hat = X@beta\n",
    "\n",
    "np.ndim(y) == np.ndim(y_hat)\n",
    "# y_hat"
   ]
  },
  {
   "cell_type": "markdown",
   "metadata": {},
   "source": [
    "#### RSME berechnen"
   ]
  },
  {
   "cell_type": "code",
   "execution_count": null,
   "metadata": {},
   "outputs": [],
   "source": []
  },
  {
   "cell_type": "markdown",
   "metadata": {},
   "source": [
    "## Normen"
   ]
  },
  {
   "cell_type": "markdown",
   "metadata": {},
   "source": [
    "### Vektornormen\n",
    "\n",
    "Eigenschaften:\n",
    "- positiv definit\n",
    "- absolut homogen\n",
    "- Dreiecksungleichung"
   ]
  },
  {
   "cell_type": "code",
   "execution_count": 11,
   "metadata": {},
   "outputs": [
    {
     "data": {
      "text/plain": [
       "np.float64(2.0)"
      ]
     },
     "execution_count": 11,
     "metadata": {},
     "output_type": "execute_result"
    }
   ],
   "source": [
    "# Summe aller !=0 Werte; keine echte Norm, da Dreiecksungleichung nicht erfüllt\n",
    "def l0_norm(v):\n",
    "    return np.count_nonzero(v)\n",
    "\n",
    "# Manhattan-Norm; a^2+b^2 vom Satz des Pythagoras\n",
    "def l1_norm(v):\n",
    "    return np.linalg.norm(v, ord=1)\n",
    "\n",
    "# euklydische Norm; c^2 vom Satz des Pythagoras\n",
    "def l2_norm(v):\n",
    "    return np.linalg.norm(v)\n",
    "\n",
    "# läuft gegen unentlich\n",
    "def lmax_norm(v):\n",
    "    return np.linalg.norm(v, ord=np.inf)\n",
    "\n",
    "# für beliebiges p Norm berechnen\n",
    "def lp_norm(v, p):\n",
    "    return np.linalg.norm(v, ord=p)\n",
    "\n",
    "\n",
    "a= np.array([1,0,1,-2])\n",
    "a_max = lmax_norm(a)\n",
    "a_max"
   ]
  },
  {
   "cell_type": "markdown",
   "metadata": {},
   "source": [
    "### Matrizennormen\n",
    "\n",
    "Eigenschaften:\n",
    "- positiv definit\n",
    "- absolut homogen\n",
    "- Dreiecksungleichung"
   ]
  },
  {
   "cell_type": "code",
   "execution_count": 4,
   "metadata": {},
   "outputs": [],
   "source": [
    "# Matrix äquivalent zu l2\n",
    "def frobenius_norm(A):\n",
    "    return np.linalg.norm(A, 'fro')\n",
    "\n",
    "# Wurzel aus grösstem EW; \n",
    "def spectral_norm(A):\n",
    "    return np.linalg.norm(A, ord=2)\n",
    "\n",
    "# gibt grösse absolute Zahl zurück\n",
    "def max_norm(A):\n",
    "    return np.linalg.norm(A, ord=np.inf)\n",
    "\n",
    "# grösste Spaltensumme \n",
    "def column_norm(A):\n",
    "    return np.linalg.norm(A, ord=1)\n",
    "\n",
    "# grösste Zeilensumme \n",
    "def row_norm(A):\n",
    "    return np.linalg.norm(A, ord=np.inf)\n",
    "\n",
    "# Summe aller absoluten Werte\n",
    "def sum_norm(A):\n",
    "    return np.sum(np.abs(A))\n",
    "\n",
    "\n",
    "# all in one\n",
    "def calculate_matrix_norms(A):\n",
    "    fro     = np.linalg.norm(A, 'fro')\n",
    "    spekt   = np.linalg.norm(A, ord=2)\n",
    "    maxi    = np.linalg.norm(A, ord=np.inf)\n",
    "    colm    = np.linalg.norm(A, ord=1)\n",
    "    rown    = np.linalg.norm(A, ord=np.inf)\n",
    "    sumn    = np.sum(np.abs(A))\n",
    "\n",
    "    norms = {\n",
    "        \"Frobenius-Norm\": fro,\n",
    "        \"Spektral-Norm\": spekt,\n",
    "        \"Maximum-Norm\": maxi,\n",
    "        \"Spalten-Norm\": colm,\n",
    "        \"Zeilen-Norm\": rown,\n",
    "        \"Summen-Norm\": sumn\n",
    "    }\n",
    "       \n",
    "    print(\"Matrix:\")\n",
    "    print(A)\n",
    "    print(\"\\nBerechnete Matrixnormen:\")\n",
    "    for name, value in norms.items():\n",
    "        print(f\"{name}: {value}\")\n",
    "\n",
    "    # return fro, spekt, maxi, colm, rown, sumn"
   ]
  },
  {
   "cell_type": "code",
   "execution_count": 7,
   "metadata": {},
   "outputs": [
    {
     "name": "stdout",
     "output_type": "stream",
     "text": [
      "Matrix:\n",
      "[[0.5 0. ]\n",
      " [0.5 0. ]]\n",
      "\n",
      "Berechnete Matrixnormen:\n",
      "Frobenius-Norm: 0.7071067811865476\n",
      "Spektral-Norm: 0.7071067811865476\n",
      "Maximum-Norm: 0.5\n",
      "Spalten-Norm: 1.0\n",
      "Zeilen-Norm: 0.5\n",
      "Summen-Norm: 1.0\n"
     ]
    }
   ],
   "source": [
    "A = np.array([[1,0],[0,0]])\n",
    "B = np.array([[0,0],[1,1]])\n",
    "C = np.array([[0.5, 0],[0.5,0]])\n",
    "\n",
    "norm = calculate_matrix_norms(C)\n",
    "norm\n"
   ]
  },
  {
   "cell_type": "markdown",
   "metadata": {},
   "source": [
    "### Distanzmasse / Metriken\n",
    "\n",
    "Unterschiede/Distanz zwischen zwei Vektoren.\n",
    "\n",
    "Folgende Axiome müssen gelten:\n",
    "- Positiv definit\n",
    "- Symetrisch\n",
    "- Dreiecksungleichung"
   ]
  },
  {
   "cell_type": "code",
   "execution_count": 20,
   "metadata": {},
   "outputs": [
    {
     "name": "stdout",
     "output_type": "stream",
     "text": [
      "Minkowski Distanz: 2.2361\n",
      "Euclidean Distanz: 2.2361\n",
      "Manhattan Distanz: 3.0000\n",
      "Maximum Distanz: 2.0000\n"
     ]
    }
   ],
   "source": [
    "def distance_metrics(x, y, p=2):\n",
    "    x = np.array(x)\n",
    "    y = np.array(y)\n",
    "    \n",
    "    minkowski = np.power(np.sum(np.power(np.abs(x - y), p)), 1/p)\n",
    "    euclidean = np.sqrt(np.sum((x - y)**2))\n",
    "    manhattan = np.sum(np.abs(x - y))\n",
    "    max =       np.sum(np.max(np.abs(x-y)))\n",
    "    \n",
    "    return {\n",
    "        \"Minkowski\": minkowski,\n",
    "        \"Euclidean\": euclidean,\n",
    "        \"Manhattan\": manhattan, \n",
    "        \"Maximum\"  : max\n",
    "    }\n",
    "\n",
    "# Beispiel\n",
    "x = [1,0,-1]\n",
    "y = [1,2,0]\n",
    "\n",
    "results = distance_metrics(x, y)\n",
    "for metric, value in results.items():\n",
    "    print(f\"{metric} Distanz: {value:.4f}\")\n"
   ]
  },
  {
   "cell_type": "markdown",
   "metadata": {},
   "source": [
    "### Ähnlichkeitsmasse\n",
    "\n",
    "Vergleicht die Ähnlichkeit zweier Vektoren\n",
    "\n",
    "Anfordernungen an x, y und s(x,y):\n",
    "- Ähnlichkeit zweier identische Objekte/Vektoren = 1\n",
    "- Ähnlichkeit zweier nicht identische Objekte/Vektoren < 1\n",
    "- Ähnlikeitsmasse sind symetrisch"
   ]
  },
  {
   "cell_type": "code",
   "execution_count": 15,
   "metadata": {},
   "outputs": [
    {
     "name": "stdout",
     "output_type": "stream",
     "text": [
      "Kosinus-Ähnlichkeit: -0.0739\n",
      "Korrelations-Ähnlichkeit: -0.2168\n"
     ]
    }
   ],
   "source": [
    "# vergleicht den Winkel von zwei Vektoren um deren Ähnlichkeit zu messen; 1= Winkel perfekt parralel, 0= orthogonal, -1 perfekt antiparallel\n",
    "def cosine_similarity(a, b):\n",
    "    cs= np.dot(a, b) / (np.linalg.norm(a) * np.linalg.norm(b))\n",
    "    print(f\"Kosinus-Ähnlichkeit: {cs:.4f}\")\n",
    "    return cs\n",
    "\n",
    "\n",
    "# macht nur bei hochdimensionalen Vektoren sinn\n",
    "def correlation_similarity(a, b):\n",
    "    p = pearsonr(a, b)[0]\n",
    "    print(f\"Korrelations-Ähnlichkeit: {p:.4f}\")\n",
    "    return p\n",
    "\n",
    "\n",
    "\n",
    "# Beispiel\n",
    "a = np.array([0.9,-1,0.7,-1.9,0.9,-1.7,0.3,-1.6,-2.7,0.6])\n",
    "b = np.array([-0.5,-0.1,-0.6,-0.1,-2.5,-2.2,1.1,0.6,0.6,0.2])\n",
    "\n",
    "cos_sim = cosine_similarity(a, b)\n",
    "corr_sim = correlation_similarity(a, b)\n"
   ]
  },
  {
   "cell_type": "markdown",
   "metadata": {},
   "source": [
    "## Recommender Systems\n",
    "\n",
    "Cosine Similarity \n",
    "\n",
    "--> kolaborative filtering \n",
    "\n",
    "    - Item-based Collaborative Filtering (IBCF):  für Produkte ähnliche Produkte suchen und User vorschlagen\n",
    "\n",
    "    - User-based Collaborative Filtering (UBCF): Nutzer miteinander veglichen und dann Lieblingsprodukte user A User Bb vorgeschlagen"
   ]
  },
  {
   "cell_type": "code",
   "execution_count": 16,
   "metadata": {},
   "outputs": [],
   "source": [
    "# IBCF für Vektoren und Matrizen\n",
    "\n",
    "def cosine_similarity(A, B):\n",
    "    norm_A = np.linalg.norm(A)\n",
    "    norm_B = np.linalg.norm(B)\n",
    "    dot_product = np.dot(A, B)\n",
    "    return dot_product / (norm_A * norm_B)"
   ]
  },
  {
   "cell_type": "code",
   "execution_count": 22,
   "metadata": {},
   "outputs": [
    {
     "data": {
      "text/plain": [
       "(np.float64(0.1386750490563073),\n",
       " array([[0.26455026, 0.24338624, 0.07936508, 0.02116402, 0.02645503,\n",
       "         0.06349206],\n",
       "        [0.24338624, 0.22751323, 0.07936508, 0.01587302, 0.02645503,\n",
       "         0.05820106],\n",
       "        [0.07936508, 0.07936508, 0.13227513, 0.        , 0.        ,\n",
       "         0.02645503],\n",
       "        [0.02116402, 0.01587302, 0.        , 0.13756614, 0.13227513,\n",
       "         0.11111111],\n",
       "        [0.02645503, 0.02645503, 0.        , 0.13227513, 0.13756614,\n",
       "         0.11111111],\n",
       "        [0.06349206, 0.05820106, 0.02645503, 0.11111111, 0.11111111,\n",
       "         0.1005291 ]]))"
      ]
     },
     "execution_count": 22,
     "metadata": {},
     "output_type": "execute_result"
    }
   ],
   "source": [
    "X = np.array([[3,3,5,0,0,1],\n",
    "              [4,3,0,1,0,1],\n",
    "              [0,0,0,5,5,4],\n",
    "              [0,0,0,0,0,0],\n",
    "              [5,5,0,0,1,1]])\n",
    "\n",
    "\n",
    "\n",
    "\n",
    "test = cosine_similarity(X.T, X)\n",
    "\n",
    "\n",
    "A = np.array([0,0,5,0,1])\n",
    "B = np.array([0,0,0,5,5])\n",
    "similarity = cosine_similarity(A, B)\n",
    "\n",
    "\n",
    "similarity, test"
   ]
  },
  {
   "cell_type": "markdown",
   "metadata": {},
   "source": [
    "## SVD"
   ]
  },
  {
   "attachments": {
    "image.png": {
     "image/png": "[encoded data removed]"
    }
   },
   "cell_type": "markdown",
   "metadata": {},
   "source": [
    "![image.png](attachment:image.png)"
   ]
  },
  {
   "cell_type": "code",
   "execution_count": null,
   "metadata": {},
   "outputs": [],
   "source": [
    "A = np.array([[4, 12],[12,22]])\n",
    "\n",
    "# svd berechnen\n",
    "U, Sigma, Vt = np.linalg.svd(A)\n",
    "\n",
    "# Quercheck ob richtige Dimension \n",
    "U.shape, Sigma.shape, Vt.shape \n",
    "\n",
    "\n",
    "data_50 = np.matrix(U[:,:50]) @ np.diag(S[:50]) @ np.matrix(V[:50,:])\n",
    "\n",
    "plt.imshow(data_50, cmap=\"grey\")\n",
    "\n",
    "\n",
    "\n",
    "\n",
    "\n",
    "\n",
    "\n",
    "# mit gewünschen Norm weiterrechnen\n",
    "fro, spekt, maxi, colm, rown, sumn  = calculate_matrix_norms(data)"
   ]
  },
  {
   "attachments": {
    "image.png": {
     "image/png": "[encoded data removed]"
    }
   },
   "cell_type": "markdown",
   "metadata": {},
   "source": [
    "![image.png](attachment:image.png)"
   ]
  },
  {
   "cell_type": "markdown",
   "metadata": {},
   "source": [
    "### Truncated SVD"
   ]
  },
  {
   "cell_type": "code",
   "execution_count": null,
   "metadata": {},
   "outputs": [],
   "source": [
    "# Scree-Plot zum sehen welche Singulärwerte relevant sind\n",
    "plt.plot(Sigma)"
   ]
  },
  {
   "cell_type": "code",
   "execution_count": 39,
   "metadata": {},
   "outputs": [],
   "source": [
    "# A=  Originale Matrix, k Anzahl Singulärwerte die behaltet werden \n",
    "def truncated_svd(A, k):\n",
    "    U, S, V = np.linalg.svd(A)\n",
    "\n",
    "    data = np.matrix(U[:,:k]) @ np.diag(S[:k]) @ np.matrix(V[:k,:])\n",
    "\n",
    "    # plt.imshow(data, cmap=\"grey\")   #nur, wenn ein Bild\n",
    "\n",
    "\n",
    "    return U, S, V, data"
   ]
  },
  {
   "cell_type": "code",
   "execution_count": null,
   "metadata": {},
   "outputs": [],
   "source": [
    "# \n",
    "t_SVD = truncated_svd(data, 1200)"
   ]
  }
 ],
 "metadata": {
  "kernelspec": {
   "display_name": "Python 3",
   "language": "python",
   "name": "python3"
  },
  "language_info": {
   "codemirror_mode": {
    "name": "ipython",
    "version": 3
   },
   "file_extension": ".py",
   "mimetype": "text/x-python",
   "name": "python",
   "nbconvert_exporter": "python",
   "pygments_lexer": "ipython3",
   "version": "3.13.1"
  }
 },
 "nbformat": 4,
 "nbformat_minor": 2
}
