{
 "cells": [
  {
   "cell_type": "markdown",
   "metadata": {},
   "source": [
    "# Code snipets for MSP"
   ]
  },
  {
   "cell_type": "code",
   "execution_count": 66,
   "metadata": {},
   "outputs": [],
   "source": [
    "import pandas as pd\n",
    "import numpy as np\n",
    "import sympy as sp\n",
    "from scipy.stats import pearsonr\n",
    "\n",
    "import matplotlib.pyplot as plt\n",
    "\n",
    "\n",
    "from tqdm.auto import tqdm\n",
    "from IPython.display import display"
   ]
  },
  {
   "cell_type": "markdown",
   "metadata": {},
   "source": [
    "## Kapitel 1 - Eigenvektoren"
   ]
  },
  {
   "cell_type": "markdown",
   "metadata": {},
   "source": [
    "Eigenwert / Eigenvektor ausgeben   "
   ]
  },
  {
   "cell_type": "code",
   "execution_count": 67,
   "metadata": {},
   "outputs": [
    {
     "data": {
      "text/plain": [
       "(array([0., 1., 1.]),\n",
       " array([[ 0.        ,  0.19611614,  0.        ],\n",
       "        [ 1.        , -0.98058068,  0.89442719],\n",
       "        [ 0.        ,  0.        ,  0.4472136 ]]))"
      ]
     },
     "execution_count": 67,
     "metadata": {},
     "output_type": "execute_result"
    }
   ],
   "source": [
    "M1 = np.array([[1,0,0],[-5,0,2],[0,0,1]])        # Matrix anpassen!!!\n",
    "\n",
    "ew, ev = np.linalg.eig( M1 )\n",
    "\n",
    "# np.round( ew, 10 )                               # wenn EW komplex sind bereinigen\n",
    "\n",
    "ew, ev\n",
    "\n",
    "# EW als Liste ausgeben\n",
    "# list(ew)"
   ]
  },
  {
   "cell_type": "markdown",
   "metadata": {},
   "source": [
    "Eigenvektor normalisieren"
   ]
  },
  {
   "cell_type": "code",
   "execution_count": 68,
   "metadata": {},
   "outputs": [
    {
     "data": {
      "text/latex": [
       "$\\displaystyle \\left[\\begin{matrix}0.0\\\\1.0\\\\0.0\\end{matrix}\\right]$"
      ],
      "text/plain": [
       "Matrix([\n",
       "[0.0],\n",
       "[1.0],\n",
       "[0.0]])"
      ]
     },
     "metadata": {},
     "output_type": "display_data"
    },
    {
     "data": {
      "text/latex": [
       "$\\displaystyle \\left[\\begin{matrix}0.1961\\\\-0.9806\\\\0.0\\end{matrix}\\right]$"
      ],
      "text/plain": [
       "Matrix([\n",
       "[ 0.1961],\n",
       "[-0.9806],\n",
       "[    0.0]])"
      ]
     },
     "metadata": {},
     "output_type": "display_data"
    },
    {
     "data": {
      "text/latex": [
       "$\\displaystyle \\left[\\begin{matrix}0.0\\\\0.8944\\\\0.4472\\end{matrix}\\right]$"
      ],
      "text/plain": [
       "Matrix([\n",
       "[   0.0],\n",
       "[0.8944],\n",
       "[0.4472]])"
      ]
     },
     "metadata": {},
     "output_type": "display_data"
    }
   ],
   "source": [
    "for k in range( M1.shape[0] ):\n",
    "    display( sp.Matrix( np.round( ev[:,k], 4 ) ) ) \n",
    "\n",
    "## lamda 0 => m=d=1 , lamda 1 => m=d=2"
   ]
  },
  {
   "cell_type": "markdown",
   "metadata": {},
   "source": [
    "Gegeben Matrix A. \n",
    "\n",
    "a) EW, EV beechnen\n",
    "\n",
    "\n",
    "b) zeigen, dass EV orthogonal sind und wiso\n",
    "\n",
    "\n",
    "c) Matrix V berechnen aus EV\n",
    "\n",
    "\n",
    "d) A^20 berechnen "
   ]
  },
  {
   "cell_type": "code",
   "execution_count": 69,
   "metadata": {},
   "outputs": [
    {
     "data": {
      "text/latex": [
       "$\\displaystyle \\left[\\begin{matrix}-2.15867418572374 \\cdot 10^{49} & -2.15483574926554 \\cdot 10^{49} & 3.87901894685989 \\cdot 10^{49} & -1.17690179653957 \\cdot 10^{49}\\\\3.95564967854609 \\cdot 10^{48} & 3.94861595847734 \\cdot 10^{48} & -7.10808520882741 \\cdot 10^{48} & 2.15660670051569 \\cdot 10^{48}\\\\-1.21420050758675 \\cdot 10^{49} & -1.21204148260433 \\cdot 10^{49} & 2.18185162233586 \\cdot 10^{49} & -6.61977971566376 \\cdot 10^{48}\\\\1.23998701135823 \\cdot 10^{49} & 1.23778213422413 \\cdot 10^{49} & -2.22818855329301 \\cdot 10^{49} & 6.76036685389816 \\cdot 10^{48}\\end{matrix}\\right]$"
      ],
      "text/plain": [
       "Matrix([\n",
       "[-2.15867418572374e+49, -2.15483574926554e+49,  3.87901894685989e+49, -1.17690179653957e+49],\n",
       "[ 3.95564967854609e+48,  3.94861595847734e+48, -7.10808520882741e+48,  2.15660670051569e+48],\n",
       "[-1.21420050758675e+49, -1.21204148260433e+49,  2.18185162233586e+49, -6.61977971566376e+48],\n",
       "[ 1.23998701135823e+49,  1.23778213422413e+49, -2.22818855329301e+49,  6.76036685389816e+48]])"
      ]
     },
     "execution_count": 69,
     "metadata": {},
     "output_type": "execute_result"
    }
   ],
   "source": [
    "# Matrix einlesen\n",
    "A = np.array([[89,75,22,102],[75,116,27,120],[22,27,33,62],[102,120,62,200]], dtype=float)\n",
    "\n",
    "\n",
    "# EW, EV berechnen\n",
    "ew, ev = np.linalg.eig(A)\n",
    "\n",
    "\n",
    "# zeigen, EV orthogonal\n",
    "np.round( np.dot( ev.T, ev ), 10 )\n",
    "\n",
    "\n",
    "# zeigt auch, dass EV orthogonal, einfach mit for loop...\n",
    "# S = np.zeros([ev.shape[1], ev.shape[1]])\n",
    "\n",
    "# for i in range(ev.shape[1]):\n",
    "#     for j in range(ev.shape[1]):\n",
    "#         S[i,j] = np.vdot( ev[:,i], ev[:,j])\n",
    "\n",
    "# np.round( S, 10 )\n",
    "\n",
    "\n",
    "# Matrix V und D berechnen\n",
    "V = ev\n",
    "Vinv = np.linalg.inv(V)\n",
    "D = np.round( Vinv.dot(A).dot(V), 10 )\n",
    "D\n",
    "\n",
    "\n",
    "# A^20 berechnen\n",
    "Vinv = np.linalg.inv(A)\n",
    "A_20 = Vinv @ D ** 20 @ V\n",
    "\n",
    "\n",
    "sp.Matrix(A_20)\n"
   ]
  },
  {
   "cell_type": "markdown",
   "metadata": {},
   "source": [
    "Begründung, wiso EV orthogonal:\n",
    "\n",
    "Die Skalarprodukte der Eigenvektoren $\\mathbf{v}_i$ und $\\mathbf{v}_j$ sind gleich null für alle $i\\neq j$ und damit stehen alle Eigenvektoren orthogonal zueinander. Die Eigenvektoren stehen orthogonal zueinander, weil die Matrix $A$ symmetrisch ist."
   ]
  },
  {
   "cell_type": "markdown",
   "metadata": {},
   "source": [
    "## Kapitel 3 - Kovarianz in Daten"
   ]
  },
  {
   "cell_type": "markdown",
   "metadata": {},
   "source": [
    "gegeben x,y,z\n",
    "\n",
    "a) C, R berechnen / welche Variablen korellieren? /  visualisieren\n",
    "\n",
    "b) ew, ev von C / V bestimmen / zeigen dass V C diagonalisiert\n",
    "\n",
    "c) zeigen, dass V orthogonal"
   ]
  },
  {
   "cell_type": "code",
   "execution_count": 70,
   "metadata": {},
   "outputs": [],
   "source": [
    "# Daten einlesen\n",
    "x = np.array([0.85,0.18,0.05,0.36,0.28,0.53,0.31,0.30,0.11,0.25])\n",
    "y = np.array([-1.90,0.00,0.59,-0.31,-1.12,-0.46,-0.78,1.00,0.46,-0.49])\n",
    "z = np.array([0.85,0.15,0.05,0.33,0.29,0.47,0.27,0.34,0.15,0.29])\n",
    "X = np.vstack([x,y,z]).T\n",
    "# sp.Matrix( X )"
   ]
  },
  {
   "cell_type": "markdown",
   "metadata": {},
   "source": [
    "a)\n",
    "\n",
    "\n",
    "Alle Variablen korrelieren relativ stark miteinander, $x$ und $z$ dabei sehr stark positiv (0.99) und $x$ und $y$ bzw. $y$ und $z$ etwas schwächer negativ (-0.73 bzw. -0.71). Unterstützung mit Visualisierung:"
   ]
  },
  {
   "cell_type": "code",
   "execution_count": 71,
   "metadata": {},
   "outputs": [
    {
     "data": {
      "text/plain": [
       "Text(0, 0.5, 'z')"
      ]
     },
     "execution_count": 71,
     "metadata": {},
     "output_type": "execute_result"
    },
    {
     "data": {
      "image/png": "[encoded data removed]",
      "text/plain": [
       "<Figure size 1500x400 with 3 Axes>"
      ]
     },
     "metadata": {},
     "output_type": "display_data"
    }
   ],
   "source": [
    "# a)\n",
    "# Kovar\n",
    "X0 = X - np.mean(X, axis=0)\n",
    "C = 1/(X0.shape[0]-1) * X0.T @ X0\n",
    "# sp.Matrix( np.round(C, 4) )\n",
    "\n",
    "# Korrel\n",
    "Xs = (X - np.mean(X, axis=0))/np.std(X, axis=0, ddof=1)\n",
    "R = 1/(Xs.shape[0]-1) * Xs.T @ Xs\n",
    "# sp.Matrix( np.round(R, 4) )\n",
    "\n",
    "# visualisieren\n",
    "plt.figure(figsize=(15,4))\n",
    "plt.subplot(1,3,1)\n",
    "plt.scatter(X[:,0], X[:,1])\n",
    "plt.xlabel(\"x\")\n",
    "plt.ylabel(\"y\")\n",
    "plt.subplot(1,3,2)\n",
    "plt.scatter(X[:,0], X[:,2])\n",
    "plt.xlabel(\"x\")\n",
    "plt.ylabel(\"z\")\n",
    "plt.subplot(1,3,3)\n",
    "plt.scatter(X[:,1], X[:,2])\n",
    "plt.xlabel(\"y\")\n",
    "plt.ylabel(\"z\")"
   ]
  },
  {
   "cell_type": "markdown",
   "metadata": {},
   "source": [
    "b)"
   ]
  },
  {
   "cell_type": "code",
   "execution_count": 72,
   "metadata": {},
   "outputs": [
    {
     "data": {
      "text/plain": [
       "array([0.946, 0.053, 0.001])"
      ]
     },
     "execution_count": 72,
     "metadata": {},
     "output_type": "execute_result"
    }
   ],
   "source": [
    "# EW berechnen\n",
    "ew, ev = np.linalg.eig( C )\n",
    "sort_order = np.flip( np.argsort( ew ) )\n",
    "ew = ew[sort_order]\n",
    "ev = ev[:,sort_order]\n",
    "\n",
    "# sp.Matrix( np.round(ev,4) )\n",
    "\n",
    "# V berechnen und diagonalisieren\n",
    "V = ev\n",
    "sp.Matrix( np.round( V.T @ C @ V, 4 ) )\n",
    "\n",
    "#Varianzanteil berechnen\n",
    "np.round( ew/np.sum(ew), 3 ) # zahl die am nächsten bei 1 ist erklärt die  varianz am besten"
   ]
  },
  {
   "cell_type": "markdown",
   "metadata": {},
   "source": [
    "c)"
   ]
  },
  {
   "cell_type": "code",
   "execution_count": 73,
   "metadata": {},
   "outputs": [
    {
     "data": {
      "text/plain": [
       "np.float64(1.0)"
      ]
     },
     "execution_count": 73,
     "metadata": {},
     "output_type": "execute_result"
    }
   ],
   "source": [
    "# wenn V.T@V=I, dann orthogonal\n",
    "np.round( V.T @ V, 10 )\n",
    "\n",
    "# det(V) muss +1/-1 sein\n",
    "np.linalg.det(V)"
   ]
  },
  {
   "cell_type": "markdown",
   "metadata": {},
   "source": [
    "## PCA"
   ]
  },
  {
   "cell_type": "markdown",
   "metadata": {},
   "source": [
    "Daten einlesen"
   ]
  },
  {
   "cell_type": "code",
   "execution_count": 74,
   "metadata": {},
   "outputs": [
    {
     "data": {
      "text/plain": [
       "((20, 2), (20, 2), (20, 2))"
      ]
     },
     "execution_count": 74,
     "metadata": {},
     "output_type": "execute_result"
    }
   ],
   "source": [
    "X1 = np.array([[0.51, 0.87],[0.77, 0.11],[0.87, 0.3 ],[0.01, 0.47],[0.31, 0.67],[0.96, 0.26],[0.51, 0.7 ],\n",
    "               [0.32, 0.66],[0.54, 0.18],[0.22, 0.32],[0.81, 0.89],[0.34, 0.08],[0.54, 0.75],[0.01, 0.06],\n",
    "               [0.67, 0.73],[0.21, 0.74],[0.93, 0.41],[0.37, 0.99],[0.75, 0.45],[0.76, 0.19]])\n",
    "\n",
    "X2 = np.array([[0.51, -1.08],[0.77, -2.01],[0.87, -2.03],[0.01, 0.19],[0.31, -0.37],[0.96, -1.6],\n",
    "               [0.51, -1.16],[0.32, -0.89],[0.54, -0.85],[0.22, -0.22],[0.81, -1.61],[0.34, -0.68],\n",
    "               [0.54, -1.42],[0.01, -0.07],[0.67, -1.01],[0.21, -0.65],[0.93, -1.98],[0.37, -0.78],\n",
    "               [0.75, -1.58],[0.76, -1.97]])\n",
    "\n",
    "X3 = np.array([[0.08,  0.1],[0.78, 0.78],[0.44, 0.45],[0.72, 0.66],[0.98, 1.05],[0.54, 0.55],[0.5, 0.48],\n",
    "               [0.07, 0.15],[0.27, 0.27],[0.5, 0.44],[0.68, 0.66],[0.8, 0.71],[0.38, 0.42],[0.07, 0.05],\n",
    "               [0.29, 0.26],[0.91, 0.95],[0.21, 0.14],[0.45, 0.47],[0.93, 0.85],[0.02, -0.01]]\n",
    ")\n",
    "X1.shape, X2.shape, X3.shape"
   ]
  },
  {
   "cell_type": "markdown",
   "metadata": {},
   "source": [
    "### Kovarianzmatrix berechnen\n",
    "\n",
    "- Auf der Diagonale: Varianzen der einzelnen Variablen\n",
    "- Nicht standardisiert, abhängig von der Skala der Variablen\n",
    "- Misst die Richtung der linearen Beziehung zwischen Variablen"
   ]
  },
  {
   "cell_type": "code",
   "execution_count": 75,
   "metadata": {},
   "outputs": [
    {
     "name": "stdout",
     "output_type": "stream",
     "text": [
      "Kovarianzmatrix:\n",
      "[[ 0.08474184 -0.00534816]\n",
      " [-0.00534816  0.08722395]] \n",
      "\n"
     ]
    }
   ],
   "source": [
    "def calc_cov(X):\n",
    "\n",
    "    mean_X = np.mean(X, axis=0)\n",
    "\n",
    "    X_ = (X-mean_X)\n",
    "    C = (1/(len(X)-1)) * X_.T @ X_\n",
    "\n",
    "    print(f\"Kovarianzmatrix:\\n{C} \\n\")\n",
    "\n",
    "    return C\n",
    "\n",
    "\n",
    "#calc covariance matrix\n",
    "C1 = calc_cov(X1)"
   ]
  },
  {
   "cell_type": "markdown",
   "metadata": {},
   "source": [
    "### Korrelationsmatrix berechnen\n",
    "\n",
    "- Auf der Diagonale: Immer 1, da jede Variable perfekt mit sich selbst korreliert\n",
    "- Standardisiert, Werte zwischen -1 und +11\n",
    "- Misst sowohl die Stärke als auch die Richtung der linearen Beziehung\n",
    "- Pearson-Korrelation bei den nicht einsen "
   ]
  },
  {
   "cell_type": "code",
   "execution_count": 76,
   "metadata": {},
   "outputs": [
    {
     "name": "stdout",
     "output_type": "stream",
     "text": [
      "Kovarianzmatrix:\n",
      "[[ 0.08474184 -0.00534816]\n",
      " [-0.00534816  0.08722395]] \n",
      "\n",
      "Korrelationsmatrix:\n",
      "[[ 1.         -0.06220673]\n",
      " [-0.06220673  1.        ]] \n",
      "\n"
     ]
    }
   ],
   "source": [
    "# X= Ursprüngliche Matrix, nicht Kovarianz Matrix!!\n",
    "def calc_cor(X):\n",
    "\n",
    "    C = calc_cov(X)\n",
    "    \n",
    "    # Berechne die Standardabweichungen aus der Diagonale der Kovarianzmatrix\n",
    "    std = np.sqrt(np.diag(C))\n",
    "    \n",
    "    # Berechne die Korrelationsmatrix\n",
    "    R = C / np.outer(std, std)\n",
    "\n",
    "\n",
    "    print(f\"Korrelationsmatrix:\\n{R} \\n\") \n",
    "\n",
    "    return R\n",
    "\n",
    "\n",
    "# R berechnen\n",
    "R1 = calc_cor(X1)"
   ]
  },
  {
   "cell_type": "markdown",
   "metadata": {},
   "source": [
    "### Eigenwerte / Eigenvektoren berechnen und sortieren"
   ]
  },
  {
   "cell_type": "code",
   "execution_count": 77,
   "metadata": {},
   "outputs": [
    {
     "data": {
      "text/plain": [
       "(array([0.09147316, 0.08049263]),\n",
       " array([[ 0.62207473, -0.78295787],\n",
       "        [-0.78295787, -0.62207473]]))"
      ]
     },
     "execution_count": 77,
     "metadata": {},
     "output_type": "execute_result"
    }
   ],
   "source": [
    "def calc_sorted_eig( M ):\n",
    "    \n",
    "    ew, ev = np.linalg.eig(M)\n",
    "\n",
    "    # Sortiere Indizes basierend auf den Eigenwerten in absteigender Reihenfolge\n",
    "    idx = ew.argsort()[::-1]\n",
    "    \n",
    "    # Sortiere Eigenwerte und Eigenvektoren\n",
    "    ew_sorted = ew[idx]\n",
    "    ev_sorted = ev[:, idx]\n",
    "    \n",
    "    return ew_sorted, ev_sorted\n",
    "\n",
    "\n",
    "# EW / EV berechnen\n",
    "ew1, ev1 = calc_sorted_eig(C1)\n",
    "# ew2, ev2 = calc_sorted_eig(C2)\n",
    "# ew3, ev3 = calc_sorted_eig(C3)\n",
    "ew1,ev1"
   ]
  },
  {
   "cell_type": "markdown",
   "metadata": {},
   "source": [
    "### Kovarianzmatrizen diagonalisieren"
   ]
  },
  {
   "cell_type": "code",
   "execution_count": 78,
   "metadata": {},
   "outputs": [
    {
     "name": "stdout",
     "output_type": "stream",
     "text": [
      "Diagonalised covariance matrix zu: \n",
      "[[0.0915 0.    ]\n",
      " [0.     0.0805]]\n",
      "\n"
     ]
    }
   ],
   "source": [
    "#calculate the diagonalised covariance matrix\n",
    "def diag_cov_matrix(ew):\n",
    "    D = np.diag(ew)\n",
    "    D = np.round(D, 4)\n",
    "    print(f\"Diagonalised covariance matrix zu: \\n{D}\\n\")\n",
    "    return D\n",
    "\n",
    "\n",
    "C1_diag = diag_cov_matrix(ew1)"
   ]
  },
  {
   "cell_type": "markdown",
   "metadata": {},
   "source": [
    "### Varianzanteile berechnen"
   ]
  },
  {
   "cell_type": "markdown",
   "metadata": {},
   "source": [
    "α1 = λ1/(λ1+λ2)\n",
    "\n",
    "α2 = λ2/(λ1+λ2)\n",
    "\n",
    "α1+α2= 100%"
   ]
  },
  {
   "cell_type": "code",
   "execution_count": 79,
   "metadata": {},
   "outputs": [
    {
     "name": "stdout",
     "output_type": "stream",
     "text": [
      "The variance ist True \n",
      " Alpha1: 53.2% \n",
      " Alpha2: 46.8% \n",
      " Check: 100.0%\n"
     ]
    }
   ],
   "source": [
    "# calculate the alpha 1+2 and check if they add up to 100% aka 1\n",
    "def varianzanteile(eigenvalues):\n",
    "    total_var = np.sum(eigenvalues)\n",
    "    var_anteile = eigenvalues / total_var * 100\n",
    "\n",
    "    alpha_1 = round(var_anteile[0,0], 1) #auf die erste Dezimalstelle gerundet\n",
    "    alpha_2 = round(var_anteile[1,1], 1) #auf die erste Dezimalstelle gerundet\n",
    "    sum_a1_a2 = alpha_1 + alpha_2\n",
    "\n",
    "    is_valid = True if (sum_a1_a2 == 100) else False\n",
    "\n",
    "    print(f\"The variance ist {is_valid} \\n Alpha1: {alpha_1}% \\n Alpha2: {alpha_2}% \\n Check: {sum_a1_a2}%\")\n",
    "    return alpha_1, alpha_2\n",
    "\n",
    " \n",
    "C1_var = varianzanteile(C1_diag)"
   ]
  },
  {
   "cell_type": "code",
   "execution_count": 80,
   "metadata": {},
   "outputs": [
    {
     "name": "stdout",
     "output_type": "stream",
     "text": [
      "0.875503767612632 0.0039110223371686785\n"
     ]
    },
    {
     "data": {
      "image/png": "[encoded data removed]",
      "text/plain": [
       "<Figure size 640x480 with 1 Axes>"
      ]
     },
     "metadata": {},
     "output_type": "display_data"
    },
    {
     "data": {
      "image/png": "[encoded data removed]",
      "text/plain": [
       "<Figure size 640x480 with 1 Axes>"
      ]
     },
     "metadata": {},
     "output_type": "display_data"
    },
    {
     "data": {
      "text/plain": [
       "array([[-4.01676393, -0.07584785,  0.21128902]])"
      ]
     },
     "execution_count": 80,
     "metadata": {},
     "output_type": "execute_result"
    }
   ],
   "source": [
    "def sorted_eig(M):\n",
    "    eigenvalues, eigenvectors = np.linalg.eig(M)\n",
    "    return eigenvalues, eigenvectors\n",
    "\n",
    "def simplePCA(A):\n",
    "    arrayList = []\n",
    "    sdList = []\n",
    "    #Getting mean and standard deviance for normalizing data\n",
    "    for i in range(0, len(A[0])):\n",
    "        arrayList.append(np.mean(A[:, i]))\n",
    "        sdList.append(np.std(A[:, i]))\n",
    "\n",
    "    #normalized data\n",
    "    S = (A - np.array(arrayList)) / np.array(sdList)\n",
    "\n",
    "    #calculate correlation matrix (if not normalized this formula can be used to get the Covariance matrix)\n",
    "    corr = (np.transpose(S) @ S) / (S.shape[0]-1)\n",
    "\n",
    "    #get eigenvectors from corr\n",
    "    ew, ev = sorted_eig(corr)\n",
    "    V = sorted_eig(corr)[1]\n",
    "\n",
    "    listOfOdds = []\n",
    "    for i in range(0, len(A[0])):\n",
    "        listOfOdds.append((ew[i] / sum(ew)))\n",
    "\n",
    "    #this is the actual PCA in the end\n",
    "    W = S @ V\n",
    "\n",
    "    #\"Gesamtvarianz\"\n",
    "    chance1l1, chance1l2 = ew[0] / sum(ew), ew[1] / sum(ew)\n",
    "    print(chance1l1, chance1l2)\n",
    "\n",
    "    #Scree Plots to visualize loss\n",
    "    cumListOfOdds = np.cumsum(listOfOdds)\n",
    "    plt.plot(np.arange(0, len(A[0])), listOfOdds)\n",
    "    plt.scatter(np.arange(0, len(A[0])), listOfOdds)\n",
    "    plt.title(\"Scree Plot\")\n",
    "    plt.show()\n",
    "\n",
    "    plt.plot(np.arange(0, len(A[0])), cumListOfOdds)\n",
    "    plt.scatter(np.arange(0, len(A[0])), cumListOfOdds)\n",
    "    plt.title(\"Cumulative Scree Plot\")\n",
    "    plt.show()\n",
    "\n",
    "    return W\n",
    "\n",
    "\n",
    "W = simplePCA(X)\n",
    "\n",
    "data = W[:1]\n",
    "data\n"
   ]
  },
  {
   "cell_type": "markdown",
   "metadata": {},
   "source": [
    "## Kapitel 4 - Vektorräume\n"
   ]
  },
  {
   "cell_type": "markdown",
   "metadata": {},
   "source": [
    "Spaltenvektoren Bild / Kern:\n",
    "\n",
    "Vektor"
   ]
  },
  {
   "cell_type": "code",
   "execution_count": 81,
   "metadata": {},
   "outputs": [
    {
     "name": "stdout",
     "output_type": "stream",
     "text": [
      "Matrix([[1, 0, 1]])\n"
     ]
    },
    {
     "data": {
      "text/latex": [
       "$\\displaystyle \\left\\{\\left( 1, \\  \\tau_{0}\\right)\\right\\}$"
      ],
      "text/plain": [
       "{(1, tau0)}"
      ]
     },
     "execution_count": 81,
     "metadata": {},
     "output_type": "execute_result"
    }
   ],
   "source": [
    "A = sp.Matrix([[1,0,1]])\n",
    "print(A)\n",
    "\n",
    "\n",
    "#Spaltenvektoren Bild\n",
    "A.T.rref( pivots=False ).T\n",
    "\n",
    "# es bleibt Spaltenvektor \"1\" übrig, also ist die Matrix linear abhängig. \n",
    "# das Bild ist also R\n",
    "\n",
    "#Kern\n",
    "sp.linsolve( A )\n",
    "#der zweite wert ist der Parameter und ist frei wählbar"
   ]
  },
  {
   "cell_type": "markdown",
   "metadata": {},
   "source": [
    "Spaltenvektoren Bild / Kern:\n",
    "\n",
    "Matrix"
   ]
  },
  {
   "cell_type": "code",
   "execution_count": 82,
   "metadata": {},
   "outputs": [
    {
     "data": {
      "text/latex": [
       "$\\displaystyle \\left\\{\\left( - 2 \\tau_{0}, \\  0, \\  \\tau_{0}\\right)\\right\\}$"
      ],
      "text/plain": [
       "{(-2*tau0, 0, tau0)}"
      ]
     },
     "execution_count": 82,
     "metadata": {},
     "output_type": "execute_result"
    }
   ],
   "source": [
    "B = sp.Matrix([[1, 3, 2],[2, 4, 4],[3, 5, 6]])\n",
    "\n",
    "\n",
    "#Spaltenvektoren Bild\n",
    "B.T.rref( pivots=False ).T\n",
    "\n",
    "# Kern:\n",
    "sp.linsolve( (B, sp.zeros(3)) )"
   ]
  },
  {
   "cell_type": "markdown",
   "metadata": {},
   "source": [
    "## Kapitel 5 - Quad. Form / positive Definitheit\n"
   ]
  },
  {
   "cell_type": "markdown",
   "metadata": {},
   "source": [
    "wenn Quadriken gewünscht, dann unter \"le2_lineare_regression/le2_quadrikenqfgeometry.ipynb\" nachschauen\n",
    "\n",
    "\n",
    "Prüfen ob eine Matrix positiv definit ist"
   ]
  },
  {
   "cell_type": "code",
   "execution_count": 83,
   "metadata": {},
   "outputs": [],
   "source": [
    "def positiv_definit(A):\n",
    "    ew = np.linalg.eigvals(A)\n",
    "    return np.all(ew>0)"
   ]
  },
  {
   "cell_type": "code",
   "execution_count": 84,
   "metadata": {},
   "outputs": [
    {
     "data": {
      "text/plain": [
       "np.False_"
      ]
     },
     "execution_count": 84,
     "metadata": {},
     "output_type": "execute_result"
    }
   ],
   "source": [
    "A = np.array([[1,2],[2,1]])\n",
    "positiv_definit(A)\n",
    "\n",
    "# wenn np.True_  =>  dann ist die Matrix positiv definit\n",
    "# wenn np.False_ => dann ist die Matrix nicht positiv definit"
   ]
  },
  {
   "cell_type": "markdown",
   "metadata": {},
   "source": [
    "## Lineare Regression"
   ]
  },
  {
   "cell_type": "markdown",
   "metadata": {},
   "source": [
    "### Normalengleichung\n",
    "\n",
    "wir haben folgende Matrizen\n",
    "\n",
    "$$\n",
    "X = \\begin{pmatrix}\n",
    "1 & x_1 \\\\\n",
    "1 & x_2 \\\\\n",
    "\\vdots & \\vdots \\\\\n",
    "1 & x_n\n",
    "\\end{pmatrix}, \\quad\n",
    "\\mathbf{y} = \\begin{pmatrix}\n",
    "y_1 \\\\\n",
    "y_2 \\\\\n",
    "\\vdots \\\\\n",
    "y_n\n",
    "\\end{pmatrix}, \\quad\n",
    "\\hat{\\mathbf{y}} = \\begin{pmatrix}\n",
    "\\hat{y}_1 \\\\\n",
    "\\hat{y}_2 \\\\\n",
    "\\vdots \\\\\n",
    "\\hat{y}_n\n",
    "\\end{pmatrix}, \\quad \\text{und} \\quad\n",
    "\\beta = \\begin{pmatrix}\n",
    "q \\\\\n",
    "m\n",
    "\\end{pmatrix}.\n",
    "\\\\\n",
    "$$\n",
    "\n",
    "\n",
    "\n",
    "\n",
    "und berechnen Beta mit:\n",
    "\n",
    "$$\n",
    "\\boldsymbol{\\beta} = (X^T X)^{-1} \\, X^T \\, \\mathbf{y}\n",
    "$$\n",
    "\n",
    "die Parameter $\\boldsymbol{\\beta}$ der Regressionsgerade bestimmen"
   ]
  },
  {
   "cell_type": "code",
   "execution_count": 85,
   "metadata": {},
   "outputs": [],
   "source": [
    "# 1. Daten einlesen\n",
    "data = pd.read_csv(\"le2_lineare_regression/height_weight_data.csv\")        # Anpassen\n",
    "x = np.array(data.height)                           # Anpassen\n",
    "y = np.array(data.weight)                           # Anpassen\n",
    "\n",
    "\n",
    "# 2. Daten transponieren\n",
    "x_trans = np.array(x).reshape(-1, 1)\n",
    "y_trans = np.array(y).reshape(-1, 1)\n",
    "\n",
    "\n",
    "# 3. X und y definieren\n",
    "X = np.hstack([np.ones_like(x_trans), x_trans])\n",
    "y = y_trans\n",
    "\n",
    "\n",
    "# 4. Beta berechnen\n",
    "beta = np.linalg.inv(X.T@X)@X.T@y"
   ]
  },
  {
   "cell_type": "code",
   "execution_count": 86,
   "metadata": {},
   "outputs": [
    {
     "data": {
      "text/plain": [
       "Text(0, 0.5, 'Körpergewicht [kg]')"
      ]
     },
     "execution_count": 86,
     "metadata": {},
     "output_type": "execute_result"
    },
    {
     "data": {
      "image/png": "[encoded data removed]",
      "text/plain": [
       "<Figure size 640x480 with 1 Axes>"
      ]
     },
     "metadata": {},
     "output_type": "display_data"
    }
   ],
   "source": [
    "plt.scatter(x, y)\n",
    "plt.xlabel(\"Körpergrösse [cm]\")         # Anpassen\n",
    "plt.ylabel(\"Körpergewicht [kg]\")        # Anpassen"
   ]
  },
  {
   "cell_type": "markdown",
   "metadata": {},
   "source": [
    "Mit Regressionsparameter $\\boldsymbol{\\beta}$ die vorhergesagten Werte $\\mathbf{\\hat{y}}$ berechnen: \n",
    "\n",
    "\n",
    "$\\mathbf{\\hat{y}} = X\\boldsymbol{\\beta}$\n",
    "\n",
    "**Hinweis:** $\\mathbf{\\hat{y}}$ hat natürlich die gleichen Dimensionen wie $\\mathbf{y}$."
   ]
  },
  {
   "cell_type": "code",
   "execution_count": 87,
   "metadata": {},
   "outputs": [
    {
     "data": {
      "text/plain": [
       "True"
      ]
     },
     "execution_count": 87,
     "metadata": {},
     "output_type": "execute_result"
    }
   ],
   "source": [
    "y_hat = X@beta\n",
    "\n",
    "np.ndim(y) == np.ndim(y_hat)\n",
    "# y_hat"
   ]
  },
  {
   "cell_type": "code",
   "execution_count": 88,
   "metadata": {},
   "outputs": [
    {
     "data": {
      "text/plain": [
       "Text(0, 0.5, 'Körpergewicht [kg]')"
      ]
     },
     "execution_count": 88,
     "metadata": {},
     "output_type": "execute_result"
    },
    {
     "data": {
      "image/png": "[encoded data removed]",
      "text/plain": [
       "<Figure size 640x480 with 1 Axes>"
      ]
     },
     "metadata": {},
     "output_type": "display_data"
    }
   ],
   "source": [
    "plt.scatter(x,y, label='ursprüngliche Datenpunkte')\n",
    "plt.plot(x, y_hat, color = \"red\", label='Regressionsgerade')\n",
    "plt.xlabel(\"Körpergrosse [cm] \")                                                # Anpassen\n",
    "plt.ylabel(\"Körpergewicht [kg]\")"
   ]
  },
  {
   "cell_type": "markdown",
   "metadata": {},
   "source": [
    "#### RMSE berechnen\n",
    "\n",
    "Root Mean Square Error "
   ]
  },
  {
   "cell_type": "markdown",
   "metadata": {},
   "source": [
    "$$\n",
    "\\text{RMSE} = \\sqrt{ \\frac1n \\sum_i |y_i - \\hat{y}_i|^2 } = \\sqrt{ \\frac1n (\\mathbf{y} - \\mathbf{\\hat{y}})^T \\, (\\mathbf{y} - \\mathbf{\\hat{y}}) }\n",
    "$$\n",
    "\n",
    "Maß für  durchschnittliche Abweichung zwischen vorhergesagten und tatsächlichen Werten"
   ]
  },
  {
   "cell_type": "code",
   "execution_count": 89,
   "metadata": {},
   "outputs": [
    {
     "data": {
      "text/plain": [
       "array([[2.09221852]])"
      ]
     },
     "execution_count": 89,
     "metadata": {},
     "output_type": "execute_result"
    }
   ],
   "source": [
    "y_y_hat = y-y_hat\n",
    "RSME = np.sqrt((1/len(y))*y_y_hat.T@y_y_hat)\n",
    "RSME"
   ]
  },
  {
   "cell_type": "markdown",
   "metadata": {},
   "source": [
    "### Eigenschaften Projektsionsproblem überprüfen"
   ]
  },
  {
   "cell_type": "markdown",
   "metadata": {},
   "source": [
    "mit Skalarprodukt prüfen, ob $\\mathbf{\\hat{y}}$ und $\\mathbf{y} - \\mathbf{\\hat{y}}$  senkrecht zueinander stehen:"
   ]
  },
  {
   "cell_type": "code",
   "execution_count": 90,
   "metadata": {},
   "outputs": [
    {
     "data": {
      "text/plain": [
       "array([[-5.83136181e-10]])"
      ]
     },
     "execution_count": 90,
     "metadata": {},
     "output_type": "execute_result"
    }
   ],
   "source": [
    "skal_prod = np.dot(y_hat.T, y_y_hat)\n",
    "skal_prod"
   ]
  },
  {
   "cell_type": "markdown",
   "metadata": {},
   "source": [
    "Projektionsmatrix $H = X \\, (X^T X)^{-1} \\, X^T$, die jeden Vektor $\\mathbf{y}$ auf den Spaltenraum von $X$ projiziert berechnen"
   ]
  },
  {
   "cell_type": "code",
   "execution_count": 91,
   "metadata": {},
   "outputs": [],
   "source": [
    "H = X@np.linalg.inv(X.T@X)@X.T"
   ]
  },
  {
   "cell_type": "markdown",
   "metadata": {},
   "source": [
    "Zeigen, dass $H^2 = H$ und $H$ damit Projektionsmatrix ist. "
   ]
  },
  {
   "cell_type": "code",
   "execution_count": 92,
   "metadata": {},
   "outputs": [
    {
     "data": {
      "text/plain": [
       "array([[False, False, False, False, False, False, False, False, False,\n",
       "        False, False, False, False, False, False],\n",
       "       [False, False, False, False, False, False, False, False, False,\n",
       "        False, False, False, False, False, False],\n",
       "       [False, False, False, False, False, False, False, False, False,\n",
       "        False, False, False, False, False, False],\n",
       "       [False, False, False, False, False, False, False, False, False,\n",
       "        False, False, False, False, False, False],\n",
       "       [False, False, False, False, False, False, False, False, False,\n",
       "        False, False, False, False, False, False],\n",
       "       [False, False, False, False, False, False, False, False, False,\n",
       "        False, False, False, False, False, False],\n",
       "       [False, False, False, False, False, False, False, False, False,\n",
       "        False, False, False, False, False, False],\n",
       "       [False, False, False, False, False, False, False, False, False,\n",
       "        False, False, False, False, False, False],\n",
       "       [False, False, False, False, False, False, False, False, False,\n",
       "        False, False, False, False, False, False],\n",
       "       [False, False, False, False, False, False, False, False, False,\n",
       "        False, False, False, False, False, False],\n",
       "       [False, False, False, False, False, False, False, False, False,\n",
       "        False, False, False, False, False, False],\n",
       "       [False, False, False, False, False, False, False, False, False,\n",
       "        False, False, False, False, False, False],\n",
       "       [False, False, False, False, False, False, False, False, False,\n",
       "        False, False, False, False, False, False],\n",
       "       [False, False, False, False, False, False, False, False, False,\n",
       "        False, False, False, False, False, False],\n",
       "       [False, False, False, False, False, False, False, False, False,\n",
       "        False, False, False, False, False, False]])"
      ]
     },
     "execution_count": 92,
     "metadata": {},
     "output_type": "execute_result"
    }
   ],
   "source": [
    "H_2 = H@H\n",
    "H_2 == H"
   ]
  },
  {
   "cell_type": "markdown",
   "metadata": {},
   "source": [
    "Eigenwerte von $H$ berechnen. Was ist besonders? "
   ]
  },
  {
   "cell_type": "code",
   "execution_count": 93,
   "metadata": {},
   "outputs": [
    {
     "data": {
      "text/plain": [
       "(array([-1.83354955e-17+0.00000000e+00j,  1.00000000e+00+0.00000000e+00j,\n",
       "         1.00000000e+00+0.00000000e+00j,  5.94970457e-19+2.45234255e-17j,\n",
       "         5.94970457e-19-2.45234255e-17j, -3.27938314e-17+0.00000000e+00j,\n",
       "         1.53813801e-17+8.24708765e-18j,  1.53813801e-17-8.24708765e-18j,\n",
       "        -2.46398781e-17+0.00000000e+00j, -1.93676606e-17+0.00000000e+00j,\n",
       "         3.22912007e-18+4.30482757e-18j,  3.22912007e-18-4.30482757e-18j,\n",
       "        -3.40527370e-18+0.00000000e+00j, -2.93049632e-19+0.00000000e+00j,\n",
       "         1.17423593e-33+0.00000000e+00j]),\n",
       " array([[-9.50675753e-01+0.j        ,  2.72572330e-01+0.j        ,\n",
       "          1.13078583e-01+0.j        , -1.54333846e-01-0.03819243j,\n",
       "         -1.54333846e-01+0.03819243j, -5.08203793e-01+0.j        ,\n",
       "          3.94979276e-03+0.04018719j,  3.94979276e-03-0.04018719j,\n",
       "          6.84716321e-01+0.j        , -9.44637654e-01+0.j        ,\n",
       "          7.04955249e-02+0.12277649j,  7.04955249e-02-0.12277649j,\n",
       "         -1.95591414e-01+0.j        ,  1.08084755e-01+0.j        ,\n",
       "         -2.00840889e-15+0.j        ],\n",
       "        [ 5.39088383e-02+0.j        ,  2.49116995e-01+0.j        ,\n",
       "         -1.42526080e-01+0.j        , -2.55020844e-02-0.20371524j,\n",
       "         -2.55020844e-02+0.20371524j,  2.91713687e-01+0.j        ,\n",
       "          2.85619303e-02+0.06397661j,  2.85619303e-02-0.06397661j,\n",
       "         -1.35355274e-01+0.j        ,  8.00249170e-02+0.j        ,\n",
       "          7.36718953e-02+0.09582497j,  7.36718953e-02-0.09582497j,\n",
       "         -3.79196594e-02+0.j        , -1.99487819e-02+0.j        ,\n",
       "          4.98081450e-16+0.j        ],\n",
       "        [ 9.78291180e-02+0.j        ,  2.70896949e-01+0.j        ,\n",
       "          9.48211073e-02+0.j        , -1.06528089e-01+0.08977702j,\n",
       "         -1.06528089e-01-0.08977702j, -2.51381380e-02+0.j        ,\n",
       "          1.90737790e-01+0.07392939j,  1.90737790e-01-0.07392939j,\n",
       "         -2.15221594e-02+0.j        ,  9.95343685e-02+0.j        ,\n",
       "         -6.58124603e-03-0.04122472j, -6.58124603e-03+0.04122472j,\n",
       "          8.16319088e-02+0.j        , -3.22707513e-02+0.j        ,\n",
       "          6.16672271e-16+0.j        ],\n",
       "        [ 1.58641813e-01+0.j        ,  3.01053808e-01+0.j        ,\n",
       "          4.23455674e-01+0.j        ,  3.44127158e-01+0.1534205j ,\n",
       "          3.44127158e-01-0.1534205j ,  1.68014005e-02+0.j        ,\n",
       "          3.27600144e-02-0.14764648j,  3.27600144e-02+0.14764648j,\n",
       "          1.77312642e-02+0.j        ,  1.75744718e-01+0.j        ,\n",
       "          1.66591723e-01+0.00402356j,  1.66591723e-01-0.00402356j,\n",
       "          1.29991552e-01+0.j        , -1.48154738e-01+0.j        ,\n",
       "          3.10707952e-15+0.j        ],\n",
       "        [ 3.70164230e-02+0.j        ,  2.40740089e-01+0.j        ,\n",
       "         -2.33813459e-01+0.j        ,  1.36926285e-01+0.01956528j,\n",
       "          1.36926285e-01-0.01956528j,  2.00357137e-01+0.j        ,\n",
       "          2.88693700e-01-0.17138353j,  2.88693700e-01+0.17138353j,\n",
       "         -1.96221166e-01+0.j        ,  7.62732192e-02+0.j        ,\n",
       "          2.02399969e-01-0.19243079j,  2.02399969e-01+0.19243079j,\n",
       "         -1.22005878e-01+0.j        , -7.30610749e-02+0.j        ,\n",
       "          2.19393020e-15+0.j        ],\n",
       "        [ 9.78291180e-02+0.j        ,  2.70896949e-01+0.j        ,\n",
       "          9.48211073e-02+0.j        , -9.67756471e-02+0.12188209j,\n",
       "         -9.67756471e-02-0.12188209j, -8.01128153e-02+0.j        ,\n",
       "          1.28954092e-01+0.16061376j,  1.28954092e-01-0.16061376j,\n",
       "          6.34462774e-02+0.j        ,  9.09513531e-02+0.j        ,\n",
       "          1.68549281e-01+0.12425595j,  1.68549281e-01-0.12425595j,\n",
       "         -1.10542370e-01+0.j        , -2.86701714e-01+0.j        ,\n",
       "         -7.07106781e-01+0.j        ],\n",
       "        [ 9.10721519e-02+0.j        ,  2.67546187e-01+0.j        ,\n",
       "          5.83061555e-02+0.j        , -1.51174080e-01-0.18546921j,\n",
       "         -1.51174080e-01+0.18546921j,  2.11857497e-02+0.j        ,\n",
       "         -2.19880616e-01-0.05184361j, -2.19880616e-01+0.05184361j,\n",
       "         -6.46164886e-02+0.j        ,  9.38362105e-02+0.j        ,\n",
       "         -6.21480561e-01+0.j        , -6.21480561e-01-0.j        ,\n",
       "         -6.55103555e-01+0.j        ,  8.51042575e-01+0.j        ,\n",
       "         -1.74565689e-14+0.j        ],\n",
       "        [-4.40671703e-02+0.j        ,  2.00530943e-01+0.j        ,\n",
       "         -6.71992881e-01+0.j        ,  1.15966221e-01+0.01128004j,\n",
       "          1.15966221e-01-0.01128004j, -4.53407018e-01+0.j        ,\n",
       "          8.90294563e-03+0.01935667j,  8.90294563e-03-0.01935667j,\n",
       "          1.40309508e-01+0.j        , -3.60149182e-02+0.j        ,\n",
       "          8.12475416e-02+0.16136525j,  8.12475416e-02-0.16136525j,\n",
       "          3.47733005e-02+0.j        , -5.94941573e-02+0.j        ,\n",
       "          1.50017389e-15+0.j        ],\n",
       "        [ 3.36379400e-02+0.j        ,  2.39064708e-01+0.j        ,\n",
       "         -2.52070935e-01+0.j        , -4.72735613e-01+0.j        ,\n",
       "         -4.72735613e-01-0.j        ,  4.63688788e-02+0.j        ,\n",
       "         -5.60635736e-01+0.j        , -5.60635736e-01-0.j        ,\n",
       "         -5.90254758e-02+0.j        ,  1.07771221e-02+0.j        ,\n",
       "          1.04880794e-02+0.17699989j,  1.04880794e-02-0.17699989j,\n",
       "          4.49254174e-01+0.j        , -1.53042813e-01+0.j        ,\n",
       "          1.22741500e-15+0.j        ],\n",
       "        [ 6.06658044e-02+0.j        ,  2.52467757e-01+0.j        ,\n",
       "         -1.06011128e-01+0.j        ,  9.11492554e-02-0.13928546j,\n",
       "          9.11492554e-02+0.13928546j,  2.33460436e-01+0.j        ,\n",
       "         -1.77713077e-01-0.07479019j, -1.77713077e-01+0.07479019j,\n",
       "         -1.02285386e-01+0.j        ,  6.46141423e-02+0.j        ,\n",
       "         -3.42860828e-01-0.08516411j, -3.42860828e-01+0.08516411j,\n",
       "          1.06613849e-01+0.j        , -1.24082782e-01+0.j        ,\n",
       "          2.08719846e-15+0.j        ],\n",
       "        [ 1.67455247e-02+0.j        ,  2.30687803e-01+0.j        ,\n",
       "         -3.43358315e-01+0.j        ,  1.70789245e-01+0.42111807j,\n",
       "          1.70789245e-01-0.42111807j,  4.03263569e-01+0.j        ,\n",
       "          4.48038852e-01-0.03170168j,  4.48038852e-01+0.03170168j,\n",
       "         -7.02042334e-02+0.j        ,  2.11761068e-02+0.j        ,\n",
       "          1.44142782e-01-0.08279097j,  1.44142782e-01+0.08279097j,\n",
       "         -1.55174952e-01+0.j        ,  1.16918143e-02+0.j        ,\n",
       "          4.26926957e-16+0.j        ],\n",
       "        [ 1.18100016e-01+0.j        ,  2.80949235e-01+0.j        ,\n",
       "          2.04365963e-01+0.j        , -1.89884150e-03+0.02363291j,\n",
       "         -1.89884150e-03-0.02363291j,  1.49762489e-01+0.j        ,\n",
       "         -4.06345076e-02-0.01470649j, -4.06345076e-02+0.01470649j,\n",
       "         -5.51154518e-01+0.j        ,  1.39416254e-01+0.j        ,\n",
       "          1.38564101e-01+0.05423972j,  1.38564101e-01-0.05423972j,\n",
       "          4.52171922e-01+0.j        , -2.51007235e-01+0.j        ,\n",
       "          4.45549422e-15+0.j        ],\n",
       "        [ 9.78291180e-02+0.j        ,  2.70896949e-01+0.j        ,\n",
       "          9.48211073e-02+0.j        , -9.14425418e-02+0.11822262j,\n",
       "         -9.14425418e-02-0.11822262j, -7.35751266e-02+0.j        ,\n",
       "          1.23438345e-01+0.157311j  ,  1.23438345e-01-0.157311j  ,\n",
       "          5.96052189e-02+0.j        ,  9.16047010e-02+0.j        ,\n",
       "          1.73866484e-01+0.11516006j,  1.73866484e-01-0.11516006j,\n",
       "         -1.45226451e-01+0.j        ,  1.87677775e-03+0.j        ,\n",
       "          7.07106781e-01+0.j        ],\n",
       "        [ 5.72873213e-02+0.j        ,  2.50792376e-01+0.j        ,\n",
       "         -1.24268604e-01+0.j        ,  3.03509542e-01-0.15411331j,\n",
       "          3.03509542e-01+0.15411331j,  1.44949853e-01+0.j        ,\n",
       "         -3.02385226e-01+0.11697548j, -3.02385226e-01-0.11697548j,\n",
       "         -9.71445467e-02+0.j        ,  5.72666781e-02+0.j        ,\n",
       "         -1.88681301e-01-0.26132683j, -1.88681301e-01+0.26132683j,\n",
       "          4.83604266e-02+0.j        ,  2.14600531e-01+0.j        ,\n",
       "         -4.86222368e-15+0.j        ],\n",
       "        [ 7.41797366e-02+0.j        ,  2.59169281e-01+0.j        ,\n",
       "         -3.29812241e-02+0.j        , -6.20769640e-02-0.23812287j,\n",
       "         -6.20769640e-02+0.23812287j, -3.67426310e-01+0.j        ,\n",
       "          4.72117003e-02-0.1402781j ,  4.72117003e-02+0.1402781j ,\n",
       "          3.31720657e-01+0.j        , -2.05672176e-02+0.j        ,\n",
       "         -7.04134460e-02-0.19170846j, -7.04134460e-02+0.19170846j,\n",
       "          1.18767145e-01+0.j        , -3.95324063e-02+0.j        ,\n",
       "          8.18276668e-16+0.j        ]]))"
      ]
     },
     "execution_count": 93,
     "metadata": {},
     "output_type": "execute_result"
    }
   ],
   "source": [
    "ew, ev = np.linalg.eig(H)\n",
    "ew, ev"
   ]
  },
  {
   "cell_type": "markdown",
   "metadata": {},
   "source": [
    "Visualisierung des Loss surface in der MiniChallange LE2"
   ]
  },
  {
   "cell_type": "markdown",
   "metadata": {},
   "source": [
    "## Kapitel 7 - Basistransformation"
   ]
  },
  {
   "cell_type": "markdown",
   "metadata": {},
   "source": [
    "Wie sieht sie in ihrer Eigenbasis aus und wie sieht die dazu nötige Basistransformation aus? Ist die\n",
    "quadratische Form positiv definit?"
   ]
  },
  {
   "cell_type": "code",
   "execution_count": 94,
   "metadata": {},
   "outputs": [],
   "source": [
    "# Matrix einlesen\n",
    "A = sp.Matrix([[ 4, -1, -2], [-1,  3, -1], [-2, -1,  4]])\n",
    "\n",
    "\n",
    "# EW berechnen\n",
    "ew = A.eigenvals() \n",
    "ew                      # wenn nur positive Werte, dann ist die Matrix positiv definit\n",
    "\n",
    "# EV bestimmen / normieren\n",
    "v1 = A.eigenvects()[0][2][0]\n",
    "v2 = A.eigenvects()[1][2][0]\n",
    "v3 = A.eigenvects()[2][2][0]\n",
    "\n"
   ]
  },
  {
   "cell_type": "markdown",
   "metadata": {},
   "source": [
    "Mit welcher vorgängigen Basistransformation T kann wieder ganz normal das Standardskalarprodukt benutzt werden? Wie lautet die Basis, in die T transformiert?\n",
    "\n",
    "Hinweis: Benutze np.linalg.cholesky() um eine Matrix B mit B\n",
    "T B = A zu finden. Achtung,\n",
    "die Numpy-Funktion gibt nicht direkt die Matrix B zurück."
   ]
  },
  {
   "cell_type": "code",
   "execution_count": 95,
   "metadata": {},
   "outputs": [],
   "source": [
    "# Daten einlesen\n",
    "A = np.array([[4,2],[2,2]])\n",
    "\n",
    "\n",
    "#Chlesky Zerlegung  ->  A = B.T @ B \n",
    "# Zerlegung der pos def Matrix A in das Produkt einer unteren Dreiecksmatrix  und deren Transponierte\n",
    "B = np.linalg.cholesky(A).T\n",
    "B\n",
    "\n",
    "B.T.dot(B)\n",
    "\n",
    "#inverse zum Ablesen der Matrix\n",
    "Binv = np.linalg.inv(B)\n",
    "\n",
    "\n",
    "\n",
    "# optionaler quercheck\n",
    "v1 = Binv[:,0].reshape(-1,1)\n",
    "v2 = Binv[:,1].reshape(-1,1)"
   ]
  },
  {
   "cell_type": "markdown",
   "metadata": {},
   "source": [
    "## Kapitel 8 - Normen, Distanzen, Ähnlichkeitsmasse"
   ]
  },
  {
   "cell_type": "code",
   "execution_count": 96,
   "metadata": {},
   "outputs": [],
   "source": [
    "### Funktion ohne Numpy:\n",
    "\n",
    "def lpnorm( x, p=2 ):\n",
    "    if p < 1:\n",
    "        raise Exception(\"keine Norm!\")\n",
    "    elif np.isinf(p):\n",
    "        return np.max( np.abs(x) )\n",
    "    else:\n",
    "        return np.sum( np.abs(x)**p )**(1/p)\n"
   ]
  },
  {
   "cell_type": "markdown",
   "metadata": {},
   "source": [
    "### Vektornormen\n",
    "\n",
    "Eigenschaften:\n",
    "- positiv definit\n",
    "- absolut homogen\n",
    "- Dreiecksungleichung"
   ]
  },
  {
   "cell_type": "code",
   "execution_count": 97,
   "metadata": {},
   "outputs": [
    {
     "data": {
      "text/plain": [
       "np.float64(2.0)"
      ]
     },
     "execution_count": 97,
     "metadata": {},
     "output_type": "execute_result"
    }
   ],
   "source": [
    "# Summe aller !=0 Werte; keine echte Norm, da Dreiecksungleichung nicht erfüllt\n",
    "def l0_norm(v):\n",
    "    return np.count_nonzero(v)\n",
    "\n",
    "# Manhattan-Norm; a^2+b^2 vom Satz des Pythagoras\n",
    "def l1_norm(v):\n",
    "    return np.linalg.norm(v, ord=1)\n",
    "\n",
    "# euklydische Norm; c^2 vom Satz des Pythagoras\n",
    "def l2_norm(v):\n",
    "    return np.linalg.norm(v)\n",
    "\n",
    "# läuft gegen unentlich\n",
    "def lmax_norm(v):\n",
    "    return np.linalg.norm(v, ord=np.inf)\n",
    "\n",
    "# für beliebiges p Norm berechnen\n",
    "def lp_norm(v, p):\n",
    "    return np.linalg.norm(v, ord=p)\n",
    "\n",
    "\n",
    "a= np.array([1,0,1,-2])\n",
    "a_max = lmax_norm(a)\n",
    "a_max"
   ]
  },
  {
   "cell_type": "markdown",
   "metadata": {},
   "source": [
    "### Matrizennormen\n",
    "\n",
    "Eigenschaften:\n",
    "- positiv definit\n",
    "- absolut homogen\n",
    "- Dreiecksungleichung"
   ]
  },
  {
   "cell_type": "code",
   "execution_count": 106,
   "metadata": {},
   "outputs": [],
   "source": [
    "# Matrix äquivalent zu l2\n",
    "def frobenius_norm(A):\n",
    "    return np.linalg.norm(A, 'fro')\n",
    "\n",
    "# Wurzel aus grösstem EW; \n",
    "def spectral_norm(A):\n",
    "    return np.linalg.norm(A, ord=2)\n",
    "\n",
    "# gibt grösse absolute Zahl zurück\n",
    "def max_norm(A):\n",
    "    return np.linalg.norm(A, ord=np.inf)\n",
    "\n",
    "# grösste Spaltensumme \n",
    "def column_norm(A):\n",
    "    return np.linalg.norm(A, ord=1)\n",
    "\n",
    "# grösste Zeilensumme \n",
    "def row_norm(A):\n",
    "    return np.linalg.norm(A, ord=np.inf)\n",
    "\n",
    "# Summe aller absoluten Werte\n",
    "def sum_norm(A):\n",
    "    return np.sum(np.abs(A))\n",
    "\n",
    "\n",
    "# all in one\n",
    "def calc_matrix_norms(A):\n",
    "    fro     = np.linalg.norm(A, 'fro')\n",
    "    spekt   = np.linalg.norm(A, ord=2)\n",
    "    maxi    = np.linalg.norm(A, ord=np.inf)\n",
    "    colm    = np.linalg.norm(A, ord=1)\n",
    "    rown    = np.linalg.norm(A, ord=np.inf)\n",
    "    sumn    = np.sum(np.abs(A))\n",
    "\n",
    "    norms = {\n",
    "        \"Frobenius-Norm\": fro,\n",
    "        \"Spektral-Norm\": spekt,\n",
    "        \"Maximum-Norm\": maxi,\n",
    "        \"Spalten-Norm\": colm,\n",
    "        \"Zeilen-Norm\": rown,\n",
    "        \"Summen-Norm\": sumn\n",
    "    }\n",
    "       \n",
    "    print(\"Matrix:\")\n",
    "    print(A)\n",
    "    print(\"\\nBerechnete Matrixnormen:\")\n",
    "    for name, value in norms.items():\n",
    "        print(f\"{name}: {value}\")\n",
    "\n",
    "    return fro, spekt, maxi, colm, rown, sumn"
   ]
  },
  {
   "cell_type": "code",
   "execution_count": 107,
   "metadata": {},
   "outputs": [
    {
     "name": "stdout",
     "output_type": "stream",
     "text": [
      "Matrix:\n",
      "[[0.5 0. ]\n",
      " [0.5 0. ]]\n",
      "\n",
      "Berechnete Matrixnormen:\n",
      "Frobenius-Norm: 0.7071067811865476\n",
      "Spektral-Norm: 0.7071067811865476\n",
      "Maximum-Norm: 0.5\n",
      "Spalten-Norm: 1.0\n",
      "Zeilen-Norm: 0.5\n",
      "Summen-Norm: 1.0\n"
     ]
    },
    {
     "data": {
      "text/plain": [
       "(np.float64(0.7071067811865476),\n",
       " np.float64(0.7071067811865476),\n",
       " np.float64(0.5),\n",
       " np.float64(1.0),\n",
       " np.float64(0.5),\n",
       " np.float64(1.0))"
      ]
     },
     "execution_count": 107,
     "metadata": {},
     "output_type": "execute_result"
    }
   ],
   "source": [
    "A = np.array([[1,0],[0,0]])\n",
    "B = np.array([[0,0],[1,1]])\n",
    "C = np.array([[0.5, 0],[0.5,0]])\n",
    "\n",
    "norm = calc_matrix_norms(C)\n",
    "norm\n"
   ]
  },
  {
   "cell_type": "markdown",
   "metadata": {},
   "source": [
    "### Distanzmasse / Metriken\n",
    "\n",
    "Unterschiede/Distanz zwischen zwei Vektoren.\n",
    "\n",
    "Folgende Axiome müssen gelten:\n",
    "- Positiv definit\n",
    "- Symetrisch\n",
    "- Dreiecksungleichung"
   ]
  },
  {
   "cell_type": "code",
   "execution_count": 100,
   "metadata": {},
   "outputs": [
    {
     "name": "stdout",
     "output_type": "stream",
     "text": [
      "Minkowski Distanz: 2.2361\n",
      "Euclidean Distanz: 2.2361\n",
      "Manhattan Distanz: 3.0000\n",
      "Maximum Distanz: 2.0000\n"
     ]
    }
   ],
   "source": [
    "def distance_metrics(x, y, p=2):\n",
    "    x = np.array(x)\n",
    "    y = np.array(y)\n",
    "    \n",
    "    minkowski = np.power(np.sum(np.power(np.abs(x - y), p)), 1/p)\n",
    "    euclidean = np.sqrt(np.sum((x - y)**2))\n",
    "    manhattan = np.sum(np.abs(x - y))\n",
    "    max =       np.sum(np.max(np.abs(x-y)))\n",
    "    \n",
    "    return {\n",
    "        \"Minkowski\": minkowski,\n",
    "        \"Euclidean\": euclidean,\n",
    "        \"Manhattan\": manhattan, \n",
    "        \"Maximum\"  : max\n",
    "    }\n",
    "\n",
    "# Beispiel\n",
    "x = [1,0,-1]\n",
    "y = [1,2,0]\n",
    "\n",
    "results = distance_metrics(x, y)\n",
    "for metric, value in results.items():\n",
    "    print(f\"{metric} Distanz: {value:.4f}\")\n"
   ]
  },
  {
   "cell_type": "markdown",
   "metadata": {},
   "source": [
    "### Ähnlichkeitsmasse\n",
    "\n",
    "Vergleicht die Ähnlichkeit zweier Vektoren\n",
    "\n",
    "Anfordernungen an x, y und s(x,y):\n",
    "- Ähnlichkeit zweier identische Objekte/Vektoren = 1\n",
    "- Ähnlichkeit zweier nicht identische Objekte/Vektoren < 1\n",
    "- Ähnlikeitsmasse sind symetrisch"
   ]
  },
  {
   "cell_type": "code",
   "execution_count": 101,
   "metadata": {},
   "outputs": [
    {
     "name": "stdout",
     "output_type": "stream",
     "text": [
      "Kosinus-Ähnlichkeit: -0.0739\n",
      "Korrelations-Ähnlichkeit: -0.2168\n"
     ]
    }
   ],
   "source": [
    "# vergleicht den Winkel von zwei Vektoren um deren Ähnlichkeit zu messen; 1= Winkel perfekt parralel, 0= orthogonal, -1 perfekt antiparallel\n",
    "def cosine_similarity(a, b):\n",
    "    cs= np.dot(a, b) / (np.linalg.norm(a) * np.linalg.norm(b))\n",
    "    print(f\"Kosinus-Ähnlichkeit: {cs:.4f}\")\n",
    "    return cs\n",
    "\n",
    "\n",
    "# macht nur bei hochdimensionalen Vektoren sinn\n",
    "def correlation_similarity(a, b):\n",
    "    p = pearsonr(a, b)[0]\n",
    "    print(f\"Korrelations-Ähnlichkeit: {p:.4f}\")\n",
    "    return p\n",
    "\n",
    "\n",
    "\n",
    "# Beispiel\n",
    "a = np.array([0.9,-1,0.7,-1.9,0.9,-1.7,0.3,-1.6,-2.7,0.6])\n",
    "b = np.array([-0.5,-0.1,-0.6,-0.1,-2.5,-2.2,1.1,0.6,0.6,0.2])\n",
    "\n",
    "cos_sim = cosine_similarity(a, b)\n",
    "corr_sim = correlation_similarity(a, b)\n"
   ]
  },
  {
   "cell_type": "markdown",
   "metadata": {},
   "source": [
    "## Recommender Systems\n"
   ]
  },
  {
   "cell_type": "markdown",
   "metadata": {},
   "source": [
    "Cosine Similarity \n",
    "\n",
    "--> kolaborative filtering \n",
    "\n",
    "    - Item-based Collaborative Filtering (IBCF):  für Produkte ähnliche Produkte suchen und User vorschlagen\n",
    "\n",
    "    - User-based Collaborative Filtering (UBCF): Nutzer miteinander veglichen und dann Lieblingsprodukte user A User Bb vorgeschlagen"
   ]
  },
  {
   "cell_type": "code",
   "execution_count": 102,
   "metadata": {},
   "outputs": [],
   "source": [
    "# IBCF für Vektoren und Matrizen\n",
    "\n",
    "def cosine_similarity(A, B):\n",
    "    norm_A = np.linalg.norm(A)\n",
    "    norm_B = np.linalg.norm(B)\n",
    "    dot_product = np.dot(A, B)\n",
    "    return dot_product / (norm_A * norm_B)"
   ]
  },
  {
   "cell_type": "code",
   "execution_count": 103,
   "metadata": {},
   "outputs": [
    {
     "data": {
      "text/plain": [
       "(np.float64(0.1386750490563073),\n",
       " array([[0.26455026, 0.24338624, 0.07936508, 0.02116402, 0.02645503,\n",
       "         0.06349206],\n",
       "        [0.24338624, 0.22751323, 0.07936508, 0.01587302, 0.02645503,\n",
       "         0.05820106],\n",
       "        [0.07936508, 0.07936508, 0.13227513, 0.        , 0.        ,\n",
       "         0.02645503],\n",
       "        [0.02116402, 0.01587302, 0.        , 0.13756614, 0.13227513,\n",
       "         0.11111111],\n",
       "        [0.02645503, 0.02645503, 0.        , 0.13227513, 0.13756614,\n",
       "         0.11111111],\n",
       "        [0.06349206, 0.05820106, 0.02645503, 0.11111111, 0.11111111,\n",
       "         0.1005291 ]]))"
      ]
     },
     "execution_count": 103,
     "metadata": {},
     "output_type": "execute_result"
    }
   ],
   "source": [
    "X = np.array([[3,3,5,0,0,1],\n",
    "              [4,3,0,1,0,1],\n",
    "              [0,0,0,5,5,4],\n",
    "              [0,0,0,0,0,0],\n",
    "              [5,5,0,0,1,1]])\n",
    "\n",
    "\n",
    "\n",
    "\n",
    "test = cosine_similarity(X.T, X)\n",
    "\n",
    "\n",
    "A = np.array([0,0,5,0,1])\n",
    "B = np.array([0,0,0,5,5])\n",
    "similarity = cosine_similarity(A, B)\n",
    "\n",
    "\n",
    "similarity, test"
   ]
  },
  {
   "cell_type": "markdown",
   "metadata": {},
   "source": [
    "## SVD"
   ]
  },
  {
   "attachments": {
    "image.png": {
     "image/png": "[encoded data removed]"
    }
   },
   "cell_type": "markdown",
   "metadata": {},
   "source": [
    "![image.png](attachment:image.png)"
   ]
  },
  {
   "cell_type": "code",
   "execution_count": 108,
   "metadata": {},
   "outputs": [
    {
     "name": "stdout",
     "output_type": "stream",
     "text": [
      "Matrix:\n",
      "    height  weight\n",
      "0    177.0    75.7\n",
      "1    163.0    64.7\n",
      "2    176.0    69.7\n",
      "3    194.0    84.3\n",
      "4    158.0    62.5\n",
      "5    176.0    77.0\n",
      "6    174.0    72.0\n",
      "7    134.0    47.0\n",
      "8    157.0    60.4\n",
      "9    165.0    65.0\n",
      "10   152.0    54.9\n",
      "11   182.0    79.4\n",
      "12   176.0    76.1\n",
      "13   164.0    65.8\n",
      "14   169.0    65.2\n",
      "\n",
      "Berechnete Matrixnormen:\n",
      "Frobenius-Norm: 704.1944546785355\n",
      "Spektral-Norm: 704.032344319859\n",
      "Maximum-Norm: 278.3\n",
      "Spalten-Norm: 2517.0\n",
      "Zeilen-Norm: 278.3\n",
      "Summen-Norm: height    2517.0\n",
      "weight    1019.7\n",
      "dtype: float64\n"
     ]
    },
    {
     "name": "stderr",
     "output_type": "stream",
     "text": [
      "c:\\Users\\Sandra\\AppData\\Local\\Programs\\Python\\Python313\\Lib\\site-packages\\numpy\\_core\\fromnumeric.py:84: FutureWarning: The behavior of DataFrame.sum with axis=None is deprecated, in a future version this will reduce over both axes and return a scalar. To retain the old behavior, pass axis=0 (or do not pass axis)\n",
      "  return reduction(axis=axis, out=out, **passkwargs)\n"
     ]
    },
    {
     "data": {
      "image/png": "[encoded data removed]",
      "text/plain": [
       "<Figure size 640x480 with 1 Axes>"
      ]
     },
     "metadata": {},
     "output_type": "display_data"
    }
   ],
   "source": [
    "A = np.array([[4, 12],[12,22]])\n",
    "\n",
    "# svd berechnen\n",
    "U, Sigma, Vt = np.linalg.svd(A)\n",
    "\n",
    "# Quercheck ob richtige Dimension \n",
    "U.shape, Sigma.shape, Vt.shape \n",
    "\n",
    "\n",
    "data_50 = np.matrix(U[:,:50]) @ np.diag(Sigma[:50]) @ np.matrix(Vt[:50,:])\n",
    "\n",
    "plt.imshow(data_50, cmap=\"grey\")\n",
    "\n",
    "\n",
    "\n",
    "\n",
    "\n",
    "\n",
    "\n",
    "# mit gewünschen Norm weiterrechnen\n",
    "fro, spekt, maxi, colm, rown, sumn  = calc_matrix_norms(data)"
   ]
  },
  {
   "attachments": {
    "image.png": {
     "image/png": "[encoded data removed]"
    }
   },
   "cell_type": "markdown",
   "metadata": {},
   "source": [
    "![image.png](attachment:image.png)"
   ]
  },
  {
   "cell_type": "markdown",
   "metadata": {},
   "source": [
    "### Truncated SVD"
   ]
  },
  {
   "cell_type": "code",
   "execution_count": 109,
   "metadata": {},
   "outputs": [
    {
     "data": {
      "text/plain": [
       "[<matplotlib.lines.Line2D at 0x1a2bf821f90>]"
      ]
     },
     "execution_count": 109,
     "metadata": {},
     "output_type": "execute_result"
    },
    {
     "data": {
      "image/png": "[encoded data removed]",
      "text/plain": [
       "<Figure size 640x480 with 1 Axes>"
      ]
     },
     "metadata": {},
     "output_type": "display_data"
    }
   ],
   "source": [
    "# Scree-Plot zum sehen welche Singulärwerte relevant sind\n",
    "plt.plot(Sigma)"
   ]
  },
  {
   "cell_type": "code",
   "execution_count": 39,
   "metadata": {},
   "outputs": [],
   "source": [
    "# A=  Originale Matrix, k Anzahl Singulärwerte die behaltet werden \n",
    "def truncated_svd(A, k):\n",
    "    U, S, V = np.linalg.svd(A)\n",
    "\n",
    "    data = np.matrix(U[:,:k]) @ np.diag(S[:k]) @ np.matrix(V[:k,:])\n",
    "\n",
    "    # plt.imshow(data, cmap=\"grey\")   #nur, wenn ein Bild\n",
    "\n",
    "\n",
    "    return U, S, V, data"
   ]
  },
  {
   "cell_type": "code",
   "execution_count": null,
   "metadata": {},
   "outputs": [],
   "source": [
    "# \n",
    "t_SVD = truncated_svd(data, 1200)"
   ]
  },
  {
   "cell_type": "markdown",
   "metadata": {},
   "source": [
    "## Kapitel 10 - SVD"
   ]
  },
  {
   "cell_type": "markdown",
   "metadata": {},
   "source": [
    "a) Bestimme für A die symmetrischen Produkte A.T@A und A@AT\n",
    "und deren Eigenwerte und damit auch die Singulärwerte von A.\n",
    "Bestimme ebenfalls die Matrix Σ. Was sind die Dimensionen von U und V "
   ]
  },
  {
   "cell_type": "code",
   "execution_count": 114,
   "metadata": {},
   "outputs": [
    {
     "data": {
      "text/plain": [
       "((2, 2), (2, 2))"
      ]
     },
     "execution_count": 114,
     "metadata": {},
     "output_type": "execute_result"
    }
   ],
   "source": [
    "#Matric einlesen\n",
    "A = np.array([[4,0],[3,-5]])\n",
    "\n",
    "\n",
    "ATA= A.T @ A\n",
    "AAT= A @ A.T\n",
    "\n",
    "U, Sigma, Vt = np.linalg.svd(A, full_matrices=True)\n",
    "\n",
    "V = Vt.T\n",
    "\n",
    "U.shape, V.shape"
   ]
  },
  {
   "cell_type": "markdown",
   "metadata": {},
   "source": [
    "a) Benutze die Singulärwertzerlegung um eine Approximation von X mit Rang 2 zu bestimmen.\n",
    "\n",
    "\n",
    "b) Wie sieht eine Approximation von X mit Rang 1 aus?\n",
    "\n",
    "\n",
    "c) Welche Frobenius-Distanz haben die beiden Approximationen zur ursprünglichen Matrix X "
   ]
  },
  {
   "cell_type": "code",
   "execution_count": 125,
   "metadata": {},
   "outputs": [
    {
     "data": {
      "text/plain": [
       "np.int64(2)"
      ]
     },
     "execution_count": 125,
     "metadata": {},
     "output_type": "execute_result"
    }
   ],
   "source": [
    "# Matrix einlesen\n",
    "X = np.array([[6,0,6],[0,12,6],[6,0,9]])\n",
    "\n",
    "# SVD\n",
    "U, s, VT = np.linalg.svd(X)\n",
    "\n",
    "Sigma = np.diag(s)\n",
    "\n",
    "\n",
    "# a) mittels Approximation von X mit Rang 2\n",
    "k = 2\n",
    "\n",
    "Xapprox2 = U[:,:k] @ Sigma[:k,:k] @ VT[:k,:]\n",
    "Xapprox2\n",
    "np.linalg.matrix_rank( Xapprox2 )"
   ]
  },
  {
   "cell_type": "code",
   "execution_count": 123,
   "metadata": {},
   "outputs": [
    {
     "data": {
      "text/plain": [
       "np.int64(1)"
      ]
     },
     "execution_count": 123,
     "metadata": {},
     "output_type": "execute_result"
    }
   ],
   "source": [
    "# b) Approximation von X mit Rang 1\n",
    "k = 1\n",
    "\n",
    "Xapprox1 = U[:,:k] @ Sigma[:k,:k] @ VT[:k,:]\n",
    "Xapprox1\n",
    "np.linalg.matrix_rank( Xapprox1 )"
   ]
  },
  {
   "cell_type": "code",
   "execution_count": 127,
   "metadata": {},
   "outputs": [
    {
     "data": {
      "text/plain": [
       "np.float64(10.977249022101635)"
      ]
     },
     "execution_count": 127,
     "metadata": {},
     "output_type": "execute_result"
    }
   ],
   "source": [
    "#  c) Frobenius-Distanz der approx an ursprüngliche Matrix\n",
    "\n",
    "np.linalg.norm( X - Xapprox2 )\n",
    "\n",
    "np.linalg.norm( X - Xapprox1 )"
   ]
  },
  {
   "cell_type": "markdown",
   "metadata": {},
   "source": [
    "Berechne die Hauptkomponenten W  mit der Singulärwertzerlegung"
   ]
  },
  {
   "cell_type": "code",
   "execution_count": 130,
   "metadata": {},
   "outputs": [
    {
     "data": {
      "text/plain": [
       "(20, 2)"
      ]
     },
     "execution_count": 130,
     "metadata": {},
     "output_type": "execute_result"
    }
   ],
   "source": [
    "# Daten einlesen\n",
    "X1 = np.array([[0.51, 0.87],[0.77, 0.11],[0.87, 0.3 ],[0.01, 0.47],[0.31, 0.67],[0.96, 0.26],[0.51, 0.7 ],\n",
    "               [0.32, 0.66],[0.54, 0.18],[0.22, 0.32],[0.81, 0.89],[0.34, 0.08],[0.54, 0.75],[0.01, 0.06],\n",
    "               [0.67, 0.73],[0.21, 0.74],[0.93, 0.41],[0.37, 0.99],[0.75, 0.45],[0.76, 0.19]])\n",
    "\n",
    "X1.shape"
   ]
  },
  {
   "cell_type": "code",
   "execution_count": 145,
   "metadata": {},
   "outputs": [
    {
     "data": {
      "text/plain": [
       "(-2.5, 2.0)"
      ]
     },
     "execution_count": 145,
     "metadata": {},
     "output_type": "execute_result"
    },
    {
     "data": {
      "image/png": "[encoded data removed]",
      "text/plain": [
       "<Figure size 1200x300 with 1 Axes>"
      ]
     },
     "metadata": {},
     "output_type": "display_data"
    }
   ],
   "source": [
    "# 1. Standartskalieren\n",
    "X1s = (X1 - np.mean(X1, axis=0)) / np.std(X1, axis=0)\n",
    "\n",
    "# 2. SVD\n",
    "U, s, Vt = np.linalg.svd(X1s)\n",
    "\n",
    "# 3. Varianzanteil\n",
    "s**2 / np.sum(s**2)\n",
    "\n",
    "# 4. Hauptkomponenenten\n",
    "Sigma = np.zeros_like( X1s )\n",
    "Sigma[[0,1],[0,1]] = s\n",
    "\n",
    "\n",
    "W = U @ Sigma\n",
    "\n",
    "# 5. Visualisieren\n",
    "plt.figure(figsize=(12,3))\n",
    "plt.subplot(131)\n",
    "plt.scatter( W[:,0], W[:,1] )\n",
    "plt.ylim(-2.5, 2)\n"
   ]
  },
  {
   "cell_type": "markdown",
   "metadata": {},
   "source": [
    "Bestimme über die Singulärwertzerlegung jeweils eine Basis für ihr Bild bzw. Spaltenraum und Kern bzw. Nullraum"
   ]
  },
  {
   "cell_type": "code",
   "execution_count": 153,
   "metadata": {},
   "outputs": [
    {
     "data": {
      "text/latex": [
       "$\\displaystyle \\left[\\begin{matrix}1 & 0\\\\0 & 1\\\\-0.25 & -0.5\\end{matrix}\\right]$"
      ],
      "text/plain": [
       "Matrix([\n",
       "[    1,    0],\n",
       "[    0,    1],\n",
       "[-0.25, -0.5]])"
      ]
     },
     "execution_count": 153,
     "metadata": {},
     "output_type": "execute_result"
    }
   ],
   "source": [
    "# Daten einlesen\n",
    "A = np.array([[1,2,4],[2,4,8]])\n",
    "U, s, VT = np.linalg.svd( A )\n",
    "np.round( s, 10 )\n",
    "\n",
    "# Rang der Matrix aus Singulärwerten berechnen \n",
    "r = np.sum( s>1e-10 )\n",
    "\n",
    "#Dimension ausgeben\n",
    "n = A.shape[1]\n",
    "\n",
    "## Bild\n",
    "basis_bild = U[:,0:r]\n",
    "basis_bild / U[0,0]     # Damit die Basis etwas schöner aussieht, dividieren wir durch die betragsmässig kleinere der beiden Komponenten:\n",
    "\n",
    "\n",
    "# prüfen\n",
    "sp.Matrix(A.T).rref()[0].T\n",
    "\n",
    "\n",
    "## Kern\n",
    "dim_ker = n-r \n",
    "dim_ker\n",
    "\n",
    "basis_kern = VT[-(n-r):,:].T    #Der Kern / Nullraum hat damit die Dimension 2 und besteht aus den letzten beiden Zeilenvektoren von V^T\n",
    "np.round( basis_kern / np.array([basis_kern[2,0], basis_kern[2,1]]), 10 )\n",
    "\n",
    "np.round( A @ basis_kern, 10 )\n",
    "\n",
    "sp.Matrix( basis_kern.T ).rref()[0].T ## Matrix reduzieren"
   ]
  },
  {
   "cell_type": "markdown",
   "metadata": {},
   "source": [
    "Damit gilt $C(A) = \\left\\{ \\left. t \\begin{pmatrix}1 \\\\ 2\\end{pmatrix} \\right| t \\in \\mathbb{R} \\right\\}$\n",
    "\n",
    "\n",
    "\n",
    "$$N(A) = \\left\\{ \\left. t \\begin{pmatrix}-5 \\\\ 0.5 \\\\ 1\\end{pmatrix} + s  \\begin{pmatrix}0 \\\\ -2 \\\\ 1\\end{pmatrix} \\right| t,s \\in \\mathbb{R} \\right\\}.$$"
   ]
  },
  {
   "cell_type": "code",
   "execution_count": null,
   "metadata": {},
   "outputs": [],
   "source": []
  }
 ],
 "metadata": {
  "kernelspec": {
   "display_name": "Python 3",
   "language": "python",
   "name": "python3"
  },
  "language_info": {
   "codemirror_mode": {
    "name": "ipython",
    "version": 3
   },
   "file_extension": ".py",
   "mimetype": "text/x-python",
   "name": "python",
   "nbconvert_exporter": "python",
   "pygments_lexer": "ipython3",
   "version": "3.13.1"
  }
 },
 "nbformat": 4,
 "nbformat_minor": 2
}
