{
 "cells": [
  {
   "cell_type": "markdown",
   "metadata": {},
   "source": [
    "<div style=\"width: 80%;\">\n",
    "\n",
    "<img src=\"attachment:image.png\" width=\"500\" style=\"float: left\">\n",
    "<div style=\"clear: both\"></div>\n",
    "<br>\n",
    "\n",
    "<div style=\"font-size: 20pt; float: left;\">Anwendungen der linearen Algebra</div>\n",
    "<div style=\"font-size: 20pt; text-align: right;\">FS 2024</div>\n",
    "<div style=\"font-size: 15pt; margin-top: 10px;\">Fachexperten: Roger Burkhardt, Cédric Huwyler</div>\n",
    "</div>\n",
    "<br>\n",
    "\n",
    "\n",
    "# Mini-Challenge 3 zum Thema *Recommender-Systeme*\n",
    "\n",
    "In der dritten Mini-Challenge befassen wir uns mit einem einfachen Recommender-System, mit dem du dir zu einem Film weitere ähnliche Filme vorschlagen lassen kannst. Sicher hattest du auch schon Abende, wo du Lust hattest einen Film zu schauen, aber keine konkrete Idee hattest. In dieser Minichallenge möchten wir dir dazu mit linearer Algebra etwas Abhilfe schaffen!\n",
    "\n",
    "Als Datenbasis benutzen wir den [kleinen *Movie Lens*-Datensatz](https://grouplens.org/datasets/movielens/) mit nur 610 Nutzer:innen und 9742 Filmen. Er ist das Ergebnis des [Movie Lens](https://movielens.org/)-Projekts, das seit 1997 Film-Bewertungen sammelt. Für die Erstellung von Empfehlung arbeiten wir mit dem einfachen Cosine Similarity-basierten IBCF-Recommender aus dem Skript.\n",
    "\n",
    "Eine kleine Webapplikation, die auf dem Code dieser Minichallenge basiert, findest du auf\n",
    "\n",
    "http://simplemovierecommender.pythonanywhere.com/\n",
    "\n",
    "So musst du nicht immer ein Notebook starten, wenn du eine neue Recommendation brauchst.\n",
    "\n",
    "### Musterlösung\n",
    "\n",
    "Zu dieser Minichallenge existiert (bewusst) keine Musterlösung. Du kannst sie aber gerne zur Durchsicht und Kommentierung uns entweder in einer der Kontaktstunden vorstellen oder zuschicken (cedric.huwyler@fhnw.ch)."
   ]
  },
  {
   "cell_type": "markdown",
   "metadata": {},
   "source": [
    "### Libraries\n",
    "\n",
    "Es reicht in dieser Übung aus, die folgenden Python-Libraries zu benutzen:\n",
    "\n",
    "**Hinweis:** Allenfalls musst du das tqdm-Paket noch installieren."
   ]
  },
  {
   "cell_type": "code",
   "execution_count": 2,
   "metadata": {},
   "outputs": [
    {
     "name": "stderr",
     "output_type": "stream",
     "text": [
      "c:\\Users\\Sandra\\AppData\\Local\\Programs\\Python\\Python313\\Lib\\site-packages\\tqdm\\auto.py:21: TqdmWarning: IProgress not found. Please update jupyter and ipywidgets. See https://ipywidgets.readthedocs.io/en/stable/user_install.html\n",
      "  from .autonotebook import tqdm as notebook_tqdm\n"
     ]
    }
   ],
   "source": [
    "import numpy as np\n",
    "import pandas as pd\n",
    "import matplotlib.pyplot as plt\n",
    "from tqdm.auto import tqdm"
   ]
  },
  {
   "cell_type": "markdown",
   "metadata": {},
   "source": [
    "## Interaktionsmatrix bestimmen\n",
    "\n",
    "Die Basis von kollaborationsbasierten Systemen ist die sogenannte **Interaktions-** oder **User-Item-Matrix**. Sie enthält in den Zeilen die Nutzer:innen des Systems, in den Spalten die Items (oft die Produkte, in unserem Fall die Filme) und als Matrixelemente jeweils die Bewertung, die Nutzer:in $i$ für Produkt $j$ abgegeben hat. Hier eine beispielhafte Illustration für Filme:\n",
    "\n",
    "<center>\n",
    "<img src=\"mc3_interaktionsmatrix.png\" width=\"300\">\n",
    "</center>\n",
    "\n",
    "6 Nutzer:innen haben ingesamt 19 Bewertungen für 6 Filme abgegeben. Niemand hat alle Filme bewertet, nur etwa die Hälfte aller möglichen Bewertungen sind vorhanden. Die Interaktionsmatrix ist die Wissensbasis des Recommender-Systems, das wir bauen möchten.\n",
    "\n",
    "Wir möchten nun im Folgenden gerne diese Interaktionsmatrix erstellen, damit wir von ihr ausgehend weiterrechnen können. Wir erstellen sie aus den beiden Dateien `movies.csv` und `ratings.csv`, die der Minichallenge beiliegen. Das dazu nötige Data Wrangling soll hier nicht im Fokus stehen, daher ist es bereits für dich erledigt:"
   ]
  },
  {
   "cell_type": "markdown",
   "metadata": {},
   "source": [
    "Daten einlesen:"
   ]
  },
  {
   "cell_type": "code",
   "execution_count": 3,
   "metadata": {},
   "outputs": [],
   "source": [
    "movies = pd.read_csv(\"movies.csv\")\n",
    "ratings = pd.read_csv(\"ratings.csv\")"
   ]
  },
  {
   "cell_type": "markdown",
   "metadata": {},
   "source": [
    "Bereinigungen durchführen:"
   ]
  },
  {
   "cell_type": "code",
   "execution_count": 4,
   "metadata": {},
   "outputs": [
    {
     "name": "stderr",
     "output_type": "stream",
     "text": [
      "<>:1: SyntaxWarning: invalid escape sequence '\\('\n",
      "<>:2: SyntaxWarning: invalid escape sequence '\\('\n",
      "<>:1: SyntaxWarning: invalid escape sequence '\\('\n",
      "<>:2: SyntaxWarning: invalid escape sequence '\\('\n",
      "C:\\Users\\Sandra\\AppData\\Local\\Temp\\ipykernel_23968\\1570840434.py:1: SyntaxWarning: invalid escape sequence '\\('\n",
      "  movies['year'] = movies.title.str.extract(\"\\((\\d+)\\)$\").astype(float)\n",
      "C:\\Users\\Sandra\\AppData\\Local\\Temp\\ipykernel_23968\\1570840434.py:2: SyntaxWarning: invalid escape sequence '\\('\n",
      "  movies.title = movies.title.str.replace(\"\\(\\d+\\)\", \"\", regex=True)\n"
     ]
    },
    {
     "data": {
      "text/html": [
       "<div>\n",
       "<style scoped>\n",
       "    .dataframe tbody tr th:only-of-type {\n",
       "        vertical-align: middle;\n",
       "    }\n",
       "\n",
       "    .dataframe tbody tr th {\n",
       "        vertical-align: top;\n",
       "    }\n",
       "\n",
       "    .dataframe thead th {\n",
       "        text-align: right;\n",
       "    }\n",
       "</style>\n",
       "<table border=\"1\" class=\"dataframe\">\n",
       "  <thead>\n",
       "    <tr style=\"text-align: right;\">\n",
       "      <th></th>\n",
       "      <th>movieId</th>\n",
       "      <th>title</th>\n",
       "      <th>genres</th>\n",
       "      <th>year</th>\n",
       "    </tr>\n",
       "  </thead>\n",
       "  <tbody>\n",
       "    <tr>\n",
       "      <th>0</th>\n",
       "      <td>1</td>\n",
       "      <td>Toy Story</td>\n",
       "      <td>Adventure|Animation|Children|Comedy|Fantasy</td>\n",
       "      <td>1995.0</td>\n",
       "    </tr>\n",
       "    <tr>\n",
       "      <th>1</th>\n",
       "      <td>2</td>\n",
       "      <td>Jumanji</td>\n",
       "      <td>Adventure|Children|Fantasy</td>\n",
       "      <td>1995.0</td>\n",
       "    </tr>\n",
       "    <tr>\n",
       "      <th>2</th>\n",
       "      <td>3</td>\n",
       "      <td>Grumpier Old Men</td>\n",
       "      <td>Comedy|Romance</td>\n",
       "      <td>1995.0</td>\n",
       "    </tr>\n",
       "    <tr>\n",
       "      <th>3</th>\n",
       "      <td>4</td>\n",
       "      <td>Waiting to Exhale</td>\n",
       "      <td>Comedy|Drama|Romance</td>\n",
       "      <td>1995.0</td>\n",
       "    </tr>\n",
       "    <tr>\n",
       "      <th>4</th>\n",
       "      <td>5</td>\n",
       "      <td>Father of the Bride Part II</td>\n",
       "      <td>Comedy</td>\n",
       "      <td>1995.0</td>\n",
       "    </tr>\n",
       "  </tbody>\n",
       "</table>\n",
       "</div>"
      ],
      "text/plain": [
       "   movieId                        title  \\\n",
       "0        1                    Toy Story   \n",
       "1        2                      Jumanji   \n",
       "2        3             Grumpier Old Men   \n",
       "3        4            Waiting to Exhale   \n",
       "4        5  Father of the Bride Part II   \n",
       "\n",
       "                                        genres    year  \n",
       "0  Adventure|Animation|Children|Comedy|Fantasy  1995.0  \n",
       "1                   Adventure|Children|Fantasy  1995.0  \n",
       "2                               Comedy|Romance  1995.0  \n",
       "3                         Comedy|Drama|Romance  1995.0  \n",
       "4                                       Comedy  1995.0  "
      ]
     },
     "execution_count": 4,
     "metadata": {},
     "output_type": "execute_result"
    }
   ],
   "source": [
    "movies['year'] = movies.title.str.extract(\"\\((\\d+)\\)$\").astype(float)\n",
    "movies.title = movies.title.str.replace(\"\\(\\d+\\)\", \"\", regex=True)\n",
    "movies.title = movies.title.str.replace(r'(.+), The', r'The \\1', regex=True)\n",
    "movies.title = movies.title.str.replace(r'(.+), A', r' \\1', regex=True)\n",
    "movies.title = movies.title.str.strip()\n",
    "movies.head()"
   ]
  },
  {
   "cell_type": "markdown",
   "metadata": {},
   "source": [
    "Filme ohne Rating entfernen:"
   ]
  },
  {
   "cell_type": "code",
   "execution_count": 5,
   "metadata": {},
   "outputs": [
    {
     "data": {
      "text/plain": [
       "(9724, 4)"
      ]
     },
     "execution_count": 5,
     "metadata": {},
     "output_type": "execute_result"
    }
   ],
   "source": [
    "movies = movies[movies.movieId.isin( ratings.movieId.unique() )].reset_index( drop=True )\n",
    "movies.shape"
   ]
  },
  {
   "cell_type": "markdown",
   "metadata": {},
   "source": [
    "Interaktionsmatrix erstellen:"
   ]
  },
  {
   "cell_type": "code",
   "execution_count": 14,
   "metadata": {},
   "outputs": [],
   "source": [
    "I = pd.crosstab( ratings.userId, ratings.movieId, values=ratings.rating, aggfunc='mean', dropna=True ).fillna(0)\n",
    "user_ids = I.index\n",
    "movie_ids = I.columns\n",
    "X = I.values"
   ]
  },
  {
   "cell_type": "markdown",
   "metadata": {},
   "source": [
    "Belegung der Interaktionsmatrix:"
   ]
  },
  {
   "cell_type": "code",
   "execution_count": 15,
   "metadata": {},
   "outputs": [
    {
     "data": {
      "text/plain": [
       "np.float64(0.016999683055613623)"
      ]
     },
     "execution_count": 15,
     "metadata": {},
     "output_type": "execute_result"
    }
   ],
   "source": [
    "np.mean( X>0 )"
   ]
  },
  {
   "cell_type": "markdown",
   "metadata": {},
   "source": [
    "Nur 1.7% aller möglichen Bewertungen liegen vor!"
   ]
  },
  {
   "cell_type": "markdown",
   "metadata": {},
   "source": [
    "Shape der Interaktionsmatrix:"
   ]
  },
  {
   "cell_type": "code",
   "execution_count": 16,
   "metadata": {},
   "outputs": [
    {
     "data": {
      "text/plain": [
       "((610, 9724), 610, 9724)"
      ]
     },
     "execution_count": 16,
     "metadata": {},
     "output_type": "execute_result"
    }
   ],
   "source": [
    "X.shape, len(user_ids), len(movie_ids)"
   ]
  },
  {
   "cell_type": "markdown",
   "metadata": {},
   "source": [
    "Visualisierung der Belegung der Interaktionsmatrix:"
   ]
  },
  {
   "cell_type": "code",
   "execution_count": 17,
   "metadata": {},
   "outputs": [
    {
     "data": {
      "text/plain": [
       "<matplotlib.image.AxesImage at 0x1cfed9fad50>"
      ]
     },
     "execution_count": 17,
     "metadata": {},
     "output_type": "execute_result"
    },
    {
     "data": {
      "image/png": "[encoded data removed]",
      "text/plain": [
       "<Figure size 1600x200 with 1 Axes>"
      ]
     },
     "metadata": {},
     "output_type": "display_data"
    }
   ],
   "source": [
    "plt.matshow(X > 0, cmap=\"gray\")"
   ]
  },
  {
   "cell_type": "markdown",
   "metadata": {},
   "source": [
    "## Empfehlungen erstellen (deine Aufgabe)"
   ]
  },
  {
   "cell_type": "markdown",
   "metadata": {},
   "source": [
    "Nun bist du dran! Du sollst die Ähnlichkeiten zwischen den verschiedenen Filmen mit der Cosine Similarity bestimmen und diese zur Erstellung von Empfehlungen benutzen. Wir gehen dabei Stück für Stück vor und berechnen zuerst eine einzelne Cosine Similarity, dann die ganze Ähnlichkeitsmatrix und erstellen schliesslich Filmempfehlungen daraus."
   ]
  },
  {
   "cell_type": "markdown",
   "metadata": {},
   "source": [
    "### a) Einzelne Cosine Similarity berechnen"
   ]
  },
  {
   "cell_type": "markdown",
   "metadata": {},
   "source": [
    "Gegeben sei also die Interaktionsmatrix $X\\in \\mathbb{R}^{610 \\times 9724}$. Die Cosine Similarity zwischen Film $i$ und Film $j$ ist definiert als\n",
    "\n",
    "$$s_{ij} = \\frac{\\mathbf{x}_i \\cdot \\mathbf{x}_j}{|\\mathbf{x}_i| \\; |\\mathbf{x}_j|},$$\n",
    "\n",
    "wobei $\\mathbf{x}_i$ den i-ten Spaltenvektor von $X$ bezeichne. "
   ]
  },
  {
   "cell_type": "markdown",
   "metadata": {},
   "source": [
    "Berechne als Beispiel die Cosine Similarity zwischen den Filmen 'Star Wars: Episode IV - A New Hope' ($i=224$) und 'Star Wars: Episode V - The Empire Strikes Back' ($j=897$). Benutze dazu die Befehle `np.dot()` und `np.linalg.norm()`. Definiere zuerst die Spaltenvektoren `xi` und `xj` mit geeignetem Slicing von $X$ und prüfe, ob diese jeweils 610 Elemente enthalten (eine Bewertung pro Benutzer:in). Sind die Filme einander gemäss diesem Mass ähnlich?"
   ]
  },
  {
   "cell_type": "code",
   "execution_count": 29,
   "metadata": {},
   "outputs": [
    {
     "data": {
      "text/plain": [
       "np.float64(0.8324073552233734)"
      ]
     },
     "execution_count": 29,
     "metadata": {},
     "output_type": "execute_result"
    }
   ],
   "source": [
    "# DEIN CODE\n",
    "xi = X[: , 224]\n",
    "xj = X[: , 897]\n",
    "\n",
    "\n",
    "xi_norm = np.linalg.norm(xi)\n",
    "xj_norm = np.linalg.norm(xj)\n",
    "\n",
    "COSE = np.dot(xi,xj) / np.dot(xi_norm, xj_norm)\n",
    "COSE"
   ]
  },
  {
   "cell_type": "markdown",
   "metadata": {},
   "source": [
    "### b) Ähnlichkeitsmatrix $S$ mit for-Schleife berechnen"
   ]
  },
  {
   "cell_type": "markdown",
   "metadata": {},
   "source": [
    "Für unser Recommender-System möchten wir gerne auf Vorrat $s_{ij}$ für alle Benutzer:innen $i$ und Filme $j$ berechnen, damit wir nachher schnell für alle Filme Empfehlungen berechnen können. Damit erhalten wir die **Ähnlichkeitsmatrix** $S \\in \\mathbb{R}^{9724 \\times 9724}$, deren Elemente gerade die $s_{ij}$ für alle möglichen Filmpaare sind.\n",
    "\n",
    "Wir haben in a) ein einzelnes Element $s_{ij}$ der Matrix $S$ berechnet. Um die ganze Ähnlichkeitsmatrix zu berechnen, können wir mit einer verschachtelten for-Schleife über alle $i$ und $j$ iterieren und die einzelnen Elemente von $S$ befüllen. Es wird sich zeigen, dass dieser Ansatz sehr ineffizient ist und etwas länger dauert (5-10 Minuten), darum macht es Sinn, das tqdm-Paket zu verwenden, das dir neben einer Fortschrittsanzeige auch eine ungefähre Abschätzung der noch zu erwartenden Berechnungszeit anzeigt.\n",
    "\n",
    "Das tqdm-Paket kann sehr einfach verwendet werden:\n",
    "\n",
    "Umschliesse einfach das *Iterable*, über das du mit deiner for-Schleife iterieren möchtest, mit der `tqdm()`-Funktion. Diese liefert dann ein neues Iterable zurück und übernimmt die Progressbar für dich. Zum Beispiel wird so `for i in range(1000)` zu `for j in tqdm(range(1000))`. Hier gleich zum Ausprobieren:"
   ]
  },
  {
   "cell_type": "code",
   "execution_count": 30,
   "metadata": {},
   "outputs": [
    {
     "name": "stderr",
     "output_type": "stream",
     "text": [
      "100%|██████████| 1000/1000 [00:08<00:00, 123.59it/s]\n"
     ]
    }
   ],
   "source": [
    "for i in tqdm( range(1000) ):\n",
    "    i**50000 # gibt nichts aus - nur zum Verlangsamen der Schleife"
   ]
  },
  {
   "cell_type": "markdown",
   "metadata": {},
   "source": [
    "Berechne nun die gesamte Matrix $S$ mit einer verschachtelten for-Schleife über $i$ und $j$ und setze um die äussere `range()`-Funktion ein `tqdm()`. Wie lange musst du rechnen?"
   ]
  },
  {
   "cell_type": "code",
   "execution_count": null,
   "metadata": {},
   "outputs": [],
   "source": [
    "# DEIN CODE\n"
   ]
  },
  {
   "cell_type": "markdown",
   "metadata": {},
   "source": [
    "### c) Cosine-Similarity vektorisiert berechnen"
   ]
  },
  {
   "cell_type": "markdown",
   "metadata": {},
   "source": [
    "Wie wir in Teilaufgabe b) gesehen haben, ist die Berechnung aller ca. 95 Millionen Matrixelemente der Ähnlichkeitsmatrix $S$ über verschachtelte for-Schleifen etwas zeitaufwändig. Das ist aus zwei Gründen so:\n",
    "\n",
    "1. Python ist eine Interpretersprache und for-Schleifen sind dort sehr viel langsamer als in einer kompilierten Sprache. \n",
    "2. Da alles sequentiell abgearbeitet wird, können die Möglichkeiten der *Vektorisierung* auf deinem Prozessor nicht ausgenutzt werden, bei der parallel mehrere Berechnungen durchgeführt werden.\n",
    "\n",
    "Typischerweise brauchen verschachtelte for-Loops so schnell 100 mal länger, es empfiehlt sich also, möglichst auf diese zu verzichten und stattdessen mit Vektoren und Matrizen zu arbeiten. Die Numpy-Bibliothek ist in C kompiliert und dementsprechend effizient.\n",
    "\n",
    "Im Skript hast du gesehen, dass die Ähnlichkeitsmatrix aus der Interaktionsmatrix als \n",
    "\n",
    "$$\n",
    "S = X^T X\n",
    "$$\n",
    "\n",
    "berechnet werden kann, wenn alle Spalten der Interaktionsmatrix $X$ vorgängig auf den Betrag 1 normiert wurden.\n",
    "\n",
    "Berechne nun $S$ auf diese Weise. Normiere zuerst die Spalten von $X$ auf 1, indem du jede Spalte geeignet durch ihre Länge dividierst (Stichwort [Broadcasting](https://numpy.org/doc/stable/user/basics.broadcasting.html)) und berechne dann $S$ gemäss obiger Formel. Prüfe, ob $S$ die richtigen Dimensionen hat, ob alle Elemente von $S$ zwischen 0 und 1 liegen und ob alle Diagonalelemente von $S$ gleich 1 sind. Du wirst merken, dass die Berechnung auf diese Art wesentlich schneller geht. Wenn du Lust hast, kannst du mit `%%timeit` prüfen, wieviel schneller!"
   ]
  },
  {
   "cell_type": "code",
   "execution_count": 36,
   "metadata": {},
   "outputs": [
    {
     "data": {
      "text/plain": [
       "array([[0.00486105, 0.00281712, 0.00301459, ..., 0.        , 0.        ,\n",
       "        0.        ],\n",
       "       [0.00281712, 0.00968554, 0.00404774, ..., 0.        , 0.        ,\n",
       "        0.        ],\n",
       "       [0.00301459, 0.00404774, 0.02120587, ..., 0.        , 0.        ,\n",
       "        0.        ],\n",
       "       ...,\n",
       "       [0.        , 0.        , 0.        , ..., 1.        , 1.        ,\n",
       "        0.        ],\n",
       "       [0.        , 0.        , 0.        , ..., 1.        , 1.        ,\n",
       "        0.        ],\n",
       "       [0.        , 0.        , 0.        , ..., 0.        , 0.        ,\n",
       "        1.        ]], shape=(9724, 9724))"
      ]
     },
     "execution_count": 36,
     "metadata": {},
     "output_type": "execute_result"
    }
   ],
   "source": [
    "# DEIN CODE\n",
    "\n",
    "column_sums = X.sum(axis=0)\n",
    "X_normalized = X / column_sums\n",
    "\n",
    "S = X_normalized.T @ X_normalized\n",
    "S"
   ]
  },
  {
   "cell_type": "markdown",
   "metadata": {},
   "source": [
    "### d) Ähnliche Filme finden\n",
    "\n",
    "In dieser Aufgabe kannst du nun die aus deinen Berechnungen resultierenden Empfehlungen für deine Lieblingsfilme ausprobieren. Praktisch die ganze Arbeit ist dabei für dich schon erledigt. Finde dazu zuerst die `movieId` eines ausgewählten Films, indem du wie im untenstehenden Beispiel nach dem Titel des Films suchst:"
   ]
  },
  {
   "cell_type": "code",
   "execution_count": 37,
   "metadata": {},
   "outputs": [
    {
     "data": {
      "text/html": [
       "<div>\n",
       "<style scoped>\n",
       "    .dataframe tbody tr th:only-of-type {\n",
       "        vertical-align: middle;\n",
       "    }\n",
       "\n",
       "    .dataframe tbody tr th {\n",
       "        vertical-align: top;\n",
       "    }\n",
       "\n",
       "    .dataframe thead th {\n",
       "        text-align: right;\n",
       "    }\n",
       "</style>\n",
       "<table border=\"1\" class=\"dataframe\">\n",
       "  <thead>\n",
       "    <tr style=\"text-align: right;\">\n",
       "      <th></th>\n",
       "      <th>movieId</th>\n",
       "      <th>title</th>\n",
       "      <th>genres</th>\n",
       "      <th>year</th>\n",
       "    </tr>\n",
       "  </thead>\n",
       "  <tbody>\n",
       "    <tr>\n",
       "      <th>142</th>\n",
       "      <td>170</td>\n",
       "      <td>Hackers</td>\n",
       "      <td>Action|Adventure|Crime|Thriller</td>\n",
       "      <td>1995.0</td>\n",
       "    </tr>\n",
       "  </tbody>\n",
       "</table>\n",
       "</div>"
      ],
      "text/plain": [
       "     movieId    title                           genres    year\n",
       "142      170  Hackers  Action|Adventure|Crime|Thriller  1995.0"
      ]
     },
     "execution_count": 37,
     "metadata": {},
     "output_type": "execute_result"
    }
   ],
   "source": [
    "movies[movies.title.str.contains(\"Hackers\", case=False)]"
   ]
  },
  {
   "cell_type": "markdown",
   "metadata": {},
   "source": [
    "Ausserdem setzen wir die Ähnlichkeit aller Filme mit sich selbst auf Null, damit ein Film nicht sich selbst vorgeschlagen wird:"
   ]
  },
  {
   "cell_type": "code",
   "execution_count": 38,
   "metadata": {},
   "outputs": [],
   "source": [
    "d = np.arange(S.shape[0])\n",
    "S[d,d] = 0"
   ]
  },
  {
   "cell_type": "markdown",
   "metadata": {},
   "source": [
    "Du kannst nun die folgende Funktion für eine Recommendation aufgrund deiner Ähnlichkeitsmatrix verwenden (und optional verstehen):"
   ]
  },
  {
   "cell_type": "code",
   "execution_count": 39,
   "metadata": {},
   "outputs": [],
   "source": [
    "def recommend( movieId, S, sim_thresh=0.3, n_max=20 ):\n",
    "    i = np.where( movie_ids == movieId )[0][0]\n",
    "    rec = pd.DataFrame( {\n",
    "        'movieId': movie_ids[np.argsort( S[i,:] )][::-1], \n",
    "        'similarity': np.sort(S[i,:])[::-1] \n",
    "    } )\n",
    "    rec = rec[rec.similarity>=sim_thresh]\n",
    "    rec = rec.merge(movies, on=\"movieId\")\n",
    "    return rec.head(n_max)"
   ]
  },
  {
   "cell_type": "markdown",
   "metadata": {},
   "source": [
    "Im Prinzip sucht diese Funktion zum gegebenen Film die Filme mit der höchsten Ähnlichkeit. Hat der Film den Index $i$ in der Matrix $S$, so suchen wir also die $j$, für die $s_{ij}$ nahe bei 1 ist. Der ganze Vorgang ist etwas komplizierter, weil nicht alle Filme bewertet sind und daher das Feld `movieId` generell nicht mit dem entsprechenden Index in der Matrix $S$ übereinstimmt."
   ]
  },
  {
   "cell_type": "code",
   "execution_count": 41,
   "metadata": {},
   "outputs": [
    {
     "data": {
      "text/html": [
       "<div>\n",
       "<style scoped>\n",
       "    .dataframe tbody tr th:only-of-type {\n",
       "        vertical-align: middle;\n",
       "    }\n",
       "\n",
       "    .dataframe tbody tr th {\n",
       "        vertical-align: top;\n",
       "    }\n",
       "\n",
       "    .dataframe thead th {\n",
       "        text-align: right;\n",
       "    }\n",
       "</style>\n",
       "<table border=\"1\" class=\"dataframe\">\n",
       "  <thead>\n",
       "    <tr style=\"text-align: right;\">\n",
       "      <th></th>\n",
       "      <th>movieId</th>\n",
       "      <th>similarity</th>\n",
       "      <th>title</th>\n",
       "      <th>genres</th>\n",
       "      <th>year</th>\n",
       "    </tr>\n",
       "  </thead>\n",
       "  <tbody>\n",
       "  </tbody>\n",
       "</table>\n",
       "</div>"
      ],
      "text/plain": [
       "Empty DataFrame\n",
       "Columns: [movieId, similarity, title, genres, year]\n",
       "Index: []"
      ]
     },
     "execution_count": 41,
     "metadata": {},
     "output_type": "execute_result"
    }
   ],
   "source": [
    "recommend( movieId=170, S=S ).head(20)"
   ]
  },
  {
   "cell_type": "markdown",
   "metadata": {},
   "source": [
    "## Ausblick"
   ]
  },
  {
   "cell_type": "markdown",
   "metadata": {},
   "source": [
    "Damit hast du nun ein sehr einfaches Recommender-System verstanden und implementiert! Die Empfehlungen scheinen vernünftig, sind aber auch oft nicht die besten. Zum Beispiel hat dieses System einen starken sogenannten *Popularity-Bias* für Filme, die sehr häufig gerated wurden. Ebenfalls sind in den Präferenzen der Nutzer:innen oft nebst Filmgeschmack auch die Zeitepochen abgebildet, in denen sie eher jung waren und Zeit für Filme hatten. So erhält man für Filme aus den 90ern halt öfters auch Filme aus den 90ern empfohlen. In der Realität werden daher oft auch komplexere Methoden eingesetzt, die zusätzlich noch auf Eigenschaften der Filme wie Genre, Veröffentlichungsdatum usw. zurückgreifen. Lust auf mehr? Unbedingt die Kompetenz [Recommender Systeme](https://spaces.technik.fhnw.ch/spaces/recommender-systems) besuchen!"
   ]
  }
 ],
 "metadata": {
  "kernelspec": {
   "display_name": "Python 3",
   "language": "python",
   "name": "python3"
  },
  "language_info": {
   "codemirror_mode": {
    "name": "ipython",
    "version": 3
   },
   "file_extension": ".py",
   "mimetype": "text/x-python",
   "name": "python",
   "nbconvert_exporter": "python",
   "pygments_lexer": "ipython3",
   "version": "3.13.1"
  }
 },
 "nbformat": 4,
 "nbformat_minor": 4
}
