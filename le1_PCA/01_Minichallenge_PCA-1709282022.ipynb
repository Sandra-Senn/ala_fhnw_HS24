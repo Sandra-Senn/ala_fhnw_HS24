{
 "cells": [
  {
   "cell_type": "markdown",
   "id": "27da5e98",
   "metadata": {},
   "source": [
    "<div style=\"width: 80%;\">\n",
    "\n",
    "<img src=\"attachment:image.png\" width=\"500\" style=\"float: left\">\n",
    "<div style=\"clear: both\"></div>\n",
    "<br>\n",
    "\n",
    "<div style=\"font-size: 20pt; float: left;\">Anwendungen der linearen Algebra</div>\n",
    "<div style=\"font-size: 20pt; text-align: right;\">FS 2024</div>\n",
    "<div style=\"font-size: 15pt; margin-top: 10px;\">Fachexperten: Roger Burkhardt, Cédric Huwyler</div>\n",
    "</div>\n",
    "<br>"
   ]
  },
  {
   "cell_type": "markdown",
   "id": "577a5122",
   "metadata": {},
   "source": [
    "# Minichallenge 1 zum Thema *Hauptkomponentenanalyse*"
   ]
  },
  {
   "cell_type": "markdown",
   "id": "2063c4d7",
   "metadata": {},
   "source": [
    "Diese erste Minichallenge widmet sich dem Thema *Hauptkomponentenanalyse* (*Principal Component Analysis, PCA*). Hier bekommst du Gelegenheit, in einer ersten Aufgabe den Stoff aus dem Skript noch einmal nachzuvollziehen und dann in einer zweiten Aufgabe deine Erkenntnisse praktisch auf ein Datenset aus der Brustkrebsforschung anzuwenden. Am besten liest du entweder vorgängig das Skript oder vervollständigst die erste Aufgabe gleichzeitig mit dem Lesen des Skripts. Rechne zur Bearbeitung dieser Minichallenge durchaus 3-4 Stunden ein, sie ist die längste von allen, aber damit kannst du dich gut noch einmal in Numpy vertiefen, bevor du dich dann an die weitere Minichallenges machst, die durch das erarbeitete Wissen sehr viel einfacher sein werden.\n",
    "\n",
    "Die PCA ist eine einfache Methode des *Unsupervised Learning*, ein Teilfeld des Machine Learning wo keine Zielvariable vorliegt und ohne diese trotzdem etwas über die Struktur der Daten gelernt werden soll. Die PCA wirst du in der Kompetenz *Grundlagen des Machine Learning* wieder antreffen und vertiefen.\n",
    "\n",
    "**Musterlösung:**\n",
    "\n",
    "Zu dieser Minichallenge existiert (bewusst) keine Musterlösung. Wir werden sie aber zusammen besprechen und du kannst sie gerne zur Durchsicht und Kommentierung uns entweder in einer der Sprechstunden vorstellen oder mit deinen Mitstudierenden darüber diskutieren."
   ]
  },
  {
   "cell_type": "markdown",
   "id": "ccdf4a38",
   "metadata": {},
   "source": [
    "Wir laden zuerst alle benötigten Python-Bibliotheken:"
   ]
  },
  {
   "cell_type": "code",
   "execution_count": 18,
   "id": "c206d5e4",
   "metadata": {},
   "outputs": [],
   "source": [
    "import pandas as pd\n",
    "import numpy as np\n",
    "import matplotlib.pyplot as plt"
   ]
  },
  {
   "cell_type": "markdown",
   "id": "3c29a824",
   "metadata": {},
   "source": [
    "## Aufgabe 1: Resultate auf Beispieldatensätzen nachvollziehen\n",
    "\n",
    "In Aufgabe 1 sollst du die Rechenschritte im Skript nachvollziehen und insbesondere verstehen, wie die Konzepte von einerseits Eigenwerten und Eigenvektoren und andererseits einer Kovarianz- bzw. Korrelationsmatrix natürlich zum Werkzeugt der PCA/Hauptkomponentenanalyse führen. Ebenfalls entwickelst du Tools und Codestücke, die dir nachher die Beantwortung der Fragen in Aufgabe 2 stark vereinfachen. Aufgabe 1 kann ganz gut gleich während dem Lesen des Skripts Schritt für Schritt gelöst werden - genauso aber erst nach einer ersten Lektüre."
   ]
  },
  {
   "cell_type": "markdown",
   "id": "f7beb896",
   "metadata": {},
   "source": [
    "Zum Start definieren wir gleich die drei Datensätze aus dem Skript, damit du diese nicht mehr einlesen musst:"
   ]
  },
  {
   "cell_type": "code",
   "execution_count": 19,
   "id": "1239dba7",
   "metadata": {},
   "outputs": [
    {
     "data": {
      "text/plain": [
       "((20, 2), (20, 2), (20, 2))"
      ]
     },
     "execution_count": 19,
     "metadata": {},
     "output_type": "execute_result"
    }
   ],
   "source": [
    "X1 = np.array([[0.51, 0.87],[0.77, 0.11],[0.87, 0.3 ],[0.01, 0.47],[0.31, 0.67],[0.96, 0.26],[0.51, 0.7 ],\n",
    "               [0.32, 0.66],[0.54, 0.18],[0.22, 0.32],[0.81, 0.89],[0.34, 0.08],[0.54, 0.75],[0.01, 0.06],\n",
    "               [0.67, 0.73],[0.21, 0.74],[0.93, 0.41],[0.37, 0.99],[0.75, 0.45],[0.76, 0.19]])\n",
    "\n",
    "X2 = np.array([[0.51, -1.08],[0.77, -2.01],[0.87, -2.03],[0.01, 0.19],[0.31, -0.37],[0.96, -1.6],\n",
    "               [0.51, -1.16],[0.32, -0.89],[0.54, -0.85],[0.22, -0.22],[0.81, -1.61],[0.34, -0.68],\n",
    "               [0.54, -1.42],[0.01, -0.07],[0.67, -1.01],[0.21, -0.65],[0.93, -1.98],[0.37, -0.78],\n",
    "               [0.75, -1.58],[0.76, -1.97]])\n",
    "\n",
    "X3 = np.array([[0.08,  0.1],[0.78, 0.78],[0.44, 0.45],[0.72, 0.66],[0.98, 1.05],[0.54, 0.55],[0.5, 0.48],\n",
    "               [0.07, 0.15],[0.27, 0.27],[0.5, 0.44],[0.68, 0.66],[0.8, 0.71],[0.38, 0.42],[0.07, 0.05],\n",
    "               [0.29, 0.26],[0.91, 0.95],[0.21, 0.14],[0.45, 0.47],[0.93, 0.85],[0.02, -0.01]]\n",
    ")\n",
    "X1.shape, X2.shape, X3.shape"
   ]
  },
  {
   "cell_type": "markdown",
   "id": "350460d3",
   "metadata": {},
   "source": [
    "### a) Kovarianzmatrizen bestimmen\n",
    "\n",
    "Bestimme als erstes wie im Skript die Kovarianzmatrizen `C1`, `C2` und `C3` der drei oben definierten Datensets. Vergiss nicht, für die Berechnung vorgängig den Mittelwert der einzelnen Spalten von `X` abzuziehen (Benutze hier geschickt den `axis`-Parameter von `np.mean()`). Vergleiche deine Resultate mit denjenigen im Skript."
   ]
  },
  {
   "cell_type": "code",
   "execution_count": 20,
   "id": "7cc55ca6",
   "metadata": {},
   "outputs": [
    {
     "name": "stdout",
     "output_type": "stream",
     "text": [
      "[[ 0.08474184 -0.00534816]\n",
      " [-0.00534816  0.08722395]]\n",
      "[[ 0.08474184 -0.18390079]\n",
      " [-0.18390079  0.45772921]]\n",
      "[[0.09500947 0.09337737]\n",
      " [0.09337737 0.09402395]]\n"
     ]
    }
   ],
   "source": [
    "# DEIN CODE\n",
    "def calc_cov(X):\n",
    "    mean_X = np.mean(X, axis=0)\n",
    "    X_ = (X-mean_X)\n",
    "    C = (1/(len(X)-1)) * X_.T @ X_\n",
    "    print (C)\n",
    "\n",
    "    return C\n",
    "\n",
    "\n",
    "\n",
    "C1 = calc_cov(X1)\n",
    "C2 = calc_cov(X2)\n",
    "C3 = calc_cov(X3)"
   ]
  },
  {
   "cell_type": "markdown",
   "id": "98922a4d",
   "metadata": {},
   "source": [
    "### b) Korrelationsmatrizen bestimmen\n",
    "\n",
    "Bestimme auch Korrelationsmatrizen `R1`, `R2` und `R3` zu den drei Datensets, indem du ebenfalls die einzelnen Spalten von `X` geeignet vorbereitest (siehe Skript).\n",
    "\n",
    "**Hinweis:** Achtung, `np.std()` teilt standarmässig durch $n$ (Anzahl Datenpunkte). Statistisch korrekt muss hier aber durch $n-1$ geteilt werden. Dies kannst du erreichen, indem du das Argument `ddof=1` setzt (ddof = degrees of freedom, mehr dazu später in der Kompetenz *Statistical Learning*)."
   ]
  },
  {
   "cell_type": "code",
   "execution_count": 21,
   "id": "6ccc572e",
   "metadata": {},
   "outputs": [
    {
     "name": "stdout",
     "output_type": "stream",
     "text": [
      "[[ 0.08474184 -0.00534816]\n",
      " [-0.00534816  0.08722395]]\n",
      "Korrelationsmatrix:\n",
      "[[ 1.         -0.06220673]\n",
      " [-0.06220673  1.        ]] \n",
      "\n",
      "[[ 0.08474184 -0.18390079]\n",
      " [-0.18390079  0.45772921]]\n",
      "Korrelationsmatrix:\n",
      "[[ 1.         -0.93374939]\n",
      " [-0.93374939  1.        ]] \n",
      "\n",
      "[[0.09500947 0.09337737]\n",
      " [0.09337737 0.09402395]]\n",
      "Korrelationsmatrix:\n",
      "[[1.         0.98795903]\n",
      " [0.98795903 1.        ]] \n",
      "\n"
     ]
    }
   ],
   "source": [
    "# DEIN CODE\n",
    "def calc_cor(X):\n",
    "\n",
    "    C = calc_cov(X)\n",
    "    \n",
    "    # Berechne die Standardabweichungen aus der Diagonale der Kovarianzmatrix\n",
    "    std = np.sqrt(np.diag(C))\n",
    "    \n",
    "    # Berechne die Korrelationsmatrix\n",
    "    R = C / np.outer(std, std)\n",
    "    \n",
    "    print(f\"Korrelationsmatrix:\\n{R} \\n\")\n",
    "\n",
    "    return R\n",
    "\n",
    "\n",
    "R1 = calc_cor(X1)\n",
    "R2 = calc_cor(X2)\n",
    "R3 = calc_cor(X3)\n",
    "\n",
    "\n",
    "\n",
    "\n",
    "# def calc_cor_(C):\n",
    "#     # Berechne die Standardabweichungen aus der Diagonale der Kovarianzmatrix\n",
    "#     std = np.sqrt(np.diag(C))\n",
    "    \n",
    "#     # Berechne die Korrelationsmatrix\n",
    "#     R = C / np.outer(std, std)\n",
    "    \n",
    "#     print(f\"Korrelationsmatrix:\\n{R} \\n\")\n",
    "\n",
    "#     return R\n",
    "\n",
    "# R1 = calc_cor_(C1)"
   ]
  },
  {
   "cell_type": "markdown",
   "id": "79384788",
   "metadata": {},
   "source": [
    "### c) Eigenwerte und Eigenvektoren bestimmen"
   ]
  },
  {
   "cell_type": "markdown",
   "id": "2c0e68f5",
   "metadata": {},
   "source": [
    "Nun möchten wir die Eigenwerte und Eigenvektoren der berechneten Kovarianzmatrizen bestimmen. `np.linalg.eig()` gibt die Eigenwerte und die dazugehörigen Eigenvektoren unsortiert zurück, für Probleme weiter unten ist es aber von Vorteil, wenn die Eigenwerte (und die dazugehörigen Eigenvektoren) **absteigend nach Eigenwertsbetrag sortiert sind**. Schreibe eine Funktion `sorted_eig()`, die die Resultate aus `np.linalg.eig()` nimmt, entsprechend sortiert und im gleichen Stil wie `np.linalg.eig()` zurückgibt (Liste mit zwei Arrays). \n",
    "\n",
    "**Achtung: Die Funktion soll für beliebige (nxn)-Matrixen funktionieren und keine if-Bedingungen enthalten!** \n",
    "\n",
    "Investiere ruhig ein bisschen Zeit, um die Rückgabewerte von `np.linalg.eig()` genügend zu verstehen. "
   ]
  },
  {
   "cell_type": "code",
   "execution_count": 52,
   "id": "cc28c2c1",
   "metadata": {},
   "outputs": [
    {
     "data": {
      "text/plain": [
       "(array([0.09147316, 0.08049263]),\n",
       " array([[ 0.62207473, -0.78295787],\n",
       "        [-0.78295787, -0.62207473]]))"
      ]
     },
     "execution_count": 52,
     "metadata": {},
     "output_type": "execute_result"
    }
   ],
   "source": [
    "def calc_sorted_eig( M ):\n",
    "    \n",
    "    ew, ev = np.linalg.eig(M)\n",
    "\n",
    "    # Sortiere Indizes basierend auf den Eigenwerten in absteigender Reihenfolge\n",
    "    idx = ew.argsort()[::-1]\n",
    "    \n",
    "    # Sortiere Eigenwerte und Eigenvektoren\n",
    "    ew_sorted = ew[idx]\n",
    "    ev_sorted = ev[:, idx]\n",
    "    \n",
    "    return ew_sorted, ev_sorted\n",
    "\n",
    "\n",
    "\n",
    "ew_C1, ev_C1 = calc_sorted_eig(C1)\n",
    "ew_C1, ev_C1"
   ]
  },
  {
   "cell_type": "code",
   "execution_count": 53,
   "id": "54b1b1d7",
   "metadata": {},
   "outputs": [
    {
     "name": "stdout",
     "output_type": "stream",
     "text": [
      "[[ 0.08474184 -0.00534816]\n",
      " [-0.00534816  0.08722395]]\n",
      "[[ 0.08474184 -0.00534816]\n",
      " [-0.00534816  0.08722395]]\n",
      "Korrelationsmatrix:\n",
      "[[ 1.         -0.06220673]\n",
      " [-0.06220673  1.        ]] \n",
      "\n"
     ]
    },
    {
     "data": {
      "image/png": "[encoded data removed]",
      "text/plain": [
       "<Figure size 1000x800 with 1 Axes>"
      ]
     },
     "metadata": {},
     "output_type": "display_data"
    }
   ],
   "source": [
    "# Visualisierung\n",
    "def viz_scatter_X_ew_C_vs_R(X):\n",
    "    x = X[:, 0]  # x-Koordinaten\n",
    "    y = X[:, 1]  # y-Koordinaten\n",
    "\n",
    "    plt.figure(figsize=(10, 8))  # Größere Figur für bessere Sichtbarkeit\n",
    "    plt.scatter(x, y, alpha=0.6, label='Datenpunkte')  # Scatter-Plot mit Transparenz\n",
    "\n",
    "    C = calc_cov(X)\n",
    "    ew_ev_C = calc_sorted_eig(C)\n",
    "\n",
    "    R = calc_cor(X)\n",
    "    ew_ev_R = calc_sorted_eig(R)\n",
    "   \n",
    "    # Eigenvektoren Kovarianzmatrix als Linien darstellen\n",
    "    for i in range(2):  # Für 2D-Daten\n",
    "        ev = ew_ev_C[1][:, i]  # i-ter Eigenvektor\n",
    "        ew = ew_ev_C[0][i]     # i-ter Eigenwert\n",
    "        plt.quiver(np.mean(x), np.mean(y), ev[0], ev[1], \n",
    "                angles='xy', scale_units='xy', scale=1/ew, \n",
    "                color=['r', 'g'][i], label=f'Eigenvektor Cov {i+1}')\n",
    "    \n",
    "    # Eigenvektoren Korrelationsmatrix als Linien darstellen\n",
    "    for i in range(2):  # Für 2D-Daten\n",
    "        ev = ew_ev_R[1][:, i]  # i-ter Eigenvektor\n",
    "        ew = ew_ev_R[0][i]     # i-ter Eigenwert\n",
    "        plt.quiver(np.mean(x), np.mean(y), ev[0], ev[1], \n",
    "                angles='xy', scale_units='xy', scale=1/ew, \n",
    "                color=['b', 'violet'][i], label=f'Eigenvektor Corr {i+1}')\n",
    "\n",
    "    plt.xlabel('X-Achse')\n",
    "    plt.ylabel('Y-Achse')\n",
    "    plt.title('Scatter-Plot von X1 mit Eigenvektoren')\n",
    "    plt.legend()\n",
    "    plt.axis('equal')  # Gleiche Skalierung für beide Achsen\n",
    "    plt.grid(False)\n",
    "\n",
    "    plt.show()\n",
    "\n",
    "scatter_1 = viz_scatter_X_ew_C_vs_R(X1)"
   ]
  },
  {
   "cell_type": "code",
   "execution_count": 56,
   "id": "fea0ae8b",
   "metadata": {},
   "outputs": [
    {
     "name": "stdout",
     "output_type": "stream",
     "text": [
      "[[ 0.08474184 -0.00534816]\n",
      " [-0.00534816  0.08722395]]\n"
     ]
    },
    {
     "data": {
      "image/png": "[encoded data removed]",
      "text/plain": [
       "<Figure size 1000x800 with 1 Axes>"
      ]
     },
     "metadata": {},
     "output_type": "display_data"
    }
   ],
   "source": [
    "# Visualisierung\n",
    "def viz_scatter_X_ew_C(X):\n",
    "    x = X[:, 0]  # x-Koordinaten\n",
    "    y = X[:, 1]  # y-Koordinaten\n",
    "\n",
    "    plt.figure(figsize=(10, 8))  # Größere Figur für bessere Sichtbarkeit\n",
    "    plt.scatter(x, y, alpha=0.6)  # Scatter-Plot mit Transparenz\n",
    "\n",
    "    C = calc_cov(X)\n",
    "    ew_ev_C = calc_sorted_eig(C)\n",
    "\n",
    "       \n",
    "    # Eigenvektoren Kovarianzmatrix als Linien darstellen\n",
    "    for i in range(2):  # Für 2D-Daten\n",
    "        ev = ew_ev_C[1][:, i]  # i-ter Eigenvektor\n",
    "        ew = ew_ev_C[0][i]     # i-ter Eigenwert\n",
    "        plt.quiver(np.mean(x), np.mean(y), ev[0], ev[1], \n",
    "                angles='xy', scale_units='xy', scale=1/ew, \n",
    "                color=['r', 'g'][i], label=f'Eigenvektor Cov {i+1}')\n",
    "    \n",
    "\n",
    "\n",
    "    plt.xlabel('X-Achse')\n",
    "    plt.ylabel('Y-Achse')\n",
    "    plt.title('Scatter-Plot von X1 mit Eigenvektoren')\n",
    "    plt.legend()\n",
    "    plt.axis('equal')  # Gleiche Skalierung für beide Achsen\n",
    "    plt.grid(False)\n",
    "\n",
    "    plt.show()\n",
    "\n",
    "scatter_1 = viz_scatter_X_ew_C(X1)"
   ]
  },
  {
   "cell_type": "markdown",
   "id": "eef79aa9",
   "metadata": {},
   "source": [
    "Du kannst deine Resultate gerne mit folgender Funktion allgemein auf Korrektheit prüfen:"
   ]
  },
  {
   "cell_type": "code",
   "execution_count": 24,
   "id": "f4f16f25",
   "metadata": {},
   "outputs": [],
   "source": [
    "def test_sorted_eig( M ):\n",
    "    ew, ev = calc_sorted_eig( M )\n",
    "    if not np.all( np.diff( ew ) <= 0 ):\n",
    "        raise Exception(\"Eigenwerte sind nicht absteigend nach Betrag sortiert!\")\n",
    "    if not np.all( np.isclose( M.dot(ev) / (ev*ew) , 1 ) ):\n",
    "        raise Exception(\"Eigenvektoren nd nicht korrrekt den Eigenwerten zugeordnet!\")\n",
    "        \n",
    "    return True"
   ]
  },
  {
   "cell_type": "code",
   "execution_count": 51,
   "id": "95a9ece9",
   "metadata": {},
   "outputs": [
    {
     "data": {
      "text/plain": [
       "True"
      ]
     },
     "execution_count": 51,
     "metadata": {},
     "output_type": "execute_result"
    }
   ],
   "source": [
    "# DEIN CODE\n",
    "test = test_sorted_eig(ev1)\n",
    "test"
   ]
  },
  {
   "cell_type": "markdown",
   "id": "17e8e6c0",
   "metadata": {},
   "source": [
    "Bestimme nun die Eigenwerte und Eigenvektoren von C1, C2 und C3 und speichere sie in `ew1`/`ev1`, `ew2`/`ev2` und `ew3`/`ev3`:"
   ]
  },
  {
   "cell_type": "code",
   "execution_count": 26,
   "id": "965e5ace",
   "metadata": {},
   "outputs": [],
   "source": [
    "# DEIN CODE\n",
    "ew1, ev1 = calc_sorted_eig(C1)\n",
    "ew2, ev2 = calc_sorted_eig(C2)\n",
    "ew3, ev3 = calc_sorted_eig(C3)"
   ]
  },
  {
   "cell_type": "markdown",
   "id": "a71fcac0",
   "metadata": {},
   "source": [
    "### d) Kovarianzmatrizen diagonalisieren"
   ]
  },
  {
   "cell_type": "markdown",
   "id": "b916b6a4",
   "metadata": {},
   "source": [
    "Benutze nun deine Resultate aus c), um die drei Kovarianzmatrizen `C1`, `C2` und `C3` zu diagonalisieren. Welche Werte erwartest du auf der Diagonalen? Bekommst du diese Werte als Resultat?"
   ]
  },
  {
   "cell_type": "code",
   "execution_count": 27,
   "id": "9e886482",
   "metadata": {},
   "outputs": [
    {
     "name": "stdout",
     "output_type": "stream",
     "text": [
      "Diagonalised covariance matrix zu: \n",
      "[[0.0915 0.    ]\n",
      " [0.     0.0805]]\n",
      "\n",
      "Diagonalised covariance matrix zu: \n",
      "[[0.5332 0.    ]\n",
      " [0.     0.0093]]\n",
      "\n",
      "Diagonalised covariance matrix zu: \n",
      "[[0.1879 0.    ]\n",
      " [0.     0.0011]]\n",
      "\n"
     ]
    }
   ],
   "source": [
    "#calculate the diagonalised covariance matrix\n",
    "def diag_cov_matrix(ew):\n",
    "    D = np.diag(ew)\n",
    "    D = np.round(D, 4)\n",
    "    print(f\"Diagonalised covariance matrix zu: \\n{D}\\n\")\n",
    "    return D\n",
    "\n",
    "\n",
    "C1_diag = diag_cov_matrix(ew1)\n",
    "C2_diag = diag_cov_matrix(ew2)\n",
    "C3_diag = diag_cov_matrix(ew3)\n"
   ]
  },
  {
   "cell_type": "code",
   "execution_count": 28,
   "id": "ec5aa895",
   "metadata": {},
   "outputs": [
    {
     "name": "stdout",
     "output_type": "stream",
     "text": [
      "Diagonalisierte Matrix C1_diag:\n",
      "[[0.0915 0.    ]\n",
      " [0.     0.0805]]\n",
      "\n",
      "Eigenwerte von C1:\n",
      "[0.08049263 0.09147316]\n"
     ]
    },
    {
     "data": {
      "image/png": "[encoded data removed]",
      "text/plain": [
       "<Figure size 800x600 with 2 Axes>"
      ]
     },
     "metadata": {},
     "output_type": "display_data"
    }
   ],
   "source": [
    "\n",
    "print(\"Diagonalisierte Matrix C1_diag:\")\n",
    "print(C1_diag)\n",
    "\n",
    "# Überprüfen Sie, ob die Diagonalelemente den Eigenwerten entsprechen\n",
    "eigenwerte, _ = np.linalg.eig(C1)\n",
    "print(\"\\nEigenwerte von C1:\")\n",
    "print(eigenwerte)\n",
    "\n",
    "# Visualisierung der diagonalisierten Matrix\n",
    "plt.figure(figsize=(8, 6))\n",
    "plt.imshow(C1_diag, cmap='viridis')\n",
    "plt.colorbar()\n",
    "plt.title(\"Visualisierung von C1_diag\")\n",
    "plt.xlabel(\"Spaltenindex\")\n",
    "plt.ylabel(\"Zeilenindex\")\n",
    "plt.show()"
   ]
  },
  {
   "cell_type": "markdown",
   "id": "d69f846c",
   "metadata": {},
   "source": [
    "### e) Varianzanteile bestimmen\n",
    "\n",
    "Im Skript hast du gesehen, dass aus den Eigenwerten die Anteile der neuen (Haupt-)Komponenten an der totalen Varianz abgelesen werden können. Bestimme für alle drei Datensets die Verteilung der Varianzanteile, indem jeweils den prozentualen Anteil der Eigenwerte an der Gesamtsumme bestimmst, indem du durch die Gesamtsumme dividierst.\n",
    "\n",
    "In welchem Datenset ist die Varianz ungefähr gleich verteilt, in welchem Datenset ist sie am stärksten ungleich verteilt? Was bedeutet es für die späteren Hauptkomponenten, wenn die Varianz ungleich verteilt ist?"
   ]
  },
  {
   "cell_type": "code",
   "execution_count": 29,
   "id": "94b3f866",
   "metadata": {},
   "outputs": [
    {
     "name": "stdout",
     "output_type": "stream",
     "text": [
      "The varaince ist True\n",
      "The varaince ist True\n",
      "The varaince ist True\n"
     ]
    }
   ],
   "source": [
    "# calculate the alpha 1+2 and check if they add up to 100% aka 1\n",
    "def varianzanteile(eigenvalues):\n",
    "    total_var = np.sum(eigenvalues)\n",
    "    var_anteile = eigenvalues / total_var * 100\n",
    "\n",
    "    alpha_1 = round(var_anteile[0,0], 1) #auf die erste Dezimalstelle gerundet\n",
    "    alpha_2 = round(var_anteile[1,1], 1) #auf die erste Dezimalstelle gerundet\n",
    "\n",
    "    is_valid = True if (alpha_1+alpha_2) == 100 else False\n",
    "\n",
    "    print(f\"The varaince ist {is_valid}\")\n",
    "    return alpha_1, alpha_2\n",
    "\n",
    " \n",
    "C1_var = varianzanteile(C1_diag)\n",
    "C2_var = varianzanteile(C2_diag)\n",
    "C3_var = varianzanteile(C3_diag)\n",
    "\n"
   ]
  },
  {
   "cell_type": "markdown",
   "id": "b9af35eb",
   "metadata": {},
   "source": [
    "### f) Daten transformieren und visualisieren\n",
    "\n",
    "Als letztes möchtest du eine komplette Hauptkomponentenanalyse der drei Datensätze durchführen. Wie im Skript angemerkt, werden typischerweise für eine Hauptkomponentenanalyse nur standardisierte Daten verwendet. Sind die Daten standardisiert, so reduziert sich die Kovarianzmatrix auf die Korrelationsmatrix.\n",
    "\n",
    "Berechne damit also zuerst die (sortierten) Eigenwerte und Eigenvektoren der *Korrelationsmatrizen* `R1`, `R2` und `R3` und erzeuge die Matrizen `V1`, `V2` und `V3`, die die gestapelten Eigenvektoren dieser drei Matrizen enthalten:"
   ]
  },
  {
   "cell_type": "code",
   "execution_count": 30,
   "id": "bf4b2337",
   "metadata": {},
   "outputs": [
    {
     "name": "stdout",
     "output_type": "stream",
     "text": [
      "Korrelationsmatrix:\n",
      "[[ 1.         -0.06220673]\n",
      " [-0.06220673  1.        ]]\n",
      "\n",
      "V:\n",
      "[[ 0.70710678  0.70710678]\n",
      " [-0.70710678  0.70710678]]\n",
      "\n",
      "Eigenvekotren:\n",
      "[[ 0.70710678  0.70710678]\n",
      " [-0.70710678  0.70710678]]\n",
      "\n",
      "Eigenwerte:\n",
      "[1.06220673 0.93779327]\n"
     ]
    }
   ],
   "source": [
    "# DEIN CODE\n",
    "def calc_PCA(X):\n",
    "    #Kovariamzmatrix bestimmen\n",
    "    mean_X = np.mean(X, axis=0)\n",
    "    X_ = (X-mean_X)\n",
    "    C = (1/(len(X)-1)) * X_.T @ X_\n",
    "       \n",
    "    #Korrelationsmatrix bestimmen\n",
    "    std = np.sqrt(np.diag(C))\n",
    "    R = C / np.outer(std, std)\n",
    "    \n",
    "    #soriterte ew, ev bestimmen\n",
    "    ew, ev = np.linalg.eig(R)\n",
    "    idx = ew.argsort()[::-1] #Indizes absteigend sortiert\n",
    "    ew_sorted = ew[idx]# Sortiere Eigenwerte und Eigenvektoren\n",
    "    ev_sorted = ev[:, idx]\n",
    "    \n",
    "   #V erstellen\n",
    "    V = np.vstack(ev_sorted)\n",
    "\n",
    "    print(f\"Korrelationsmatrix:\\n{R}\\n\\nV:\\n{V}\\n\\nEigenvekotren:\\n{ev_sorted}\\n\\nEigenwerte:\\n{ew_sorted}\")\n",
    "\n",
    "    return R, V, ev_sorted, ew_sorted\n",
    "\n",
    "\n",
    "R1, V1, ev1, ew1 = calc_PCA(X1)\n"
   ]
  },
  {
   "cell_type": "markdown",
   "id": "50617c4c",
   "metadata": {},
   "source": [
    "Transformiere nun die (standardisierten) Datensätze mit\n",
    "\n",
    "$$\n",
    "W = X V,\n",
    "$$\n",
    "\n",
    "wobei $X$ die Matrix mit den standardisierten Daten, $V$ die Matrix mit den Eigenvektoren der Korrelationsmatrix und $W$ die Matrix mit den Daten mit den neuen Hauptkomponenten darstellen. Später werden wir übrigens diese Transformation als *Transformation in die Eigenbasis der Korrelationsmatrix* bezeichnen."
   ]
  },
  {
   "cell_type": "code",
   "execution_count": 31,
   "id": "43a77fda",
   "metadata": {},
   "outputs": [
    {
     "data": {
      "text/plain": [
       "array([[ 0.75109358,  0.66311998],\n",
       "       [-0.75109358,  0.66311998]])"
      ]
     },
     "execution_count": 31,
     "metadata": {},
     "output_type": "execute_result"
    }
   ],
   "source": [
    "# DEIN CODE\n",
    "W1 = R1@V1\n",
    "W1"
   ]
  },
  {
   "cell_type": "markdown",
   "id": "a8abc2e0",
   "metadata": {},
   "source": [
    "Stelle die beiden ersten Spalten von $W$ (=erste zwei Hauptkomponenten) mit Matplotlib graphisch in einem Scatterplot einander gegenüber. Was erwartest du? Kommt heraus, was du erwartet hast?\n",
    "\n",
    "**Hinweis:** Damit du den Unterschied siehst, setzst du am besten jeweils `plt.ylim(-2,2)`."
   ]
  },
  {
   "cell_type": "code",
   "execution_count": 32,
   "id": "7ddb4821",
   "metadata": {},
   "outputs": [],
   "source": [
    "# DEIN CODE"
   ]
  },
  {
   "cell_type": "markdown",
   "id": "7d5d333e",
   "metadata": {},
   "source": [
    "## Aufgabe 2: PCA von Brustkrebsdaten\n",
    "\n",
    "Im zweiten Teil dieser Minichallenge wollen wir uns mit realistischen Daten beschäftigen. Im Rahmen einer Brustkrebsstudie von 1995 wurden Zellkerne aus entnommenem Gewebe analysiert und gleichzeitig das Wachstum des Tumors (gutartig = benign, bösartig = malignant) untersucht. Es wurden jeweils 10 Attribute wie Radius, Textur, Fläche, fraktale Dimension .. der verschiedenen Zellkerne eines Samples gemessen (siehe Beschreibung des Datensets) und jeweils pro Probe drei statistische Masse dieser 10 Attribute berechnet: Durchschnitt (*mean*), Streuung (*standard error*) und schlechtester bzw. grösster Wert (*worst*). Mit diesen drei Massen pro Attribut führt das zu insgesamt 30 Attributen (oder Features wie wir sie im Machine Learning nennen), die in unsere Auswertung eingehen und aus denen allenfalls Rückschlüsse gezogen werden können, ob der Tumor gut- oder bösartig ist.\n",
    "\n",
    "Im Folgenden lesen wir zuerst einmal das Datenset ein:"
   ]
  },
  {
   "cell_type": "code",
   "execution_count": 33,
   "id": "8c6c0081",
   "metadata": {},
   "outputs": [],
   "source": [
    "from sklearn.datasets import load_breast_cancer\n",
    "cancer = load_breast_cancer()"
   ]
  },
  {
   "cell_type": "markdown",
   "id": "f8ed5cad",
   "metadata": {},
   "source": [
    "Beschreibung:"
   ]
  },
  {
   "cell_type": "code",
   "execution_count": 34,
   "id": "d1002b7d",
   "metadata": {},
   "outputs": [
    {
     "name": "stdout",
     "output_type": "stream",
     "text": [
      ".. _breast_cancer_dataset:\n",
      "\n",
      "Breast cancer wisconsin (diagnostic) dataset\n",
      "--------------------------------------------\n",
      "\n",
      "**Data Set Characteristics:**\n",
      "\n",
      ":Number of Instances: 569\n",
      "\n",
      ":Number of Attributes: 30 numeric, predictive attributes and the class\n",
      "\n",
      ":Attribute Information:\n",
      "    - radius (mean of distances from center to points on the perimeter)\n",
      "    - texture (standard deviation of gray-scale values)\n",
      "    - perimeter\n",
      "    - area\n",
      "    - smoothness (local variation in radius lengths)\n",
      "    - compactness (perimeter^2 / area - 1.0)\n",
      "    - concavity (severity of concave portions of the contour)\n",
      "    - concave points (number of concave portions of the contour)\n",
      "    - symmetry\n",
      "    - fractal dimension (\"coastline approximation\" - 1)\n",
      "\n",
      "    The mean, standard error, and \"worst\" or largest (mean of the three\n",
      "    worst/largest values) of these features were computed for each image,\n",
      "    resulting in 30 features.  For instance, field 0 is Mean Radius, field\n",
      "    10 is Radius SE, field 20 is Worst Radius.\n",
      "\n",
      "    - class:\n",
      "            - WDBC-Malignant\n",
      "            - WDBC-Benign\n",
      "\n",
      ":Summary Statistics:\n",
      "\n",
      "===================================== ====== ======\n",
      "                                        Min    Max\n",
      "===================================== ====== ======\n",
      "radius (mean):                        6.981  28.11\n",
      "texture (mean):                       9.71   39.28\n",
      "perimeter (mean):                     43.79  188.5\n",
      "area (mean):                          143.5  2501.0\n",
      "smoothness (mean):                    0.053  0.163\n",
      "compactness (mean):                   0.019  0.345\n",
      "concavity (mean):                     0.0    0.427\n",
      "concave points (mean):                0.0    0.201\n",
      "symmetry (mean):                      0.106  0.304\n",
      "fractal dimension (mean):             0.05   0.097\n",
      "radius (standard error):              0.112  2.873\n",
      "texture (standard error):             0.36   4.885\n",
      "perimeter (standard error):           0.757  21.98\n",
      "area (standard error):                6.802  542.2\n",
      "smoothness (standard error):          0.002  0.031\n",
      "compactness (standard error):         0.002  0.135\n",
      "concavity (standard error):           0.0    0.396\n",
      "concave points (standard error):      0.0    0.053\n",
      "symmetry (standard error):            0.008  0.079\n",
      "fractal dimension (standard error):   0.001  0.03\n",
      "radius (worst):                       7.93   36.04\n",
      "texture (worst):                      12.02  49.54\n",
      "perimeter (worst):                    50.41  251.2\n",
      "area (worst):                         185.2  4254.0\n",
      "smoothness (worst):                   0.071  0.223\n",
      "compactness (worst):                  0.027  1.058\n",
      "concavity (worst):                    0.0    1.252\n",
      "concave points (worst):               0.0    0.291\n",
      "symmetry (worst):                     0.156  0.664\n",
      "fractal dimension (worst):            0.055  0.208\n",
      "===================================== ====== ======\n",
      "\n",
      ":Missing Attribute Values: None\n",
      "\n",
      ":Class Distribution: 212 - Malignant, 357 - Benign\n",
      "\n",
      ":Creator:  Dr. William H. Wolberg, W. Nick Street, Olvi L. Mangasarian\n",
      "\n",
      ":Donor: Nick Street\n",
      "\n",
      ":Date: November, 1995\n",
      "\n",
      "This is a copy of UCI ML Breast Cancer Wisconsin (Diagnostic) datasets.\n",
      "https://goo.gl/U2Uwz2\n",
      "\n",
      "Features are computed from a digitized image of a fine needle\n",
      "aspirate (FNA) of a breast mass.  They describe\n",
      "characteristics of the cell nuclei present in the image.\n",
      "\n",
      "Separating plane described above was obtained using\n",
      "Multisurface Method-Tree (MSM-T) [K. P. Bennett, \"Decision Tree\n",
      "Construction Via Linear Programming.\" Proceedings of the 4th\n",
      "Midwest Artificial Intelligence and Cognitive Science Society,\n",
      "pp. 97-101, 1992], a classification method which uses linear\n",
      "programming to construct a decision tree.  Relevant features\n",
      "were selected using an exhaustive search in the space of 1-4\n",
      "features and 1-3 separating planes.\n",
      "\n",
      "The actual linear program used to obtain the separating plane\n",
      "in the 3-dimensional space is that described in:\n",
      "[K. P. Bennett and O. L. Mangasarian: \"Robust Linear\n",
      "Programming Discrimination of Two Linearly Inseparable Sets\",\n",
      "Optimization Methods and Software 1, 1992, 23-34].\n",
      "\n",
      "This database is also available through the UW CS ftp server:\n",
      "\n",
      "ftp ftp.cs.wisc.edu\n",
      "cd math-prog/cpo-dataset/machine-learn/WDBC/\n",
      "\n",
      ".. dropdown:: References\n",
      "\n",
      "  - W.N. Street, W.H. Wolberg and O.L. Mangasarian. Nuclear feature extraction\n",
      "    for breast tumor diagnosis. IS&T/SPIE 1993 International Symposium on\n",
      "    Electronic Imaging: Science and Technology, volume 1905, pages 861-870,\n",
      "    San Jose, CA, 1993.\n",
      "  - O.L. Mangasarian, W.N. Street and W.H. Wolberg. Breast cancer diagnosis and\n",
      "    prognosis via linear programming. Operations Research, 43(4), pages 570-577,\n",
      "    July-August 1995.\n",
      "  - W.H. Wolberg, W.N. Street, and O.L. Mangasarian. Machine learning techniques\n",
      "    to diagnose breast cancer from fine-needle aspirates. Cancer Letters 77 (1994)\n",
      "    163-171.\n",
      "\n"
     ]
    }
   ],
   "source": [
    "print( cancer.DESCR )"
   ]
  },
  {
   "cell_type": "markdown",
   "id": "107e7d2a",
   "metadata": {},
   "source": [
    "30 Attribute:"
   ]
  },
  {
   "cell_type": "code",
   "execution_count": 35,
   "id": "5a3ec9e8",
   "metadata": {},
   "outputs": [
    {
     "data": {
      "text/html": [
       "<div>\n",
       "<style scoped>\n",
       "    .dataframe tbody tr th:only-of-type {\n",
       "        vertical-align: middle;\n",
       "    }\n",
       "\n",
       "    .dataframe tbody tr th {\n",
       "        vertical-align: top;\n",
       "    }\n",
       "\n",
       "    .dataframe thead th {\n",
       "        text-align: right;\n",
       "    }\n",
       "</style>\n",
       "<table border=\"1\" class=\"dataframe\">\n",
       "  <thead>\n",
       "    <tr style=\"text-align: right;\">\n",
       "      <th></th>\n",
       "      <th>mean radius</th>\n",
       "      <th>mean texture</th>\n",
       "      <th>mean perimeter</th>\n",
       "      <th>mean area</th>\n",
       "      <th>mean smoothness</th>\n",
       "      <th>mean compactness</th>\n",
       "      <th>mean concavity</th>\n",
       "      <th>mean concave points</th>\n",
       "      <th>mean symmetry</th>\n",
       "      <th>mean fractal dimension</th>\n",
       "      <th>...</th>\n",
       "      <th>worst radius</th>\n",
       "      <th>worst texture</th>\n",
       "      <th>worst perimeter</th>\n",
       "      <th>worst area</th>\n",
       "      <th>worst smoothness</th>\n",
       "      <th>worst compactness</th>\n",
       "      <th>worst concavity</th>\n",
       "      <th>worst concave points</th>\n",
       "      <th>worst symmetry</th>\n",
       "      <th>worst fractal dimension</th>\n",
       "    </tr>\n",
       "  </thead>\n",
       "  <tbody>\n",
       "    <tr>\n",
       "      <th>0</th>\n",
       "      <td>17.99</td>\n",
       "      <td>10.38</td>\n",
       "      <td>122.80</td>\n",
       "      <td>1001.0</td>\n",
       "      <td>0.11840</td>\n",
       "      <td>0.27760</td>\n",
       "      <td>0.3001</td>\n",
       "      <td>0.14710</td>\n",
       "      <td>0.2419</td>\n",
       "      <td>0.07871</td>\n",
       "      <td>...</td>\n",
       "      <td>25.38</td>\n",
       "      <td>17.33</td>\n",
       "      <td>184.60</td>\n",
       "      <td>2019.0</td>\n",
       "      <td>0.1622</td>\n",
       "      <td>0.6656</td>\n",
       "      <td>0.7119</td>\n",
       "      <td>0.2654</td>\n",
       "      <td>0.4601</td>\n",
       "      <td>0.11890</td>\n",
       "    </tr>\n",
       "    <tr>\n",
       "      <th>1</th>\n",
       "      <td>20.57</td>\n",
       "      <td>17.77</td>\n",
       "      <td>132.90</td>\n",
       "      <td>1326.0</td>\n",
       "      <td>0.08474</td>\n",
       "      <td>0.07864</td>\n",
       "      <td>0.0869</td>\n",
       "      <td>0.07017</td>\n",
       "      <td>0.1812</td>\n",
       "      <td>0.05667</td>\n",
       "      <td>...</td>\n",
       "      <td>24.99</td>\n",
       "      <td>23.41</td>\n",
       "      <td>158.80</td>\n",
       "      <td>1956.0</td>\n",
       "      <td>0.1238</td>\n",
       "      <td>0.1866</td>\n",
       "      <td>0.2416</td>\n",
       "      <td>0.1860</td>\n",
       "      <td>0.2750</td>\n",
       "      <td>0.08902</td>\n",
       "    </tr>\n",
       "    <tr>\n",
       "      <th>2</th>\n",
       "      <td>19.69</td>\n",
       "      <td>21.25</td>\n",
       "      <td>130.00</td>\n",
       "      <td>1203.0</td>\n",
       "      <td>0.10960</td>\n",
       "      <td>0.15990</td>\n",
       "      <td>0.1974</td>\n",
       "      <td>0.12790</td>\n",
       "      <td>0.2069</td>\n",
       "      <td>0.05999</td>\n",
       "      <td>...</td>\n",
       "      <td>23.57</td>\n",
       "      <td>25.53</td>\n",
       "      <td>152.50</td>\n",
       "      <td>1709.0</td>\n",
       "      <td>0.1444</td>\n",
       "      <td>0.4245</td>\n",
       "      <td>0.4504</td>\n",
       "      <td>0.2430</td>\n",
       "      <td>0.3613</td>\n",
       "      <td>0.08758</td>\n",
       "    </tr>\n",
       "    <tr>\n",
       "      <th>3</th>\n",
       "      <td>11.42</td>\n",
       "      <td>20.38</td>\n",
       "      <td>77.58</td>\n",
       "      <td>386.1</td>\n",
       "      <td>0.14250</td>\n",
       "      <td>0.28390</td>\n",
       "      <td>0.2414</td>\n",
       "      <td>0.10520</td>\n",
       "      <td>0.2597</td>\n",
       "      <td>0.09744</td>\n",
       "      <td>...</td>\n",
       "      <td>14.91</td>\n",
       "      <td>26.50</td>\n",
       "      <td>98.87</td>\n",
       "      <td>567.7</td>\n",
       "      <td>0.2098</td>\n",
       "      <td>0.8663</td>\n",
       "      <td>0.6869</td>\n",
       "      <td>0.2575</td>\n",
       "      <td>0.6638</td>\n",
       "      <td>0.17300</td>\n",
       "    </tr>\n",
       "    <tr>\n",
       "      <th>4</th>\n",
       "      <td>20.29</td>\n",
       "      <td>14.34</td>\n",
       "      <td>135.10</td>\n",
       "      <td>1297.0</td>\n",
       "      <td>0.10030</td>\n",
       "      <td>0.13280</td>\n",
       "      <td>0.1980</td>\n",
       "      <td>0.10430</td>\n",
       "      <td>0.1809</td>\n",
       "      <td>0.05883</td>\n",
       "      <td>...</td>\n",
       "      <td>22.54</td>\n",
       "      <td>16.67</td>\n",
       "      <td>152.20</td>\n",
       "      <td>1575.0</td>\n",
       "      <td>0.1374</td>\n",
       "      <td>0.2050</td>\n",
       "      <td>0.4000</td>\n",
       "      <td>0.1625</td>\n",
       "      <td>0.2364</td>\n",
       "      <td>0.07678</td>\n",
       "    </tr>\n",
       "  </tbody>\n",
       "</table>\n",
       "<p>5 rows × 30 columns</p>\n",
       "</div>"
      ],
      "text/plain": [
       "   mean radius  mean texture  mean perimeter  mean area  mean smoothness  \\\n",
       "0        17.99         10.38          122.80     1001.0          0.11840   \n",
       "1        20.57         17.77          132.90     1326.0          0.08474   \n",
       "2        19.69         21.25          130.00     1203.0          0.10960   \n",
       "3        11.42         20.38           77.58      386.1          0.14250   \n",
       "4        20.29         14.34          135.10     1297.0          0.10030   \n",
       "\n",
       "   mean compactness  mean concavity  mean concave points  mean symmetry  \\\n",
       "0           0.27760          0.3001              0.14710         0.2419   \n",
       "1           0.07864          0.0869              0.07017         0.1812   \n",
       "2           0.15990          0.1974              0.12790         0.2069   \n",
       "3           0.28390          0.2414              0.10520         0.2597   \n",
       "4           0.13280          0.1980              0.10430         0.1809   \n",
       "\n",
       "   mean fractal dimension  ...  worst radius  worst texture  worst perimeter  \\\n",
       "0                 0.07871  ...         25.38          17.33           184.60   \n",
       "1                 0.05667  ...         24.99          23.41           158.80   \n",
       "2                 0.05999  ...         23.57          25.53           152.50   \n",
       "3                 0.09744  ...         14.91          26.50            98.87   \n",
       "4                 0.05883  ...         22.54          16.67           152.20   \n",
       "\n",
       "   worst area  worst smoothness  worst compactness  worst concavity  \\\n",
       "0      2019.0            0.1622             0.6656           0.7119   \n",
       "1      1956.0            0.1238             0.1866           0.2416   \n",
       "2      1709.0            0.1444             0.4245           0.4504   \n",
       "3       567.7            0.2098             0.8663           0.6869   \n",
       "4      1575.0            0.1374             0.2050           0.4000   \n",
       "\n",
       "   worst concave points  worst symmetry  worst fractal dimension  \n",
       "0                0.2654          0.4601                  0.11890  \n",
       "1                0.1860          0.2750                  0.08902  \n",
       "2                0.2430          0.3613                  0.08758  \n",
       "3                0.2575          0.6638                  0.17300  \n",
       "4                0.1625          0.2364                  0.07678  \n",
       "\n",
       "[5 rows x 30 columns]"
      ]
     },
     "execution_count": 35,
     "metadata": {},
     "output_type": "execute_result"
    }
   ],
   "source": [
    "df = pd.DataFrame( cancer.data, columns=cancer.feature_names )\n",
    "df.head()"
   ]
  },
  {
   "cell_type": "markdown",
   "id": "3fbdde51",
   "metadata": {},
   "source": [
    "Zielvariable (0=bösartig, 1=gutartig):"
   ]
  },
  {
   "cell_type": "code",
   "execution_count": 36,
   "id": "961bb02a",
   "metadata": {},
   "outputs": [
    {
     "data": {
      "text/plain": [
       "array(['malign', 'malign', 'malign', 'malign', 'malign', 'malign',\n",
       "       'malign', 'malign', 'malign', 'malign', 'malign', 'malign',\n",
       "       'malign', 'malign', 'malign', 'malign', 'malign', 'malign',\n",
       "       'malign', 'benign', 'benign', 'benign', 'malign', 'malign',\n",
       "       'malign', 'malign', 'malign', 'malign', 'malign', 'malign'],\n",
       "      dtype='<U6')"
      ]
     },
     "execution_count": 36,
     "metadata": {},
     "output_type": "execute_result"
    }
   ],
   "source": [
    "target = np.where( cancer.target==0, \"malign\", \"benign\" )\n",
    "target[:30]"
   ]
  },
  {
   "cell_type": "code",
   "execution_count": 37,
   "id": "30a28c06",
   "metadata": {},
   "outputs": [
    {
     "data": {
      "text/plain": [
       "(array(['benign', 'malign'], dtype='<U6'), array([357, 212]))"
      ]
     },
     "execution_count": 37,
     "metadata": {},
     "output_type": "execute_result"
    }
   ],
   "source": [
    "np.unique( target, return_counts=True )"
   ]
  },
  {
   "cell_type": "markdown",
   "id": "5feec77b",
   "metadata": {},
   "source": [
    "62.7% der Tumore im Datenset sind gutartig!"
   ]
  },
  {
   "cell_type": "markdown",
   "id": "c394f8de",
   "metadata": {},
   "source": [
    "Features / Attribute:"
   ]
  },
  {
   "cell_type": "code",
   "execution_count": 38,
   "id": "fa391539",
   "metadata": {},
   "outputs": [
    {
     "data": {
      "text/plain": [
       "Index(['mean radius', 'mean texture', 'mean perimeter', 'mean area',\n",
       "       'mean smoothness', 'mean compactness', 'mean concavity',\n",
       "       'mean concave points', 'mean symmetry', 'mean fractal dimension',\n",
       "       'radius error', 'texture error', 'perimeter error', 'area error',\n",
       "       'smoothness error', 'compactness error', 'concavity error',\n",
       "       'concave points error', 'symmetry error', 'fractal dimension error',\n",
       "       'worst radius', 'worst texture', 'worst perimeter', 'worst area',\n",
       "       'worst smoothness', 'worst compactness', 'worst concavity',\n",
       "       'worst concave points', 'worst symmetry', 'worst fractal dimension'],\n",
       "      dtype='object')"
      ]
     },
     "execution_count": 38,
     "metadata": {},
     "output_type": "execute_result"
    }
   ],
   "source": [
    "df.columns"
   ]
  },
  {
   "cell_type": "markdown",
   "id": "5dbd31f3",
   "metadata": {},
   "source": [
    "### a) Korrelationsmatrix berechnen und visualisieren"
   ]
  },
  {
   "cell_type": "markdown",
   "id": "a31b3c72",
   "metadata": {},
   "source": [
    "Hier möchten wir gleich wie in Aufgabe 1 vorgehen. Zuerst ziehen wir aber eine Matrix mit den Daten aus dem Data Frame:"
   ]
  },
  {
   "cell_type": "code",
   "execution_count": 39,
   "id": "12817c79",
   "metadata": {},
   "outputs": [
    {
     "data": {
      "text/plain": [
       "(569, 30)"
      ]
     },
     "execution_count": 39,
     "metadata": {},
     "output_type": "execute_result"
    }
   ],
   "source": [
    "X = df.to_numpy()\n",
    "X.shape"
   ]
  },
  {
   "cell_type": "markdown",
   "id": "920d55c9",
   "metadata": {},
   "source": [
    "`X` enthält die Daten von 569 Untersuchungen mit den jeweils 30 Attributen. Eine Visualisierung dieses hochdimensionalen Datensatzes ist sehr schwierig, wenn nicht unmöglich. Möchten wir alle Variablen gegeinander aufplotten, so müssen wir $\\frac{30\\times30}{2} - 30 = 420$ Plots anschauen! Das wird natürlich schwierig. Um trotzdem die im Datenset enthaltenen Zusammenhänge etwas verstehen zu können, schauen wir uns als Erstes die Korrelationsmatrix an.\n",
    "\n",
    "Berechne diese mit den gleichen Mitteln wie in Aufgabe1:"
   ]
  },
  {
   "cell_type": "code",
   "execution_count": 40,
   "id": "95f1785f",
   "metadata": {},
   "outputs": [],
   "source": [
    "# DEIN CODE"
   ]
  },
  {
   "cell_type": "markdown",
   "id": "737adf47",
   "metadata": {},
   "source": [
    "Benutze die folgende Funktion, um sie zu visualisieren (bereits für dich implementiert):"
   ]
  },
  {
   "cell_type": "code",
   "execution_count": 41,
   "id": "b68fb3b0",
   "metadata": {},
   "outputs": [],
   "source": [
    "def corrmat( R ):\n",
    "    plt.figure(figsize=(10,10))\n",
    "    plt.matshow( R, cmap=\"bwr\", fignum=1, vmin=-1, vmax=1 )\n",
    "    plt.colorbar( fraction=0.02 )\n",
    "    plt.xticks( np.arange(0,30) )\n",
    "    plt.gca().set_xticklabels( df.columns, rotation=90 )\n",
    "    plt.yticks( np.arange(0,30) )\n",
    "    plt.gca().set_yticklabels( df.columns )"
   ]
  },
  {
   "cell_type": "code",
   "execution_count": 42,
   "id": "858d5521",
   "metadata": {},
   "outputs": [],
   "source": [
    "# DEIN CODE"
   ]
  },
  {
   "cell_type": "markdown",
   "id": "77045391",
   "metadata": {},
   "source": [
    "Wie schätzt du die Zusammenhänge zwischen den einzelnen Variablen ein? Generell gross oder klein? Je grösser, desto eher kannst du später den Datensatz mit nur wenigen Hauptkomponenten fast gleich gut erklären."
   ]
  },
  {
   "cell_type": "markdown",
   "id": "d2f535fe",
   "metadata": {},
   "source": [
    "### b) Eigenwerte und Eigenvektoren berechnen"
   ]
  },
  {
   "cell_type": "markdown",
   "id": "7c6a9628",
   "metadata": {},
   "source": [
    "Bestimme nun alle Eigenwerte und Eigenvektoren der in a) berechneten Korrelationsmatrix. Benutze dazu deine Funktion `sorted_eig()` aus Aufgabe 1."
   ]
  },
  {
   "cell_type": "code",
   "execution_count": 43,
   "id": "827641c4",
   "metadata": {},
   "outputs": [],
   "source": [
    "# DEIN CODE"
   ]
  },
  {
   "cell_type": "markdown",
   "id": "7a34de35",
   "metadata": {},
   "source": [
    "### c) Scree-Plot mit Varianzanteilen erstellen"
   ]
  },
  {
   "cell_type": "markdown",
   "id": "d3785880",
   "metadata": {},
   "source": [
    "Nun möchten wir ebenfalls die Varianzanteile aus den Eigenwerten wie aus Aufgabe 1e) berechnen. Statt zwei Prozentzahlen solltest du jetzt aber 30 absteigende Prozentzahlen bekommen:"
   ]
  },
  {
   "cell_type": "code",
   "execution_count": 44,
   "id": "fc8ec18a",
   "metadata": {},
   "outputs": [],
   "source": [
    "# DEIN CODE"
   ]
  },
  {
   "cell_type": "markdown",
   "id": "8a68a5b2",
   "metadata": {},
   "source": [
    "Stelle die Varianzanteile graphisch dar, indem du auf der $x$-Achse Werte von 1-30 (die 30 Hauptkomponenten) und auf der $y$-Achse die Varianzanteile mit `plt.plot()` plottest. Du solltest einen abfallenden Plot bekommen, den sogenannten *Scree-Plot*."
   ]
  },
  {
   "cell_type": "code",
   "execution_count": 45,
   "id": "ac13fb68",
   "metadata": {},
   "outputs": [],
   "source": [
    "# DEIN CODE"
   ]
  },
  {
   "cell_type": "markdown",
   "id": "d48e29b8",
   "metadata": {},
   "source": [
    "Oft möchte man nur die ersten $k$ Hauptkomponenten benutzen, die zusammen zum Beispiel 90% der Varianz in den Daten erklären können. Erstelle dazu einen **kumulativen** Scree-Plot, indem du `np.sum()` durch `np.cumsum()` ersetzst."
   ]
  },
  {
   "cell_type": "code",
   "execution_count": 46,
   "id": "b4d32260",
   "metadata": {},
   "outputs": [],
   "source": [
    "# DEIN CODE "
   ]
  },
  {
   "cell_type": "markdown",
   "id": "5a294126",
   "metadata": {},
   "source": [
    "Lese damit die Antwort auf folgende zwei Fragen ab: \n",
    "* Wieviele Hauptkomponenten brauchst du, um 90% der Varianz zu erklären?\n",
    "* Wieviele Prozent der Varianz erklären die ersten beiden Hauptkomponenten ungefähr?"
   ]
  },
  {
   "cell_type": "markdown",
   "id": "e0b6c63b",
   "metadata": {},
   "source": [
    "### d) Hauptkomponenten berechnen und visualisieren"
   ]
  },
  {
   "cell_type": "markdown",
   "id": "eda28cb0",
   "metadata": {},
   "source": [
    "Berechne nun die Hauptkomponentendarstellung wie im Skript beschrieben über\n",
    "\n",
    "$$\n",
    "W = X \\, V.\n",
    "$$\n",
    "\n",
    "Stelle sicher, dass $W$ die gleichen Dimensionen hat wie $X$ und dass du die **standardskalierte** Version von $X$ verwendest."
   ]
  },
  {
   "cell_type": "code",
   "execution_count": 47,
   "id": "913cac17",
   "metadata": {},
   "outputs": [],
   "source": [
    "# DEIN CODE"
   ]
  },
  {
   "cell_type": "markdown",
   "id": "8adeaceb",
   "metadata": {},
   "source": [
    "Stelle nun die ersten beiden Hauptkomponenten (erste zwei Spalten von $W$) in einem Scatterplot einander gegenüber. Färbe dabei die einzelnen Punkte so ein, dass erkennbar ist, ob der Tumor gut- oder bösartig war. Was denkst du, könnte ein Machine Learning - Modell gut aus der Gewebeprobe die Bösartigkeit eines Tumors beurteilen? Wieviele Hauptkomponenten braucht es zu einer guten Vorhersage?\n",
    "\n",
    "**Hinweis:** Entsprechende Farben für `plt.scatter()` kannst du folgendermassen erstellen:"
   ]
  },
  {
   "cell_type": "code",
   "execution_count": 48,
   "id": "1e64b25f",
   "metadata": {},
   "outputs": [],
   "source": [
    "target_color = np.where(target==\"malign\", \"red\", \"green\")"
   ]
  },
  {
   "cell_type": "code",
   "execution_count": 49,
   "id": "8fe1c76c",
   "metadata": {},
   "outputs": [],
   "source": [
    "# DEIN CODE"
   ]
  },
  {
   "cell_type": "markdown",
   "id": "a6a994f3",
   "metadata": {},
   "source": [
    "### e) Hauptkomponenten interpretieren"
   ]
  },
  {
   "cell_type": "markdown",
   "id": "c3f87e36",
   "metadata": {},
   "source": [
    "Zum Schluss möchten wir die gefundenen Hauptkomponenten noch zu interpretieren versuchen. Das ist nicht immer einfach, da die resultierenden Hauptkomponenten aus vielen der eingehenden Atrribute aus $X$ zusammengemischt sind.\n",
    "Erstelle dazu pro Hauptkomponente $k$ (entspricht der Spalte $\\mathbf{w}_k$ aus $W$) einen Barplot mit `plt.bar()`, der auf der $x$-Achse die Feature-Namen enthält (aus `df.columns`) und auf der $y$-Achse die Werte des $k$-ten Spaltenvektors aus $V$ (Theorie dazu siehe Skript). Konzentriere dich auf die ersten 7 Hauptkomponenten. Verschaffe dir eine Übersicht, welche Variablen in den einzelnen Hauptkomponenten dominieren."
   ]
  },
  {
   "cell_type": "code",
   "execution_count": 50,
   "id": "ec2280b9",
   "metadata": {},
   "outputs": [],
   "source": [
    "# DEIN CODE"
   ]
  }
 ],
 "metadata": {
  "kernelspec": {
   "display_name": "Python 3",
   "language": "python",
   "name": "python3"
  },
  "language_info": {
   "codemirror_mode": {
    "name": "ipython",
    "version": 3
   },
   "file_extension": ".py",
   "mimetype": "text/x-python",
   "name": "python",
   "nbconvert_exporter": "python",
   "pygments_lexer": "ipython3",
   "version": "3.13.1"
  }
 },
 "nbformat": 4,
 "nbformat_minor": 5
}
