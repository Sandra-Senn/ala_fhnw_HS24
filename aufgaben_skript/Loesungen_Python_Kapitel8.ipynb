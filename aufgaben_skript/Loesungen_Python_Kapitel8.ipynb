{
 "cells": [
  {
   "cell_type": "markdown",
   "id": "6378e1a9-d0fc-4c44-b126-7d9c33cb2d25",
   "metadata": {},
   "source": [
    "# Lösungen zu den Python-Aufgaben aus Kapitel 8"
   ]
  },
  {
   "cell_type": "markdown",
   "id": "d9bfc8ff-89f7-4456-ab25-42c6d79cc440",
   "metadata": {},
   "source": [
    "Bibliotheken laden:"
   ]
  },
  {
   "cell_type": "code",
   "execution_count": 1,
   "id": "0778cdf9-3147-481c-993a-953ec2682fdc",
   "metadata": {},
   "outputs": [],
   "source": [
    "import numpy as np"
   ]
  },
  {
   "cell_type": "markdown",
   "id": "a65b70e7-bb39-4923-8df2-c4b213eeda37",
   "metadata": {},
   "source": [
    "## Aufgabe 5"
   ]
  },
  {
   "cell_type": "markdown",
   "id": "ab1ba261-5c0d-47f7-ac14-b4ff13ec525f",
   "metadata": {},
   "source": [
    "### Matrizen und Vektoren aus Aufgaben 1 und 5 definieren:"
   ]
  },
  {
   "cell_type": "code",
   "execution_count": 26,
   "id": "fb670fdd-951a-4618-9589-871279079bb9",
   "metadata": {},
   "outputs": [],
   "source": [
    "u = np.array([[1],[0],[-3],[2]])\n",
    "A = np.array([[0,1],[-2,1]])\n",
    "B = np.array([[0,1,1],[1,0,1],[1,1,0]])"
   ]
  },
  {
   "cell_type": "markdown",
   "id": "6bbf82de-3734-4f17-9578-a077267e64a0",
   "metadata": {},
   "source": [
    "### Funktion ohne Numpy:"
   ]
  },
  {
   "cell_type": "code",
   "execution_count": 27,
   "id": "942f8f37-f971-44e8-8f86-b81685489f50",
   "metadata": {},
   "outputs": [],
   "source": [
    "def lpnorm( x, p=2 ):\n",
    "    if p < 1:\n",
    "        raise Exception(\"keine Norm!\")\n",
    "    elif np.isinf(p):\n",
    "        return np.max( np.abs(x) )\n",
    "    else:\n",
    "        return np.sum( np.abs(x)**p )**(1/p)"
   ]
  },
  {
   "cell_type": "markdown",
   "id": "55be3517-d8f4-414e-a890-03771d83fb43",
   "metadata": {},
   "source": [
    "deckt alle $\\ell_p$-Normen auf Vektoren und Matrizen ab, berücksichtigt aber Operatornormen noch nicht. Dazu können wir folgende Funktion definieren:"
   ]
  },
  {
   "cell_type": "code",
   "execution_count": 28,
   "id": "2a9c2e15-b517-4899-aafc-3fbaae41cf3f",
   "metadata": {},
   "outputs": [],
   "source": [
    "def opnorm( A, p=2 ):\n",
    "    \n",
    "    # Spaltensummennorm\n",
    "    if p==1:\n",
    "        return np.max( np.sum(np.abs(A), axis=0) )\n",
    "    \n",
    "    # Spektralnorm\n",
    "    if p==2:\n",
    "        return np.sqrt( np.max( np.linalg.eigvals(A.T@A) ) )\n",
    "\n",
    "    # Zeilensummennorm\n",
    "    elif np.isinf(p):\n",
    "        return np.max( np.sum(np.abs(A), axis=1) )"
   ]
  },
  {
   "cell_type": "markdown",
   "id": "6a6697e9-fb7e-4001-ac09-5c667694c9ee",
   "metadata": {},
   "source": [
    "### Funktionen mit Numpy:"
   ]
  },
  {
   "cell_type": "markdown",
   "id": "39c6c32c-e28f-464c-8123-820471731474",
   "metadata": {},
   "source": [
    "Die Funktion `np.linalg.norm()` berechnet Normen von Vektoren und Matrizen. Der Wert für $p$ kann über das zweite Argument (`ord`) gesetzt werden. **Bei $p=1$ oder $p=\\inf$ muss für Matrizen genau geprüft werden, ob das erwartete Resultat zurückgegeben wird (siehe unten)**"
   ]
  },
  {
   "cell_type": "markdown",
   "id": "e3b7c3c8-50cb-4be9-a8c0-504f12cdfba9",
   "metadata": {},
   "source": [
    "### Vektornormen berechnen:\n",
    "\n",
    "(jeweils für die selbst implementierte Funktion und für die Numpy-Funktion)"
   ]
  },
  {
   "cell_type": "markdown",
   "id": "aad9537a-d4bb-4d0d-b5d9-7fd517702a47",
   "metadata": {},
   "source": [
    "$p=1$"
   ]
  },
  {
   "cell_type": "code",
   "execution_count": 29,
   "id": "acff16e1-5a5a-4302-aa4c-c2ac4508f00d",
   "metadata": {},
   "outputs": [
    {
     "data": {
      "text/plain": [
       "(6.0, 6.0)"
      ]
     },
     "execution_count": 29,
     "metadata": {},
     "output_type": "execute_result"
    }
   ],
   "source": [
    "np.linalg.norm(u, 1), lpnorm(u, 1)"
   ]
  },
  {
   "cell_type": "markdown",
   "id": "174a290c-cdee-485e-84fe-7286a280639a",
   "metadata": {},
   "source": [
    "$p=2$"
   ]
  },
  {
   "cell_type": "code",
   "execution_count": 30,
   "id": "7dfa8378-89fa-4869-a937-3369ea265bb0",
   "metadata": {},
   "outputs": [
    {
     "data": {
      "text/plain": [
       "(3.7416573867739413, 3.7416573867739413)"
      ]
     },
     "execution_count": 30,
     "metadata": {},
     "output_type": "execute_result"
    }
   ],
   "source": [
    "np.linalg.norm(u), lpnorm(u)"
   ]
  },
  {
   "cell_type": "markdown",
   "id": "d05a3e6c-319f-4a0c-9fd3-8a6e9a0e4790",
   "metadata": {},
   "source": [
    "$p=5$ (wie im Aufgabenbeispiel)"
   ]
  },
  {
   "cell_type": "markdown",
   "id": "133a8e1e-3d5f-4454-b0ed-78d1210a7fb5",
   "metadata": {},
   "source": [
    "<font color=\"red\">Achtung: Da dieser Wert von $p$ eigentlich nie benutzt wird, akzeptiert ihn `np.linalg.norm()` nicht.</font>"
   ]
  },
  {
   "cell_type": "code",
   "execution_count": 31,
   "id": "2d8f12c5-6391-42a7-b244-6972571547ad",
   "metadata": {},
   "outputs": [
    {
     "data": {
      "text/plain": [
       "3.077384885394063"
      ]
     },
     "execution_count": 31,
     "metadata": {},
     "output_type": "execute_result"
    }
   ],
   "source": [
    "lpnorm(u, 5)"
   ]
  },
  {
   "cell_type": "markdown",
   "id": "42616aa5-db81-4340-9d29-98a4ab083548",
   "metadata": {},
   "source": [
    "$p = \\infty$"
   ]
  },
  {
   "cell_type": "code",
   "execution_count": 32,
   "id": "0b2d6828-c092-4761-b1a5-f2a0f186edef",
   "metadata": {},
   "outputs": [
    {
     "data": {
      "text/plain": [
       "(3.0, 3)"
      ]
     },
     "execution_count": 32,
     "metadata": {},
     "output_type": "execute_result"
    }
   ],
   "source": [
    "np.linalg.norm(u, np.inf), lpnorm(u, np.inf)"
   ]
  },
  {
   "cell_type": "markdown",
   "id": "9c583317-aec0-4e07-9508-f6dfd68bc9af",
   "metadata": {},
   "source": [
    "### Matrizennormen berechnen:"
   ]
  },
  {
   "cell_type": "markdown",
   "id": "6b119fe8-b8ee-4e4f-b45f-ce441c04f4d2",
   "metadata": {},
   "source": [
    "#### $\\ell_p$ Normen:"
   ]
  },
  {
   "cell_type": "markdown",
   "id": "4989a5af-46b0-4c95-b31e-68fb640152f0",
   "metadata": {},
   "source": [
    "$p=1$ (Summennorm)"
   ]
  },
  {
   "cell_type": "markdown",
   "id": "5be20bd6-3e70-4c3b-b9b3-9aca0ad114ef",
   "metadata": {},
   "source": [
    "<font color=\"red\">Achtung, die $\\ell_1$-Norm für Matrizen kennt `np.linalg.norm()` nicht! Stattdessen wir die Spaltensummennorm berechnet.<font>"
   ]
  },
  {
   "cell_type": "code",
   "execution_count": 33,
   "id": "c2440f82-cc1e-415a-9af7-2399185902a7",
   "metadata": {},
   "outputs": [
    {
     "data": {
      "text/plain": [
       "(2.0, 4.0)"
      ]
     },
     "execution_count": 33,
     "metadata": {},
     "output_type": "execute_result"
    }
   ],
   "source": [
    "np.linalg.norm(A, 1), lpnorm(A,1)"
   ]
  },
  {
   "cell_type": "code",
   "execution_count": 34,
   "id": "608fcb03-e8e9-4b2d-9a96-c4402d7d2cae",
   "metadata": {},
   "outputs": [
    {
     "data": {
      "text/plain": [
       "(2.0, 6.0)"
      ]
     },
     "execution_count": 34,
     "metadata": {},
     "output_type": "execute_result"
    }
   ],
   "source": [
    "np.linalg.norm(B, 1), lpnorm(B,1)"
   ]
  },
  {
   "cell_type": "markdown",
   "id": "de243873-45de-4869-a4df-f9f613c1447b",
   "metadata": {},
   "source": [
    "$p=2$ (Frobenius)"
   ]
  },
  {
   "cell_type": "markdown",
   "id": "494147d4-584d-4a72-a7e9-8d08434cbee9",
   "metadata": {},
   "source": [
    "<font color=\"red\">Achtung, das Default-Argument von `np.linalg.norm()` ist 'fro' für Frobenius-Norm, nicht '2' für Spektralnorm!</font>"
   ]
  },
  {
   "cell_type": "code",
   "execution_count": 35,
   "id": "44d55460-6acd-436c-830d-8c205b1b73a3",
   "metadata": {},
   "outputs": [
    {
     "data": {
      "text/plain": [
       "(2.449489742783178, 2.449489742783178)"
      ]
     },
     "execution_count": 35,
     "metadata": {},
     "output_type": "execute_result"
    }
   ],
   "source": [
    "np.linalg.norm(A), lpnorm(A)"
   ]
  },
  {
   "cell_type": "code",
   "execution_count": 36,
   "id": "84f51287-41a6-4803-ae6f-199f10f9e620",
   "metadata": {},
   "outputs": [
    {
     "data": {
      "text/plain": [
       "(2.449489742783178, 2.449489742783178)"
      ]
     },
     "execution_count": 36,
     "metadata": {},
     "output_type": "execute_result"
    }
   ],
   "source": [
    "np.linalg.norm(B), lpnorm(B)"
   ]
  },
  {
   "cell_type": "markdown",
   "id": "827960a3-c31f-42da-88fe-2946b2bac334",
   "metadata": {},
   "source": [
    "$p = \\infty$ (Maximum)"
   ]
  },
  {
   "cell_type": "markdown",
   "id": "8e263f28-dca2-45bf-8599-1c16eee0d36e",
   "metadata": {},
   "source": [
    "<font color=\"red\">Auch die $\\ell_\\infty$-Norm für Matrizen kennt `np.linalg.norm()` nicht und berechnet stattdessen die Zeilensummennorm.</font>"
   ]
  },
  {
   "cell_type": "code",
   "execution_count": 37,
   "id": "5358179a-294c-49ac-92dc-8506274470b0",
   "metadata": {},
   "outputs": [
    {
     "data": {
      "text/plain": [
       "(3.0, 2)"
      ]
     },
     "execution_count": 37,
     "metadata": {},
     "output_type": "execute_result"
    }
   ],
   "source": [
    "np.linalg.norm(A, np.inf), lpnorm(A, np.inf)"
   ]
  },
  {
   "cell_type": "code",
   "execution_count": 38,
   "id": "7114c25e-9829-49fd-abc3-f4aefa9ad149",
   "metadata": {},
   "outputs": [
    {
     "data": {
      "text/plain": [
       "(2.0, 1)"
      ]
     },
     "execution_count": 38,
     "metadata": {},
     "output_type": "execute_result"
    }
   ],
   "source": [
    "np.linalg.norm(B, np.inf), lpnorm(B, np.inf)"
   ]
  },
  {
   "cell_type": "markdown",
   "id": "2075bb7f-d93c-47e7-8ccc-0324960bec4c",
   "metadata": {},
   "source": [
    "#### Operatornormen"
   ]
  },
  {
   "cell_type": "markdown",
   "id": "5822c812-3662-4270-aaef-07f38e5754fa",
   "metadata": {},
   "source": [
    "$p=1$ (Spaltensummennorm)"
   ]
  },
  {
   "cell_type": "code",
   "execution_count": 39,
   "id": "3be99bd2-3cf3-40b8-990d-7ebc240a483b",
   "metadata": {},
   "outputs": [
    {
     "data": {
      "text/plain": [
       "(2.0, 2)"
      ]
     },
     "execution_count": 39,
     "metadata": {},
     "output_type": "execute_result"
    }
   ],
   "source": [
    "np.linalg.norm(A, 1), opnorm(A, 1)"
   ]
  },
  {
   "cell_type": "code",
   "execution_count": 40,
   "id": "bd64883b-9e1e-4634-83ae-ed4b660f7f38",
   "metadata": {},
   "outputs": [
    {
     "data": {
      "text/plain": [
       "(2.0, 2)"
      ]
     },
     "execution_count": 40,
     "metadata": {},
     "output_type": "execute_result"
    }
   ],
   "source": [
    "np.linalg.norm(B, 1), opnorm(B, 1)"
   ]
  },
  {
   "cell_type": "markdown",
   "id": "6b3d5cc2-6972-41fb-b20d-9fd5a52064cf",
   "metadata": {},
   "source": [
    "$p=2$ (Spektralnorm)"
   ]
  },
  {
   "cell_type": "code",
   "execution_count": 41,
   "id": "beb782aa-ba6a-47f4-aee0-567880f4cade",
   "metadata": {},
   "outputs": [
    {
     "data": {
      "text/plain": [
       "array([5.23606798, 0.76393202])"
      ]
     },
     "execution_count": 41,
     "metadata": {},
     "output_type": "execute_result"
    }
   ],
   "source": [
    "np.linalg.eigvals(A.T.dot(A))"
   ]
  },
  {
   "cell_type": "code",
   "execution_count": 42,
   "id": "d0a14914-fcc7-4aad-910d-2dbc7471a5a7",
   "metadata": {},
   "outputs": [
    {
     "data": {
      "text/plain": [
       "(2.2882456112707374, 2.288245611270737)"
      ]
     },
     "execution_count": 42,
     "metadata": {},
     "output_type": "execute_result"
    }
   ],
   "source": [
    "np.linalg.norm(A, 2), opnorm(A, 2)"
   ]
  },
  {
   "cell_type": "code",
   "execution_count": 43,
   "id": "dced2c2d-da1a-40b3-b1ec-a0f45f3cf604",
   "metadata": {},
   "outputs": [
    {
     "data": {
      "text/plain": [
       "(2.0, 2)"
      ]
     },
     "execution_count": 43,
     "metadata": {},
     "output_type": "execute_result"
    }
   ],
   "source": [
    "np.linalg.norm(B, 1), opnorm(B, 1)"
   ]
  },
  {
   "cell_type": "markdown",
   "id": "84eef8b5-ad6d-4103-87cf-a466ef196ec5",
   "metadata": {},
   "source": [
    "$p=\\infty$ (Zeilensummennorm)"
   ]
  },
  {
   "cell_type": "code",
   "execution_count": 44,
   "id": "11ae9ba0-d014-4699-a0be-5a2b00bbe8af",
   "metadata": {},
   "outputs": [
    {
     "data": {
      "text/plain": [
       "(3.0, 3)"
      ]
     },
     "execution_count": 44,
     "metadata": {},
     "output_type": "execute_result"
    }
   ],
   "source": [
    "np.linalg.norm(A, np.inf), opnorm(A, np.inf)"
   ]
  },
  {
   "cell_type": "code",
   "execution_count": 45,
   "id": "55800bd6-3588-4016-8867-6df1e2f310ac",
   "metadata": {},
   "outputs": [
    {
     "data": {
      "text/plain": [
       "(2.0, 2)"
      ]
     },
     "execution_count": 45,
     "metadata": {},
     "output_type": "execute_result"
    }
   ],
   "source": [
    "np.linalg.norm(B, np.inf), opnorm(B, np.inf)"
   ]
  }
 ],
 "metadata": {
  "kernelspec": {
   "display_name": "Python3",
   "language": "python",
   "name": "python3"
  },
  "language_info": {
   "codemirror_mode": {
    "name": "ipython",
    "version": 3
   },
   "file_extension": ".py",
   "mimetype": "text/x-python",
   "name": "python",
   "nbconvert_exporter": "python",
   "pygments_lexer": "ipython3",
   "version": "3.10.13"
  }
 },
 "nbformat": 4,
 "nbformat_minor": 5
}
