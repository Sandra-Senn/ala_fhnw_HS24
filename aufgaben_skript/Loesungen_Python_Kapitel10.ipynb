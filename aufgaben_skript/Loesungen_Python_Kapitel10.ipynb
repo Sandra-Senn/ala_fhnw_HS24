{
 "cells": [
  {
   "cell_type": "markdown",
   "id": "6378e1a9-d0fc-4c44-b126-7d9c33cb2d25",
   "metadata": {},
   "source": [
    "# Lösungen zu den Python-Aufgaben aus Kapitel 10"
   ]
  },
  {
   "cell_type": "markdown",
   "id": "d9bfc8ff-89f7-4456-ab25-42c6d79cc440",
   "metadata": {},
   "source": [
    "Bibliotheken laden:"
   ]
  },
  {
   "cell_type": "code",
   "execution_count": 2,
   "id": "0778cdf9-3147-481c-993a-953ec2682fdc",
   "metadata": {},
   "outputs": [],
   "source": [
    "import numpy as np\n",
    "import sympy as sp\n",
    "import matplotlib.pyplot as plt"
   ]
  },
  {
   "cell_type": "markdown",
   "id": "a65b70e7-bb39-4923-8df2-c4b213eeda37",
   "metadata": {},
   "source": [
    "## Aufgabe 1"
   ]
  },
  {
   "cell_type": "markdown",
   "id": "05e6e489-9008-4d11-97d4-9a2447f91dc3",
   "metadata": {},
   "source": [
    "### b)"
   ]
  },
  {
   "cell_type": "markdown",
   "id": "96b18127-6f94-4bb2-95f6-c01015b25106",
   "metadata": {},
   "source": [
    "Matrizen definieren:"
   ]
  },
  {
   "cell_type": "code",
   "execution_count": 3,
   "id": "c4986080-3de5-419b-a885-04e3b1bd73f8",
   "metadata": {},
   "outputs": [],
   "source": [
    "A = np.array([[4,0],[3,-5]])\n",
    "B = np.array([[2,2,1]])\n",
    "C = np.array([[-1,-1],[2,2],[-1,1]])"
   ]
  },
  {
   "cell_type": "markdown",
   "id": "3396f0d5-f6c3-421f-b8e0-d1138337b7fa",
   "metadata": {},
   "source": [
    "#### Matrix A:"
   ]
  },
  {
   "cell_type": "code",
   "execution_count": 4,
   "id": "11178071-cbe1-4dcb-85e1-8538463693ba",
   "metadata": {},
   "outputs": [
    {
     "data": {
      "text/plain": [
       "array([[ 25, -15],\n",
       "       [-15,  25]])"
      ]
     },
     "execution_count": 4,
     "metadata": {},
     "output_type": "execute_result"
    }
   ],
   "source": [
    "A.T@A"
   ]
  },
  {
   "cell_type": "code",
   "execution_count": 5,
   "id": "2f6e0f61-09ce-4ac6-a7bf-41868c8135a3",
   "metadata": {},
   "outputs": [
    {
     "data": {
      "text/plain": [
       "array([[16, 12],\n",
       "       [12, 34]])"
      ]
     },
     "execution_count": 5,
     "metadata": {},
     "output_type": "execute_result"
    }
   ],
   "source": [
    "A@A.T"
   ]
  },
  {
   "cell_type": "code",
   "execution_count": 6,
   "id": "8263eac2-74d1-4482-af9d-899efabbfdc6",
   "metadata": {},
   "outputs": [
    {
     "data": {
      "text/plain": [
       "array([6.32455532, 3.16227766])"
      ]
     },
     "execution_count": 6,
     "metadata": {},
     "output_type": "execute_result"
    }
   ],
   "source": [
    "U, s, VT = np.linalg.svd(A, full_matrices=True)\n",
    "s"
   ]
  },
  {
   "cell_type": "code",
   "execution_count": 7,
   "id": "d88af741-821e-4385-b029-f950b872ca93",
   "metadata": {},
   "outputs": [
    {
     "data": {
      "text/plain": [
       "(np.float64(6.324555320336759), np.float64(3.1622776601683795))"
      ]
     },
     "execution_count": 7,
     "metadata": {},
     "output_type": "execute_result"
    }
   ],
   "source": [
    "np.sqrt(40), np.sqrt(10)"
   ]
  },
  {
   "cell_type": "code",
   "execution_count": 8,
   "id": "e32b8285-ce2b-446c-8a0b-1c187f2d550e",
   "metadata": {},
   "outputs": [
    {
     "data": {
      "text/plain": [
       "array([[-0.4472136 , -0.89442719],\n",
       "       [-0.89442719,  0.4472136 ]])"
      ]
     },
     "execution_count": 8,
     "metadata": {},
     "output_type": "execute_result"
    }
   ],
   "source": [
    "U"
   ]
  },
  {
   "cell_type": "code",
   "execution_count": 9,
   "id": "bdd66b18-6787-472a-8698-422d9c7e5ad2",
   "metadata": {},
   "outputs": [
    {
     "data": {
      "text/plain": [
       "array([[-0.70710678, -0.70710678],\n",
       "       [ 0.70710678, -0.70710678]])"
      ]
     },
     "execution_count": 9,
     "metadata": {},
     "output_type": "execute_result"
    }
   ],
   "source": [
    "VT.T"
   ]
  },
  {
   "cell_type": "code",
   "execution_count": 10,
   "id": "5d5096e0-d5d4-4590-8466-069b4bcb1df8",
   "metadata": {},
   "outputs": [
    {
     "data": {
      "text/plain": [
       "((2, 2), (2, 2))"
      ]
     },
     "execution_count": 10,
     "metadata": {},
     "output_type": "execute_result"
    }
   ],
   "source": [
    "U.shape, VT.shape"
   ]
  },
  {
   "cell_type": "markdown",
   "id": "c96bd10f-9658-408d-8add-357b0fbdff41",
   "metadata": {},
   "source": [
    "#### Matrix B:"
   ]
  },
  {
   "cell_type": "code",
   "execution_count": 11,
   "id": "40d4e25a-2fdf-4b0b-a017-b7a0fedd4348",
   "metadata": {},
   "outputs": [
    {
     "data": {
      "text/plain": [
       "array([[4, 4, 2],\n",
       "       [4, 4, 2],\n",
       "       [2, 2, 1]])"
      ]
     },
     "execution_count": 11,
     "metadata": {},
     "output_type": "execute_result"
    }
   ],
   "source": [
    "B.T@B"
   ]
  },
  {
   "cell_type": "code",
   "execution_count": 12,
   "id": "cf5e2a4e-d6b1-419d-9ddf-a7042da0c710",
   "metadata": {},
   "outputs": [
    {
     "data": {
      "text/plain": [
       "array([[9]])"
      ]
     },
     "execution_count": 12,
     "metadata": {},
     "output_type": "execute_result"
    }
   ],
   "source": [
    "B@B.T"
   ]
  },
  {
   "cell_type": "code",
   "execution_count": 13,
   "id": "1c5ce4f5-b37a-4e1c-b023-57a4b5428ce1",
   "metadata": {},
   "outputs": [
    {
     "data": {
      "text/plain": [
       "array([3.])"
      ]
     },
     "execution_count": 13,
     "metadata": {},
     "output_type": "execute_result"
    }
   ],
   "source": [
    "U, s, VT = np.linalg.svd(B, full_matrices=True)\n",
    "s"
   ]
  },
  {
   "cell_type": "code",
   "execution_count": 14,
   "id": "62dd21fb-e4a8-4eb7-b6fc-eebcd6fc4ac6",
   "metadata": {},
   "outputs": [
    {
     "data": {
      "text/plain": [
       "array([[-1.]])"
      ]
     },
     "execution_count": 14,
     "metadata": {},
     "output_type": "execute_result"
    }
   ],
   "source": [
    "U"
   ]
  },
  {
   "cell_type": "code",
   "execution_count": 15,
   "id": "c3429e00-3540-49ac-bff2-791cb8d82328",
   "metadata": {},
   "outputs": [
    {
     "data": {
      "text/plain": [
       "array([[-0.66666667, -0.66666667, -0.33333333],\n",
       "       [-0.66666667,  0.73333333, -0.13333333],\n",
       "       [-0.33333333, -0.13333333,  0.93333333]])"
      ]
     },
     "execution_count": 15,
     "metadata": {},
     "output_type": "execute_result"
    }
   ],
   "source": [
    "VT.T"
   ]
  },
  {
   "cell_type": "code",
   "execution_count": 16,
   "id": "d204f384-0d67-4bae-9ba2-b0d08a6ba6d2",
   "metadata": {},
   "outputs": [
    {
     "data": {
      "text/plain": [
       "((1, 1), (3, 3))"
      ]
     },
     "execution_count": 16,
     "metadata": {},
     "output_type": "execute_result"
    }
   ],
   "source": [
    "U.shape, VT.shape"
   ]
  },
  {
   "cell_type": "markdown",
   "id": "f01c12f3-537e-46ea-b69d-327e0a5e1892",
   "metadata": {},
   "source": [
    "#### Matrix C:"
   ]
  },
  {
   "cell_type": "code",
   "execution_count": 17,
   "id": "80f10203-ea41-4fd1-ac21-70425f21349e",
   "metadata": {},
   "outputs": [
    {
     "data": {
      "text/plain": [
       "array([[6, 4],\n",
       "       [4, 6]])"
      ]
     },
     "execution_count": 17,
     "metadata": {},
     "output_type": "execute_result"
    }
   ],
   "source": [
    "C.T@C"
   ]
  },
  {
   "cell_type": "code",
   "execution_count": 18,
   "id": "4e32c949-35d9-466a-a673-774e2606930c",
   "metadata": {},
   "outputs": [
    {
     "data": {
      "text/plain": [
       "array([[ 2, -4,  0],\n",
       "       [-4,  8,  0],\n",
       "       [ 0,  0,  2]])"
      ]
     },
     "execution_count": 18,
     "metadata": {},
     "output_type": "execute_result"
    }
   ],
   "source": [
    "C@C.T"
   ]
  },
  {
   "cell_type": "code",
   "execution_count": 19,
   "id": "68e0f461-fa51-4310-a355-e99aa676a4af",
   "metadata": {},
   "outputs": [
    {
     "data": {
      "text/plain": [
       "array([3.16227766, 1.41421356])"
      ]
     },
     "execution_count": 19,
     "metadata": {},
     "output_type": "execute_result"
    }
   ],
   "source": [
    "U, s, VT = np.linalg.svd(C)\n",
    "s"
   ]
  },
  {
   "cell_type": "code",
   "execution_count": 20,
   "id": "fbdc8f3d-35e6-47ea-b0b2-65ec60a38647",
   "metadata": {},
   "outputs": [
    {
     "data": {
      "text/plain": [
       "(np.float64(3.1622776601683795), np.float64(1.4142135623730951))"
      ]
     },
     "execution_count": 20,
     "metadata": {},
     "output_type": "execute_result"
    }
   ],
   "source": [
    "np.sqrt(10), np.sqrt(2)"
   ]
  },
  {
   "cell_type": "code",
   "execution_count": 21,
   "id": "032b3f65-9126-41cc-9309-f6bfd6922bae",
   "metadata": {},
   "outputs": [
    {
     "data": {
      "text/plain": [
       "((3, 3), (2, 2))"
      ]
     },
     "execution_count": 21,
     "metadata": {},
     "output_type": "execute_result"
    }
   ],
   "source": [
    "U.shape, VT.shape"
   ]
  },
  {
   "cell_type": "code",
   "execution_count": 22,
   "id": "c4742f09-0ce7-4ac4-ae3e-405e4dcb4d77",
   "metadata": {},
   "outputs": [
    {
     "data": {
      "text/plain": [
       "array([[-4.47213595e-01,  5.42520235e-17, -8.94427191e-01],\n",
       "       [ 8.94427191e-01,  1.90706415e-16, -4.47213595e-01],\n",
       "       [ 2.52989940e-17, -1.00000000e+00, -1.72777272e-16]])"
      ]
     },
     "execution_count": 22,
     "metadata": {},
     "output_type": "execute_result"
    }
   ],
   "source": [
    "U"
   ]
  },
  {
   "cell_type": "code",
   "execution_count": 23,
   "id": "8b0484fc-e8e9-43d9-8aa0-45a5eba5911e",
   "metadata": {},
   "outputs": [
    {
     "data": {
      "text/plain": [
       "array([[ 0.70710678,  0.70710678],\n",
       "       [ 0.70710678, -0.70710678]])"
      ]
     },
     "execution_count": 23,
     "metadata": {},
     "output_type": "execute_result"
    }
   ],
   "source": [
    "VT.T"
   ]
  },
  {
   "cell_type": "markdown",
   "id": "73d529de-bc15-4f07-a35d-9f21325beff5",
   "metadata": {},
   "source": [
    "## Aufgabe 3"
   ]
  },
  {
   "cell_type": "code",
   "execution_count": 24,
   "id": "614cdd9c-7569-42bc-9875-6d7b9291c362",
   "metadata": {},
   "outputs": [
    {
     "data": {
      "text/plain": [
       "array([15.76388289, 10.90510044,  1.25649534])"
      ]
     },
     "execution_count": 24,
     "metadata": {},
     "output_type": "execute_result"
    }
   ],
   "source": [
    "X = np.array([[6,0,6],[0,12,6],[6,0,9]])\n",
    "U, s, VT = np.linalg.svd(X)\n",
    "s"
   ]
  },
  {
   "cell_type": "code",
   "execution_count": 25,
   "id": "8a030f24-2399-484f-88dc-02f4f55dd379",
   "metadata": {},
   "outputs": [
    {
     "data": {
      "text/plain": [
       "array([[-0.43633987,  0.44664907, -0.78109675],\n",
       "       [-0.68719895, -0.7258014 , -0.03114367],\n",
       "       [-0.5808314 ,  0.52317964,  0.62363286]])"
      ]
     },
     "execution_count": 25,
     "metadata": {},
     "output_type": "execute_result"
    }
   ],
   "source": [
    "U"
   ]
  },
  {
   "cell_type": "code",
   "execution_count": 26,
   "id": "6ef32c43-485f-43db-baf2-c5e7ad65e6fd",
   "metadata": {},
   "outputs": [
    {
     "data": {
      "text/plain": [
       "array([[-0.38715256, -0.52311905, -0.7592492 ],\n",
       "       [ 0.53360098, -0.79867369,  0.27819118],\n",
       "       [-0.75191947, -0.29743369,  0.5883454 ]])"
      ]
     },
     "execution_count": 26,
     "metadata": {},
     "output_type": "execute_result"
    }
   ],
   "source": [
    "VT"
   ]
  },
  {
   "cell_type": "code",
   "execution_count": 27,
   "id": "eee35868-91b0-42cc-94c5-603b24d68193",
   "metadata": {},
   "outputs": [
    {
     "data": {
      "text/plain": [
       "array([[15.76388289,  0.        ,  0.        ],\n",
       "       [ 0.        , 10.90510044,  0.        ],\n",
       "       [ 0.        ,  0.        ,  1.25649534]])"
      ]
     },
     "execution_count": 27,
     "metadata": {},
     "output_type": "execute_result"
    }
   ],
   "source": [
    "Sigma = np.diag(s)\n",
    "Sigma"
   ]
  },
  {
   "cell_type": "markdown",
   "id": "911a1adb-5d4a-4ef1-b8e9-968e2f5f2996",
   "metadata": {},
   "source": [
    "### a)"
   ]
  },
  {
   "cell_type": "markdown",
   "id": "cffb04e4-40fa-48af-810b-3710f1c05414",
   "metadata": {},
   "source": [
    "Für Rang 2 die ersten k=2 Singulärwerte benutzen:"
   ]
  },
  {
   "cell_type": "code",
   "execution_count": 28,
   "id": "c330ab1e-e620-4b82-9da4-1402e9293678",
   "metadata": {},
   "outputs": [
    {
     "data": {
      "text/plain": [
       "array([[ 5.26203283, -0.29191464,  6.57742831],\n",
       "       [-0.02942402, 11.98836086,  6.02302306],\n",
       "       [ 6.58919792,  0.2330666 ,  8.53897738]])"
      ]
     },
     "execution_count": 28,
     "metadata": {},
     "output_type": "execute_result"
    }
   ],
   "source": [
    "k = 2\n",
    "Xapprox2 = U[:,:k] @ Sigma[:k,:k] @ VT[:k,:]\n",
    "Xapprox2"
   ]
  },
  {
   "cell_type": "code",
   "execution_count": 29,
   "id": "45f14951-412d-46b8-8c5c-c247b5664042",
   "metadata": {},
   "outputs": [
    {
     "data": {
      "text/plain": [
       "np.int64(2)"
      ]
     },
     "execution_count": 29,
     "metadata": {},
     "output_type": "execute_result"
    }
   ],
   "source": [
    "np.linalg.matrix_rank( Xapprox2 )"
   ]
  },
  {
   "cell_type": "markdown",
   "id": "41eb34ad-c208-41b0-a01f-ac7f9c1f7a89",
   "metadata": {},
   "source": [
    "### b)"
   ]
  },
  {
   "cell_type": "code",
   "execution_count": 30,
   "id": "6f2c00bc-4bab-4e95-94ba-7739e9b0aa13",
   "metadata": {},
   "outputs": [
    {
     "data": {
      "text/plain": [
       "array([[2.66299427, 3.59822761, 5.22242777],\n",
       "       [4.1939942 , 5.66690882, 8.2248888 ],\n",
       "       [3.54483009, 4.78976078, 6.95180583]])"
      ]
     },
     "execution_count": 30,
     "metadata": {},
     "output_type": "execute_result"
    }
   ],
   "source": [
    "k = 1\n",
    "Xapprox1 = U[:,:k] @ Sigma[:k,:k] @ VT[:k,:]\n",
    "Xapprox1"
   ]
  },
  {
   "cell_type": "code",
   "execution_count": 31,
   "id": "ec531706-3551-41a1-a108-b08b55643b12",
   "metadata": {},
   "outputs": [
    {
     "data": {
      "text/plain": [
       "np.int64(1)"
      ]
     },
     "execution_count": 31,
     "metadata": {},
     "output_type": "execute_result"
    }
   ],
   "source": [
    "np.linalg.matrix_rank( Xapprox1 )"
   ]
  },
  {
   "cell_type": "markdown",
   "id": "25d991b5-e1a5-4722-9122-b7f2e2003488",
   "metadata": {},
   "source": [
    "### c)"
   ]
  },
  {
   "cell_type": "code",
   "execution_count": 32,
   "id": "541e9d8e-59e1-4f3c-b6a0-d7777379601d",
   "metadata": {},
   "outputs": [
    {
     "data": {
      "text/plain": [
       "np.float64(1.2564953373661556)"
      ]
     },
     "execution_count": 32,
     "metadata": {},
     "output_type": "execute_result"
    }
   ],
   "source": [
    "np.linalg.norm( X - Xapprox2 )"
   ]
  },
  {
   "cell_type": "code",
   "execution_count": 33,
   "id": "01739d91-5e3f-4699-9120-2add0d90b564",
   "metadata": {},
   "outputs": [
    {
     "data": {
      "text/plain": [
       "np.int64(2)"
      ]
     },
     "execution_count": 33,
     "metadata": {},
     "output_type": "execute_result"
    }
   ],
   "source": [
    "np.linalg.matrix_rank( X - Xapprox1 )"
   ]
  },
  {
   "cell_type": "markdown",
   "id": "fd5388a6-a8da-4584-9a4d-ef814802e9d7",
   "metadata": {},
   "source": [
    "Wie erwartet liegt die Approximation mit Rang 2 etwas näher bei $X$."
   ]
  },
  {
   "cell_type": "markdown",
   "id": "c2d5fe7d-837d-42a0-a79c-b6884a548dde",
   "metadata": {},
   "source": [
    "## Aufgabe 5"
   ]
  },
  {
   "cell_type": "markdown",
   "id": "bd447a96-4fea-4b11-bc0d-4e5e33feb2ce",
   "metadata": {},
   "source": [
    "Daten aus Kapitel 3:"
   ]
  },
  {
   "cell_type": "code",
   "execution_count": 34,
   "id": "9a17099e-a76f-405d-b45c-9ceb36cde8b8",
   "metadata": {},
   "outputs": [
    {
     "data": {
      "text/plain": [
       "((20, 2), (20, 2), (20, 2))"
      ]
     },
     "execution_count": 34,
     "metadata": {},
     "output_type": "execute_result"
    }
   ],
   "source": [
    "X1 = np.array([[0.51, 0.87],[0.77, 0.11],[0.87, 0.3 ],[0.01, 0.47],[0.31, 0.67],[0.96, 0.26],[0.51, 0.7 ],\n",
    "               [0.32, 0.66],[0.54, 0.18],[0.22, 0.32],[0.81, 0.89],[0.34, 0.08],[0.54, 0.75],[0.01, 0.06],\n",
    "               [0.67, 0.73],[0.21, 0.74],[0.93, 0.41],[0.37, 0.99],[0.75, 0.45],[0.76, 0.19]])\n",
    "\n",
    "X2 = np.array([[0.51, -1.08],[0.77, -2.01],[0.87, -2.03],[0.01, 0.19],[0.31, -0.37],[0.96, -1.6],\n",
    "               [0.51, -1.16],[0.32, -0.89],[0.54, -0.85],[0.22, -0.22],[0.81, -1.61],[0.34, -0.68],\n",
    "               [0.54, -1.42],[0.01, -0.07],[0.67, -1.01],[0.21, -0.65],[0.93, -1.98],[0.37, -0.78],\n",
    "               [0.75, -1.58],[0.76, -1.97]])\n",
    "\n",
    "X3 = np.array([[0.08,  0.1],[0.78, 0.78],[0.44, 0.45],[0.72, 0.66],[0.98, 1.05],[0.54, 0.55],[0.5, 0.48],\n",
    "               [0.07, 0.15],[0.27, 0.27],[0.5, 0.44],[0.68, 0.66],[0.8, 0.71],[0.38, 0.42],[0.07, 0.05],\n",
    "               [0.29, 0.26],[0.91, 0.95],[0.21, 0.14],[0.45, 0.47],[0.93, 0.85],[0.02, -0.01]]\n",
    ")\n",
    "X1.shape, X2.shape, X3.shape"
   ]
  },
  {
   "cell_type": "markdown",
   "id": "801a5e0d-d7ad-4480-a0e6-540da78a2b3f",
   "metadata": {},
   "source": [
    "Standardskalieren:"
   ]
  },
  {
   "cell_type": "code",
   "execution_count": 35,
   "id": "7e35a46a-8959-4ccf-b0fb-b5fa74b72434",
   "metadata": {},
   "outputs": [],
   "source": [
    "X1s = (X1 - np.mean(X1, axis=0)) / np.std(X1, axis=0)\n",
    "X2s = (X2 - np.mean(X2, axis=0)) / np.std(X2, axis=0)\n",
    "X3s = (X3 - np.mean(X3, axis=0)) / np.std(X3, axis=0)"
   ]
  },
  {
   "cell_type": "markdown",
   "id": "16864115-9f45-4ae2-8854-84b9dabf118b",
   "metadata": {},
   "source": [
    "Singulärwertzerlegungen:"
   ]
  },
  {
   "cell_type": "code",
   "execution_count": 36,
   "id": "c4bcc3cc-1c61-427b-8440-f078f88f3cb3",
   "metadata": {},
   "outputs": [],
   "source": [
    "U1, s1, V1T = np.linalg.svd( X1s )\n",
    "U2, s2, V2T = np.linalg.svd( X2s )\n",
    "U3, s3, V3T = np.linalg.svd( X3s )"
   ]
  },
  {
   "cell_type": "markdown",
   "id": "e2572192-075a-4a33-b6ea-53127c8dfd06",
   "metadata": {},
   "source": [
    "Varianzanteile:"
   ]
  },
  {
   "cell_type": "code",
   "execution_count": 37,
   "id": "d9cf8d23-4e23-4da8-ba09-333f6371533a",
   "metadata": {},
   "outputs": [
    {
     "data": {
      "text/plain": [
       "array([0.53110337, 0.46889663])"
      ]
     },
     "execution_count": 37,
     "metadata": {},
     "output_type": "execute_result"
    }
   ],
   "source": [
    "s1**2 / np.sum(s1**2)"
   ]
  },
  {
   "cell_type": "code",
   "execution_count": 38,
   "id": "ea8149dc-4e4b-47fe-915c-f2c95a91f3c4",
   "metadata": {},
   "outputs": [
    {
     "data": {
      "text/plain": [
       "array([0.96687469, 0.03312531])"
      ]
     },
     "execution_count": 38,
     "metadata": {},
     "output_type": "execute_result"
    }
   ],
   "source": [
    "s2**2 / np.sum(s2**2)"
   ]
  },
  {
   "cell_type": "code",
   "execution_count": 39,
   "id": "6ed894be-465c-497c-a740-48893027522b",
   "metadata": {},
   "outputs": [
    {
     "data": {
      "text/plain": [
       "array([0.99397951, 0.00602049])"
      ]
     },
     "execution_count": 39,
     "metadata": {},
     "output_type": "execute_result"
    }
   ],
   "source": [
    "s3**2 / np.sum(s3**2)"
   ]
  },
  {
   "cell_type": "markdown",
   "id": "e40086fa-9ae9-425e-aa1b-bcf763970ee0",
   "metadata": {},
   "source": [
    "Hauptkomponenten:"
   ]
  },
  {
   "cell_type": "code",
   "execution_count": 40,
   "id": "2fc9a837-e956-4a69-95c9-43092825d02f",
   "metadata": {},
   "outputs": [],
   "source": [
    "Sigma1 = np.zeros_like( X1s )\n",
    "Sigma1[[0,1],[0,1]] = s1\n",
    "Sigma2 = np.zeros_like( X2s )\n",
    "Sigma2[[0,1],[0,1]] = s2\n",
    "Sigma3 = np.zeros_like( X3s )\n",
    "Sigma3[[0,1],[0,1]] = s3"
   ]
  },
  {
   "cell_type": "code",
   "execution_count": 41,
   "id": "6d94ae95-e7d9-4b66-9c29-68cf8d6ab01b",
   "metadata": {},
   "outputs": [],
   "source": [
    "W1 = U1 @ Sigma1\n",
    "W2 = U2 @ Sigma2\n",
    "W3 = U3 @ Sigma3"
   ]
  },
  {
   "cell_type": "markdown",
   "id": "5ed8c7dd-9f27-405c-af53-8d8e69bf3fdb",
   "metadata": {},
   "source": [
    "Visualisieren:"
   ]
  },
  {
   "cell_type": "code",
   "execution_count": 42,
   "id": "01d317c8-6bf7-49d1-bc51-7d1bd89c47ea",
   "metadata": {},
   "outputs": [
    {
     "data": {
      "text/plain": [
       "(-2.5, 2.0)"
      ]
     },
     "execution_count": 42,
     "metadata": {},
     "output_type": "execute_result"
    },
    {
     "data": {
      "image/png": "[encoded data removed]",
      "text/plain": [
       "<Figure size 1200x300 with 3 Axes>"
      ]
     },
     "metadata": {},
     "output_type": "display_data"
    }
   ],
   "source": [
    "plt.figure(figsize=(12,3))\n",
    "plt.subplot(131)\n",
    "plt.scatter( W1[:,0], W1[:,1] )\n",
    "plt.ylim(-2.5, 2)\n",
    "plt.subplot(132)\n",
    "plt.scatter( W2[:,0], W2[:,1] )\n",
    "plt.ylim(-2.5, 2)\n",
    "plt.subplot(133)\n",
    "plt.scatter( W3[:,0], W3[:,1] )\n",
    "plt.ylim(-2.5, 2)"
   ]
  },
  {
   "cell_type": "markdown",
   "id": "6a3e323b-9269-4d89-b5cb-cc580c8d4be3",
   "metadata": {},
   "source": [
    "## Aufgabe 6"
   ]
  },
  {
   "cell_type": "markdown",
   "id": "70c316d6-b544-4cf1-b970-c1a3761c4f49",
   "metadata": {},
   "source": [
    "### Matrix A"
   ]
  },
  {
   "cell_type": "code",
   "execution_count": 43,
   "id": "4fc84a65-c72f-4b17-9bed-c103f076633f",
   "metadata": {},
   "outputs": [
    {
     "data": {
      "text/plain": [
       "array([10.24695077,  0.        ])"
      ]
     },
     "execution_count": 43,
     "metadata": {},
     "output_type": "execute_result"
    }
   ],
   "source": [
    "A = np.array([[1,2,4],[2,4,8]])\n",
    "U, s, VT = np.linalg.svd( A )\n",
    "np.round( s, 10 )"
   ]
  },
  {
   "cell_type": "markdown",
   "id": "dce09e4a-4c0f-4c63-bd12-287eb83ad4f8",
   "metadata": {},
   "source": [
    "Rang der Matrix aus Singulärwerten bestimmen (Achtung numerische Fehler):"
   ]
  },
  {
   "cell_type": "code",
   "execution_count": 45,
   "id": "9026e2d5-d6f1-449d-b202-d8397c425c1c",
   "metadata": {},
   "outputs": [
    {
     "data": {
      "text/plain": [
       "np.int64(1)"
      ]
     },
     "execution_count": 45,
     "metadata": {},
     "output_type": "execute_result"
    }
   ],
   "source": [
    "r = np.sum( s>1e-10 )\n",
    "r"
   ]
  },
  {
   "cell_type": "markdown",
   "id": "e3a55b3d-b8c1-4f02-8c1c-142dbf209ef9",
   "metadata": {},
   "source": [
    "Dimension $n$ des Raums, der abgebildet wird (siehe Rangsatz):"
   ]
  },
  {
   "cell_type": "code",
   "execution_count": 44,
   "id": "e8464965-0a20-49fb-b61e-89af2867352b",
   "metadata": {},
   "outputs": [
    {
     "data": {
      "text/plain": [
       "3"
      ]
     },
     "execution_count": 44,
     "metadata": {},
     "output_type": "execute_result"
    }
   ],
   "source": [
    "n = A.shape[1]\n",
    "n"
   ]
  },
  {
   "cell_type": "markdown",
   "id": "bdf2e282-11a6-4632-a4e7-3c6022a3d182",
   "metadata": {},
   "source": [
    "#### Bild:"
   ]
  },
  {
   "cell_type": "markdown",
   "id": "4e972575-8b12-42ab-a0b2-faacf785375c",
   "metadata": {},
   "source": [
    "Damit hat das Bild bzw. der Spaltenraum von $A$ die Dimension 1 und besteht aus dem ersten Spaltenvektor von $U$:"
   ]
  },
  {
   "cell_type": "code",
   "execution_count": 45,
   "id": "e3967b18-e875-492e-af8e-0a92a5dec33c",
   "metadata": {},
   "outputs": [
    {
     "data": {
      "text/plain": [
       "array([[-0.4472136 ],\n",
       "       [-0.89442719]])"
      ]
     },
     "execution_count": 45,
     "metadata": {},
     "output_type": "execute_result"
    }
   ],
   "source": [
    "basis_bild = U[:,0:r]\n",
    "basis_bild"
   ]
  },
  {
   "cell_type": "markdown",
   "id": "24ebb667-526d-4155-866d-21197510e088",
   "metadata": {},
   "source": [
    "Damit die Basis etwas schöner aussieht, dividieren wir durch die betragsmässig kleinere der beiden Komponenten:"
   ]
  },
  {
   "cell_type": "code",
   "execution_count": 46,
   "id": "0e5ef564-3bfd-4a53-850a-e1e6bdb23080",
   "metadata": {},
   "outputs": [
    {
     "data": {
      "text/plain": [
       "array([[1.],\n",
       "       [2.]])"
      ]
     },
     "execution_count": 46,
     "metadata": {},
     "output_type": "execute_result"
    }
   ],
   "source": [
    "basis_bild / U[0,0]"
   ]
  },
  {
   "cell_type": "markdown",
   "id": "d60a1807-53ab-4a1f-8ee1-caaa908b8fe8",
   "metadata": {},
   "source": [
    "Damit gilt $C(A) = \\left\\{ \\left. t \\begin{pmatrix}1 \\\\ 2\\end{pmatrix} \\right| t \\in \\mathbb{R} \\right\\}$."
   ]
  },
  {
   "cell_type": "markdown",
   "id": "6c6d2f88-cf5a-4dcb-a838-13e3c8a4aa6c",
   "metadata": {},
   "source": [
    "Prüfen (klassisch):"
   ]
  },
  {
   "cell_type": "code",
   "execution_count": 47,
   "id": "e3522841-70d9-4156-963e-fce267d7bd4a",
   "metadata": {},
   "outputs": [
    {
     "data": {
      "text/latex": [
       "$\\displaystyle \\left[\\begin{matrix}1 & 0 & 0\\\\2 & 0 & 0\\end{matrix}\\right]$"
      ],
      "text/plain": [
       "Matrix([\n",
       "[1, 0, 0],\n",
       "[2, 0, 0]])"
      ]
     },
     "execution_count": 47,
     "metadata": {},
     "output_type": "execute_result"
    }
   ],
   "source": [
    "sp.Matrix(A.T).rref()[0].T"
   ]
  },
  {
   "cell_type": "markdown",
   "id": "4d993846-65be-4df0-8910-99525a718b88",
   "metadata": {},
   "source": [
    "#### Kern:"
   ]
  },
  {
   "cell_type": "markdown",
   "id": "95c3cf60-196c-4ce7-a85e-d80af192b0a8",
   "metadata": {},
   "source": [
    "Dimension des Kerns (über Rangsatz):"
   ]
  },
  {
   "cell_type": "code",
   "execution_count": 48,
   "id": "0fc0a067-024d-470c-bf08-37603a6e0788",
   "metadata": {},
   "outputs": [
    {
     "data": {
      "text/plain": [
       "2"
      ]
     },
     "execution_count": 48,
     "metadata": {},
     "output_type": "execute_result"
    }
   ],
   "source": [
    "n-r"
   ]
  },
  {
   "cell_type": "markdown",
   "id": "01353f92-c3b8-4bd2-adb7-4bd9e3f6ffde",
   "metadata": {},
   "source": [
    "Der Kern / Nullraum hat damit die Dimension 2 und besteht aus den letzten beiden Zeilenvektoren von $V^T$:"
   ]
  },
  {
   "cell_type": "code",
   "execution_count": 49,
   "id": "1c8b92fa-d4d4-4edc-a6a6-7822970858ba",
   "metadata": {},
   "outputs": [
    {
     "data": {
      "text/plain": [
       "array([[-9.75900073e-01, -2.02874033e-16],\n",
       "       [ 9.75900073e-02, -8.94427191e-01],\n",
       "       [ 1.95180015e-01,  4.47213595e-01]])"
      ]
     },
     "execution_count": 49,
     "metadata": {},
     "output_type": "execute_result"
    }
   ],
   "source": [
    "basis_kern = VT[-(n-r):,:].T\n",
    "basis_kern"
   ]
  },
  {
   "cell_type": "markdown",
   "id": "3ac0db3c-6e97-4e88-afe3-b6d343c97873",
   "metadata": {},
   "source": [
    "Auch hier dividieren wir jeweils durch die betragmässig kleinste Komponente (ausser 0), um mindestens eine 1 pro Vektor zu erhalten:"
   ]
  },
  {
   "cell_type": "code",
   "execution_count": 50,
   "id": "46ec3b0c-1cf1-4ddf-be02-8870e0cb4bb7",
   "metadata": {},
   "outputs": [
    {
     "data": {
      "text/plain": [
       "array([[-5. , -0. ],\n",
       "       [ 0.5, -2. ],\n",
       "       [ 1. ,  1. ]])"
      ]
     },
     "execution_count": 50,
     "metadata": {},
     "output_type": "execute_result"
    }
   ],
   "source": [
    "np.round( basis_kern / np.array([basis_kern[2,0], basis_kern[2,1]]), 10 )"
   ]
  },
  {
   "cell_type": "markdown",
   "id": "761b4ea5-4543-4e2c-8ee7-15c800c6cd48",
   "metadata": {},
   "source": [
    "Sieht schon besser aus! Damit gilt\n",
    "\n",
    "$$N(A) = \\left\\{ \\left. t \\begin{pmatrix}-5 \\\\ 0.5 \\\\ 1\\end{pmatrix} + s  \\begin{pmatrix}0 \\\\ -2 \\\\ 1\\end{pmatrix} \\right| t,s \\in \\mathbb{R} \\right\\}.$$"
   ]
  },
  {
   "cell_type": "markdown",
   "id": "9cdc456d-a3a8-4cb5-be52-eda9cd96cc2d",
   "metadata": {},
   "source": [
    "Prüfen (Einsetzen):"
   ]
  },
  {
   "cell_type": "code",
   "execution_count": 51,
   "id": "f4ae3be1-455f-4e6c-831e-7537d857bf9b",
   "metadata": {},
   "outputs": [
    {
     "data": {
      "text/plain": [
       "array([[ 0., -0.],\n",
       "       [ 0., -0.]])"
      ]
     },
     "execution_count": 51,
     "metadata": {},
     "output_type": "execute_result"
    }
   ],
   "source": [
    "np.round( A @ basis_kern, 10 )"
   ]
  },
  {
   "cell_type": "markdown",
   "id": "0b81ab8a-b11a-4743-b536-a04d715a9278",
   "metadata": {},
   "source": [
    "Natürlich liesse sich diese Basis noch ein wenig reduzieren:"
   ]
  },
  {
   "cell_type": "code",
   "execution_count": 52,
   "id": "318ff72e-1d0d-4028-8ef8-9a588ab0f426",
   "metadata": {},
   "outputs": [
    {
     "data": {
      "text/latex": [
       "$\\displaystyle \\left[\\begin{matrix}1 & 0\\\\0 & 1\\\\-0.25 & -0.5\\end{matrix}\\right]$"
      ],
      "text/plain": [
       "Matrix([\n",
       "[    1,    0],\n",
       "[    0,    1],\n",
       "[-0.25, -0.5]])"
      ]
     },
     "execution_count": 52,
     "metadata": {},
     "output_type": "execute_result"
    }
   ],
   "source": [
    "sp.Matrix( basis_kern.T ).rref()[0].T"
   ]
  },
  {
   "cell_type": "markdown",
   "id": "93510b1a-9bad-4f83-a047-e14bdc035b06",
   "metadata": {},
   "source": [
    "### Matrix B"
   ]
  },
  {
   "cell_type": "code",
   "execution_count": 53,
   "id": "259a9129-c336-46de-91bf-b89a0113a034",
   "metadata": {},
   "outputs": [
    {
     "data": {
      "text/plain": [
       "array([10.67008349,  0.38641737])"
      ]
     },
     "execution_count": 53,
     "metadata": {},
     "output_type": "execute_result"
    }
   ],
   "source": [
    "B = np.array([[1,2,4],[2,5,8]])\n",
    "U, s, VT = np.linalg.svd( B )\n",
    "np.round( s, 10 )"
   ]
  },
  {
   "cell_type": "markdown",
   "id": "cdd08a93-7139-488a-90ea-3693853350c4",
   "metadata": {},
   "source": [
    "Rang der Matrix aus Singulärwerten bestimmen (Achtung numerische Fehler):"
   ]
  },
  {
   "cell_type": "code",
   "execution_count": 54,
   "id": "1de6bbee-8e22-436e-8c68-19b0f7f6b55c",
   "metadata": {},
   "outputs": [
    {
     "data": {
      "text/plain": [
       "2"
      ]
     },
     "execution_count": 54,
     "metadata": {},
     "output_type": "execute_result"
    }
   ],
   "source": [
    "r = np.sum( s>1e-10 )\n",
    "r"
   ]
  },
  {
   "cell_type": "markdown",
   "id": "113ef323-3b20-4718-96e2-b6b7143eb1df",
   "metadata": {},
   "source": [
    "Dimension $n$ des Raums, der abgebildet wird (siehe Rangsatz):"
   ]
  },
  {
   "cell_type": "code",
   "execution_count": 55,
   "id": "44c916ba-f245-403f-bfc1-c8dbbda1a2cc",
   "metadata": {},
   "outputs": [
    {
     "data": {
      "text/plain": [
       "3"
      ]
     },
     "execution_count": 55,
     "metadata": {},
     "output_type": "execute_result"
    }
   ],
   "source": [
    "n = B.shape[1]\n",
    "n"
   ]
  },
  {
   "cell_type": "markdown",
   "id": "f6348ab6-d57c-4350-b538-a8b740c4a079",
   "metadata": {},
   "source": [
    "#### Bild:"
   ]
  },
  {
   "cell_type": "markdown",
   "id": "c7bfd027-6389-478a-a1ed-4bf9964699b2",
   "metadata": {},
   "source": [
    "Damit hat das Bild bzw. der Spaltenraum von $A$ die Dimension 2 und besteht aus den ersten zwei Spaltenvektoren von $U$:"
   ]
  },
  {
   "cell_type": "code",
   "execution_count": 56,
   "id": "f605a35d-3b78-4b28-af53-663660cb4e2b",
   "metadata": {},
   "outputs": [
    {
     "data": {
      "text/plain": [
       "array([[-0.4282302 , -0.90366968],\n",
       "       [-0.90366968,  0.4282302 ]])"
      ]
     },
     "execution_count": 56,
     "metadata": {},
     "output_type": "execute_result"
    }
   ],
   "source": [
    "basis_bild = U[:,0:r]\n",
    "basis_bild"
   ]
  },
  {
   "cell_type": "markdown",
   "id": "e6bdf443-77a4-4fa6-9550-d2b3367cc056",
   "metadata": {},
   "source": [
    "Damit die Basis etwas schöner aussieht, dividieren wir durch die betragsmässig kleinere der beiden Komponenten:"
   ]
  },
  {
   "cell_type": "code",
   "execution_count": 57,
   "id": "453ab4d0-bae4-47b0-aa93-975bda7c3bf4",
   "metadata": {},
   "outputs": [
    {
     "data": {
      "text/plain": [
       "array([[ 1.        , -2.11024276],\n",
       "       [ 2.11024276,  1.        ]])"
      ]
     },
     "execution_count": 57,
     "metadata": {},
     "output_type": "execute_result"
    }
   ],
   "source": [
    "basis_bild / np.array([basis_bild[0,0], basis_bild[1,1]])"
   ]
  },
  {
   "cell_type": "markdown",
   "id": "371fc559-1b4f-444c-9d3f-96c8ebcf3fa6",
   "metadata": {},
   "source": [
    "Damit gilt $C(B) = \\left\\{ \\left. t \\begin{pmatrix}1 \\\\ 2.11\\end{pmatrix} + s \\begin{pmatrix}-2.11 \\\\ 1\\end{pmatrix} \\right| t,s \\in \\mathbb{R} \\right\\}$."
   ]
  },
  {
   "cell_type": "markdown",
   "id": "033ae874-61e4-4586-831d-30abea4c78ca",
   "metadata": {},
   "source": [
    "Prüfen (klassisch):"
   ]
  },
  {
   "cell_type": "code",
   "execution_count": 58,
   "id": "aabc2b25-5fd5-4b73-b4c1-2e8dd3b9f384",
   "metadata": {},
   "outputs": [
    {
     "data": {
      "text/latex": [
       "$\\displaystyle \\left[\\begin{matrix}1 & 0 & 0\\\\0 & 1 & 0\\end{matrix}\\right]$"
      ],
      "text/plain": [
       "Matrix([\n",
       "[1, 0, 0],\n",
       "[0, 1, 0]])"
      ]
     },
     "execution_count": 58,
     "metadata": {},
     "output_type": "execute_result"
    }
   ],
   "source": [
    "sp.Matrix(B.T).rref()[0].T"
   ]
  },
  {
   "cell_type": "markdown",
   "id": "1c775cd2-c045-4cc6-bcba-9b0c4f06703d",
   "metadata": {},
   "source": [
    "Natürlich beschreiben beide Räume den gleichen $\\mathbb{R}^2$, der 'klassische' ist etwas einfacher."
   ]
  },
  {
   "cell_type": "markdown",
   "id": "a7080271-e247-4ffe-80af-a0544efd58e3",
   "metadata": {},
   "source": [
    "#### Kern:"
   ]
  },
  {
   "cell_type": "markdown",
   "id": "a2fc870b-d027-47b3-b1ba-8860f474ff02",
   "metadata": {},
   "source": [
    "Dimension des Kerns:"
   ]
  },
  {
   "cell_type": "code",
   "execution_count": 59,
   "id": "8a40e3cd-a15b-430e-babe-c71b077b39bd",
   "metadata": {},
   "outputs": [
    {
     "data": {
      "text/plain": [
       "1"
      ]
     },
     "execution_count": 59,
     "metadata": {},
     "output_type": "execute_result"
    }
   ],
   "source": [
    "n-r"
   ]
  },
  {
   "cell_type": "markdown",
   "id": "f41afe45-45ab-40ec-b6bc-736cdb944a3f",
   "metadata": {},
   "source": [
    "Der Kern / Nullraum hat damit die Dimension 1 und besteht aus dem letzten Zeilenvektor von $V^T$:"
   ]
  },
  {
   "cell_type": "code",
   "execution_count": 60,
   "id": "32d70714-69e4-48f8-bcbb-aa0de6279456",
   "metadata": {},
   "outputs": [
    {
     "data": {
      "text/plain": [
       "array([[-9.70142500e-01],\n",
       "       [-2.38697950e-15],\n",
       "       [ 2.42535625e-01]])"
      ]
     },
     "execution_count": 60,
     "metadata": {},
     "output_type": "execute_result"
    }
   ],
   "source": [
    "basis_kern = VT[-(n-r):,:].T\n",
    "basis_kern"
   ]
  },
  {
   "cell_type": "markdown",
   "id": "cfbb2f76-cea9-4bf8-bdc4-7e5d861a129c",
   "metadata": {},
   "source": [
    "Auch hier dividieren wir durch die betragmässig kleinste Komponente (ausser 0):"
   ]
  },
  {
   "cell_type": "code",
   "execution_count": 61,
   "id": "d4e29396-7f68-42ca-9d22-4700eca539b9",
   "metadata": {},
   "outputs": [
    {
     "data": {
      "text/plain": [
       "array([[-4.],\n",
       "       [-0.],\n",
       "       [ 1.]])"
      ]
     },
     "execution_count": 61,
     "metadata": {},
     "output_type": "execute_result"
    }
   ],
   "source": [
    "np.round( basis_kern / basis_kern[2,0], 10 )"
   ]
  },
  {
   "cell_type": "markdown",
   "id": "2a811860-2b28-4114-b315-8e375932ad4e",
   "metadata": {},
   "source": [
    "Damit gilt\n",
    "\n",
    "$$N(B) = \\left\\{ \\left. t \\begin{pmatrix}-4 \\\\ 0 \\\\ 1\\end{pmatrix}\\right| t \\in \\mathbb{R} \\right\\}.$$"
   ]
  },
  {
   "cell_type": "markdown",
   "id": "5e9a85a8-0082-42c1-9050-e549d6bceaae",
   "metadata": {},
   "source": [
    "Prüfen (Einsetzen):"
   ]
  },
  {
   "cell_type": "code",
   "execution_count": 62,
   "id": "1eed0c96-9e6c-4476-93ce-2a5e2b937b79",
   "metadata": {},
   "outputs": [
    {
     "data": {
      "text/plain": [
       "array([[ 0.],\n",
       "       [-0.]])"
      ]
     },
     "execution_count": 62,
     "metadata": {},
     "output_type": "execute_result"
    }
   ],
   "source": [
    "np.round( B @ basis_kern, 10 )"
   ]
  },
  {
   "cell_type": "markdown",
   "id": "b1ca1b88-a519-4daf-8188-514ab87ddcda",
   "metadata": {},
   "source": [
    "### Matrix C"
   ]
  },
  {
   "cell_type": "code",
   "execution_count": 63,
   "id": "78d2c2c9-16c0-4e9c-8c78-e7e17e674cfc",
   "metadata": {},
   "outputs": [
    {
     "data": {
      "text/plain": [
       "array([5.57892065, 2.62214499, 0.        ])"
      ]
     },
     "execution_count": 63,
     "metadata": {},
     "output_type": "execute_result"
    }
   ],
   "source": [
    "C = np.array([[2,1,1,0],[-4,0,1,-3],[2,1,1,0]])\n",
    "U, s, VT = np.linalg.svd( C )\n",
    "np.round( s, 10 )"
   ]
  },
  {
   "cell_type": "markdown",
   "id": "9929ebc8-5f32-4fa1-84d2-f7842ae43450",
   "metadata": {},
   "source": [
    "Rang der Matrix aus Singulärwerten bestimmen (Achtung numerische Fehler):"
   ]
  },
  {
   "cell_type": "code",
   "execution_count": 64,
   "id": "db47331e-95f9-4dfd-88de-5d65c5e2ef93",
   "metadata": {},
   "outputs": [
    {
     "data": {
      "text/plain": [
       "2"
      ]
     },
     "execution_count": 64,
     "metadata": {},
     "output_type": "execute_result"
    }
   ],
   "source": [
    "r = np.sum( s>1e-10 )\n",
    "r"
   ]
  },
  {
   "cell_type": "markdown",
   "id": "20fcf862-45a9-46af-9966-2f8948a27ec0",
   "metadata": {},
   "source": [
    "Dimension $n$ des Raums, der abgebildet wird (siehe Rangsatz):"
   ]
  },
  {
   "cell_type": "code",
   "execution_count": 65,
   "id": "a41ad04b-846a-4614-99d9-dba7f1aa33e2",
   "metadata": {},
   "outputs": [
    {
     "data": {
      "text/plain": [
       "4"
      ]
     },
     "execution_count": 65,
     "metadata": {},
     "output_type": "execute_result"
    }
   ],
   "source": [
    "n = C.shape[1]\n",
    "n"
   ]
  },
  {
   "cell_type": "markdown",
   "id": "5e29a324-7318-40a0-b26e-9dcd5fc89987",
   "metadata": {},
   "source": [
    "#### Bild:"
   ]
  },
  {
   "cell_type": "markdown",
   "id": "46ec36ab-30a8-41e0-95ca-c12c2911acd8",
   "metadata": {},
   "source": [
    "Damit hat das Bild bzw. der Spaltenraum von $A$ die Dimension 2 und besteht aus den ersten beiden Spaltenvektoren von $U$:"
   ]
  },
  {
   "cell_type": "code",
   "execution_count": 66,
   "id": "de51146e-c3b7-43ef-9c2d-a9d430b7b6ea",
   "metadata": {},
   "outputs": [
    {
     "data": {
      "text/plain": [
       "array([[ 0.32505758, -0.62796303],\n",
       "       [-0.88807383, -0.45970084],\n",
       "       [ 0.32505758, -0.62796303]])"
      ]
     },
     "execution_count": 66,
     "metadata": {},
     "output_type": "execute_result"
    }
   ],
   "source": [
    "basis_bild = U[:,0:r]\n",
    "basis_bild"
   ]
  },
  {
   "cell_type": "markdown",
   "id": "93a0f199-45ea-438e-b0c1-7cf3e4459d0d",
   "metadata": {},
   "source": [
    "Damit die Basis etwas schöner aussieht, dividieren wir sie pro Vektor geschickt durch eine der beiden Komponenten:"
   ]
  },
  {
   "cell_type": "code",
   "execution_count": 67,
   "id": "3bb9bbb6-b6e9-4ae4-bdbc-165b1b504267",
   "metadata": {},
   "outputs": [
    {
     "data": {
      "text/plain": [
       "array([[ 1.        ,  1.        ],\n",
       "       [-2.73205081,  0.73205081],\n",
       "       [ 1.        ,  1.        ]])"
      ]
     },
     "execution_count": 67,
     "metadata": {},
     "output_type": "execute_result"
    }
   ],
   "source": [
    "basis_bild / np.array([basis_bild[0,0], basis_bild[0,1]])"
   ]
  },
  {
   "cell_type": "markdown",
   "id": "5aa6b10d-0357-471d-8df8-ad2b822e9640",
   "metadata": {},
   "source": [
    "Damit gilt $C(C) = \\left\\{ \\left. t \\begin{pmatrix}1 \\\\ -2.73 \\\\ 1\\end{pmatrix} + s \\begin{pmatrix}1 \\\\ 0.73 \\\\ 1\\end{pmatrix} \\right| t,s \\in \\mathbb{R} \\right\\}$."
   ]
  },
  {
   "cell_type": "markdown",
   "id": "7417a200-b7d7-4483-8b06-617b3f040106",
   "metadata": {},
   "source": [
    "Es fällt wie bei Matrix $B$ auf, dass die Basis noch weiter reduziert werden kann (klassisch mit Gauss):"
   ]
  },
  {
   "cell_type": "code",
   "execution_count": 68,
   "id": "bb81b6db-7b8f-43f5-9594-e4aa7a8f7d2b",
   "metadata": {},
   "outputs": [
    {
     "data": {
      "text/latex": [
       "$\\displaystyle \\left[\\begin{matrix}1 & 0\\\\0 & 1\\\\1.0 & 0\\end{matrix}\\right]$"
      ],
      "text/plain": [
       "Matrix([\n",
       "[  1, 0],\n",
       "[  0, 1],\n",
       "[1.0, 0]])"
      ]
     },
     "execution_count": 68,
     "metadata": {},
     "output_type": "execute_result"
    }
   ],
   "source": [
    "sp.Matrix( np.round(basis_bild, 10).T ).rref()[0].T"
   ]
  },
  {
   "cell_type": "markdown",
   "id": "ced052a1-7774-46cb-aaca-7f41ce24d5b2",
   "metadata": {},
   "source": [
    "#### Kern:"
   ]
  },
  {
   "cell_type": "markdown",
   "id": "74863c50-3b73-4ea8-82e1-ad99051f3836",
   "metadata": {},
   "source": [
    "Dimension des Kerns:"
   ]
  },
  {
   "cell_type": "code",
   "execution_count": 69,
   "id": "cf8b5392-1da4-431a-92ce-79214093697a",
   "metadata": {},
   "outputs": [
    {
     "data": {
      "text/plain": [
       "2"
      ]
     },
     "execution_count": 69,
     "metadata": {},
     "output_type": "execute_result"
    }
   ],
   "source": [
    "n-r"
   ]
  },
  {
   "cell_type": "markdown",
   "id": "f825cc08-30b1-4edf-b468-6768afe5b0fc",
   "metadata": {},
   "source": [
    "Der Kern / Nullraum hat damit die Dimension 2 und besteht aus den letzten beiden Zeilenvektoren von $V^T$:"
   ]
  },
  {
   "cell_type": "code",
   "execution_count": 70,
   "id": "a51125e1-cdf0-4ebd-99c6-678e627390d0",
   "metadata": {},
   "outputs": [
    {
     "data": {
      "text/plain": [
       "array([[-0.05426901, -0.41788152],\n",
       "       [-0.61396548,  0.6164866 ],\n",
       "       [ 0.72250349,  0.21927644],\n",
       "       [ 0.31319317,  0.63026751]])"
      ]
     },
     "execution_count": 70,
     "metadata": {},
     "output_type": "execute_result"
    }
   ],
   "source": [
    "basis_kern = VT[-(n-r):,:].T\n",
    "basis_kern"
   ]
  },
  {
   "cell_type": "markdown",
   "id": "1bcb2650-c371-4548-9911-7f3e3e3a9807",
   "metadata": {},
   "source": [
    "Auch hier dividieren wir durch die betragmässig kleinste Komponente (ausser 0):"
   ]
  },
  {
   "cell_type": "code",
   "execution_count": 71,
   "id": "87b49863-a63a-4995-9786-d2fa00b4ab21",
   "metadata": {},
   "outputs": [
    {
     "data": {
      "text/plain": [
       "array([[  1.        ,  -1.90572921],\n",
       "       [ 11.31337241,   2.81145842],\n",
       "       [-13.31337241,   1.        ],\n",
       "       [ -5.77112414,   2.87430561]])"
      ]
     },
     "execution_count": 71,
     "metadata": {},
     "output_type": "execute_result"
    }
   ],
   "source": [
    "np.round( basis_kern / np.array([basis_kern[0,0], basis_kern[2,1]]), 10 )"
   ]
  },
  {
   "cell_type": "markdown",
   "id": "4e75049a-d80c-49b4-b02f-cf4a1050515d",
   "metadata": {},
   "source": [
    "Damit gilt (nicht mehr so schön):\n",
    "\n",
    "$$N(C) = \\left\\{ \\left. t \\begin{pmatrix}1 \\\\ 11.31 \\\\ -13.31\\\\ -5.77\\end{pmatrix} + s \\begin{pmatrix}-1.91 \\\\ 2.81 \\\\ 1\\\\ 2.87\\end{pmatrix}\\right| t \\in \\mathbb{R} \\right\\}.$$"
   ]
  },
  {
   "cell_type": "markdown",
   "id": "451a03a9-7cd1-46fd-bdff-010885a9b1db",
   "metadata": {},
   "source": [
    "Prüfen (Einsetzen):"
   ]
  },
  {
   "cell_type": "code",
   "execution_count": 72,
   "id": "70207c89-66d2-4d9a-99c5-2a54dc309221",
   "metadata": {},
   "outputs": [
    {
     "data": {
      "text/plain": [
       "array([[0., 0.],\n",
       "       [0., 0.],\n",
       "       [0., 0.]])"
      ]
     },
     "execution_count": 72,
     "metadata": {},
     "output_type": "execute_result"
    }
   ],
   "source": [
    "np.round( C @ basis_kern, 10 )"
   ]
  },
  {
   "cell_type": "markdown",
   "id": "1e6aecc7-2b8c-48eb-8b1e-5baee6514f89",
   "metadata": {},
   "source": [
    "Reduzieren mit Gauss-Algorithmus:"
   ]
  },
  {
   "cell_type": "code",
   "execution_count": 73,
   "id": "7a23534a-bd97-4eb1-9d76-b62c8da00ea7",
   "metadata": {},
   "outputs": [
    {
     "data": {
      "text/latex": [
       "$\\displaystyle \\left[\\begin{matrix}1 & 0\\\\0 & 1\\\\-2.0 & -1.0\\\\-2.0 & -0.333333333333333\\end{matrix}\\right]$"
      ],
      "text/plain": [
       "Matrix([\n",
       "[   1,                  0],\n",
       "[   0,                  1],\n",
       "[-2.0,               -1.0],\n",
       "[-2.0, -0.333333333333333]])"
      ]
     },
     "execution_count": 73,
     "metadata": {},
     "output_type": "execute_result"
    }
   ],
   "source": [
    "sp.Matrix( basis_kern.T ).rref()[0].T"
   ]
  },
  {
   "cell_type": "markdown",
   "id": "cd92b8a5-a7e2-4c2c-b55d-ce98e7d6c038",
   "metadata": {},
   "source": [
    "Sieht noch etwas schöner aus!"
   ]
  }
 ],
 "metadata": {
  "kernelspec": {
   "display_name": "Python 3",
   "language": "python",
   "name": "python3"
  },
  "language_info": {
   "codemirror_mode": {
    "name": "ipython",
    "version": 3
   },
   "file_extension": ".py",
   "mimetype": "text/x-python",
   "name": "python",
   "nbconvert_exporter": "python",
   "pygments_lexer": "ipython3",
   "version": "3.13.1"
  }
 },
 "nbformat": 4,
 "nbformat_minor": 5
}
