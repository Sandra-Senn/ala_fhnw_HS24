{
 "cells": [
  {
   "cell_type": "markdown",
   "metadata": {},
   "source": [
    "# Lösungen zu den Python-Aufgaben aus Kapitel 3"
   ]
  },
  {
   "cell_type": "code",
   "execution_count": 1,
   "metadata": {},
   "outputs": [],
   "source": [
    "import numpy as np\n",
    "import sympy as sp\n",
    "import matplotlib.pyplot as plt\n",
    "from IPython.display import display"
   ]
  },
  {
   "cell_type": "markdown",
   "metadata": {},
   "source": [
    "## Aufgabe 1"
   ]
  },
  {
   "cell_type": "markdown",
   "metadata": {},
   "source": [
    "### a)"
   ]
  },
  {
   "cell_type": "markdown",
   "metadata": {},
   "source": [
    "(Hier könnte natürlich auch gleich nur mit Sympy gearbeitet werden)"
   ]
  },
  {
   "cell_type": "markdown",
   "metadata": {},
   "source": [
    "Datenset definieren:"
   ]
  },
  {
   "cell_type": "code",
   "execution_count": 5,
   "metadata": {},
   "outputs": [
    {
     "data": {
      "text/latex": [
       "$\\displaystyle \\left[\\begin{matrix}0.85 & -1.9 & 0.85\\\\0.18 & 0 & 0.15\\\\0.05 & 0.59 & 0.05\\\\0.36 & -0.31 & 0.33\\\\0.28 & -1.12 & 0.29\\\\0.53 & -0.46 & 0.47\\\\0.31 & -0.78 & 0.27\\\\0.3 & 1.0 & 0.34\\\\0.11 & 0.46 & 0.15\\\\0.25 & -0.49 & 0.29\\end{matrix}\\right]$"
      ],
      "text/plain": [
       "Matrix([\n",
       "[0.85,  -1.9, 0.85],\n",
       "[0.18,     0, 0.15],\n",
       "[0.05,  0.59, 0.05],\n",
       "[0.36, -0.31, 0.33],\n",
       "[0.28, -1.12, 0.29],\n",
       "[0.53, -0.46, 0.47],\n",
       "[0.31, -0.78, 0.27],\n",
       "[ 0.3,   1.0, 0.34],\n",
       "[0.11,  0.46, 0.15],\n",
       "[0.25, -0.49, 0.29]])"
      ]
     },
     "execution_count": 5,
     "metadata": {},
     "output_type": "execute_result"
    }
   ],
   "source": [
    "x = np.array([0.85,0.18,0.05,0.36,0.28,0.53,0.31,0.30,0.11,0.25])\n",
    "y = np.array([-1.90,0.00,0.59,-0.31,-1.12,-0.46,-0.78,1.00,0.46,-0.49])\n",
    "z = np.array([0.85,0.15,0.05,0.33,0.29,0.47,0.27,0.34,0.15,0.29])\n",
    "X = np.vstack([x,y,z]).T\n",
    "sp.Matrix( X )"
   ]
  },
  {
   "cell_type": "markdown",
   "metadata": {},
   "source": [
    "Kovarianzmatrix berechnen:"
   ]
  },
  {
   "cell_type": "code",
   "execution_count": 10,
   "metadata": {},
   "outputs": [
    {
     "data": {
      "text/latex": [
       "$\\displaystyle \\left[\\begin{matrix}0.0522 & -0.1443 & 0.0498\\\\-0.1443 & 0.7416 & -0.1347\\\\0.0498 & -0.1347 & 0.0488\\end{matrix}\\right]$"
      ],
      "text/plain": [
       "Matrix([\n",
       "[ 0.0522, -0.1443,  0.0498],\n",
       "[-0.1443,  0.7416, -0.1347],\n",
       "[ 0.0498, -0.1347,  0.0488]])"
      ]
     },
     "execution_count": 10,
     "metadata": {},
     "output_type": "execute_result"
    }
   ],
   "source": [
    "X0 = X - np.mean(X, axis=0)\n",
    "C = 1/(X0.shape[0]-1) * X0.T @ X0\n",
    "sp.Matrix( np.round(C, 4) )"
   ]
  },
  {
   "cell_type": "markdown",
   "metadata": {},
   "source": [
    "Korrelationsmatrix:"
   ]
  },
  {
   "cell_type": "code",
   "execution_count": 12,
   "metadata": {},
   "outputs": [
    {
     "data": {
      "text/latex": [
       "$\\displaystyle \\left[\\begin{matrix}1.0 & -0.7333 & 0.9876\\\\-0.7333 & 1.0 & -0.7083\\\\0.9876 & -0.7083 & 1.0\\end{matrix}\\right]$"
      ],
      "text/plain": [
       "Matrix([\n",
       "[    1.0, -0.7333,  0.9876],\n",
       "[-0.7333,     1.0, -0.7083],\n",
       "[ 0.9876, -0.7083,     1.0]])"
      ]
     },
     "execution_count": 12,
     "metadata": {},
     "output_type": "execute_result"
    }
   ],
   "source": [
    "Xs = (X - np.mean(X, axis=0))/np.std(X, axis=0, ddof=1)\n",
    "R = 1/(Xs.shape[0]-1) * Xs.T @ Xs\n",
    "sp.Matrix( np.round(R, 4) )"
   ]
  },
  {
   "cell_type": "markdown",
   "metadata": {},
   "source": [
    "Alle Variablen korrelieren relativ stark miteinander, $x$ und $z$ dabei sehr stark positiv (0.99) und $x$ und $y$ bzw. $y$ und $z$ etwas schwächer negativ (-0.73 bzw. -0.71). Unterstützung mit Visualisierung:"
   ]
  },
  {
   "cell_type": "code",
   "execution_count": 18,
   "metadata": {},
   "outputs": [
    {
     "data": {
      "text/plain": [
       "Text(0, 0.5, 'z')"
      ]
     },
     "execution_count": 18,
     "metadata": {},
     "output_type": "execute_result"
    },
    {
     "data": {
      "image/png": "[encoded data removed]",
      "text/plain": [
       "<Figure size 1500x400 with 3 Axes>"
      ]
     },
     "metadata": {},
     "output_type": "display_data"
    }
   ],
   "source": [
    "plt.figure(figsize=(15,4))\n",
    "plt.subplot(1,3,1)\n",
    "plt.scatter(X[:,0], X[:,1])\n",
    "plt.xlabel(\"x\")\n",
    "plt.ylabel(\"y\")\n",
    "plt.subplot(1,3,2)\n",
    "plt.scatter(X[:,0], X[:,2])\n",
    "plt.xlabel(\"x\")\n",
    "plt.ylabel(\"z\")\n",
    "plt.subplot(1,3,3)\n",
    "plt.scatter(X[:,1], X[:,2])\n",
    "plt.xlabel(\"y\")\n",
    "plt.ylabel(\"z\")"
   ]
  },
  {
   "cell_type": "markdown",
   "metadata": {},
   "source": [
    "### b)"
   ]
  },
  {
   "cell_type": "code",
   "execution_count": 23,
   "metadata": {},
   "outputs": [
    {
     "data": {
      "text/plain": [
       "array([7.97495871e-01, 4.45040489e-02, 5.93413011e-04])"
      ]
     },
     "execution_count": 23,
     "metadata": {},
     "output_type": "execute_result"
    }
   ],
   "source": [
    "ew, ev = np.linalg.eig( C )\n",
    "sort_order = np.flip( np.argsort( ew ) )\n",
    "ew = ew[sort_order]\n",
    "ev = ev[:,sort_order]\n",
    "ew"
   ]
  },
  {
   "cell_type": "code",
   "execution_count": 26,
   "metadata": {},
   "outputs": [
    {
     "data": {
      "text/latex": [
       "$\\displaystyle \\left[\\begin{matrix}-0.1988 & 0.6774 & 0.7082\\\\0.9622 & 0.2723 & 0.0096\\\\-0.1863 & 0.6833 & -0.7059\\end{matrix}\\right]$"
      ],
      "text/plain": [
       "Matrix([\n",
       "[-0.1988, 0.6774,  0.7082],\n",
       "[ 0.9622, 0.2723,  0.0096],\n",
       "[-0.1863, 0.6833, -0.7059]])"
      ]
     },
     "execution_count": 26,
     "metadata": {},
     "output_type": "execute_result"
    }
   ],
   "source": [
    "sp.Matrix( np.round(ev,4) )"
   ]
  },
  {
   "cell_type": "code",
   "execution_count": 29,
   "metadata": {},
   "outputs": [
    {
     "data": {
      "text/latex": [
       "$\\displaystyle \\left[\\begin{matrix}0.7975 & 0 & 0\\\\0 & 0.0445 & 0\\\\0 & 0 & 0.0006\\end{matrix}\\right]$"
      ],
      "text/plain": [
       "Matrix([\n",
       "[0.7975,      0,      0],\n",
       "[     0, 0.0445,      0],\n",
       "[     0,      0, 0.0006]])"
      ]
     },
     "execution_count": 29,
     "metadata": {},
     "output_type": "execute_result"
    }
   ],
   "source": [
    "V = ev\n",
    "sp.Matrix( np.round( V.T @ C @ V, 4 ) )"
   ]
  },
  {
   "cell_type": "markdown",
   "metadata": {},
   "source": [
    "Varianzanteile:"
   ]
  },
  {
   "cell_type": "code",
   "execution_count": 34,
   "metadata": {},
   "outputs": [
    {
     "data": {
      "text/plain": [
       "array([0.946, 0.053, 0.001])"
      ]
     },
     "execution_count": 34,
     "metadata": {},
     "output_type": "execute_result"
    }
   ],
   "source": [
    "np.round( ew/np.sum(ew), 3 )"
   ]
  },
  {
   "cell_type": "markdown",
   "metadata": {},
   "source": [
    "Erste Dimension = erste Hauptkomponente erklärt 94.6% der Varianz!"
   ]
  },
  {
   "cell_type": "markdown",
   "metadata": {},
   "source": [
    "### c)"
   ]
  },
  {
   "cell_type": "code",
   "execution_count": 36,
   "metadata": {},
   "outputs": [
    {
     "data": {
      "text/plain": [
       "array([[ 1., -0.,  0.],\n",
       "       [-0.,  1., -0.],\n",
       "       [ 0., -0.,  1.]])"
      ]
     },
     "execution_count": 36,
     "metadata": {},
     "output_type": "execute_result"
    }
   ],
   "source": [
    "np.round( V.T @ V, 10 )"
   ]
  },
  {
   "cell_type": "markdown",
   "metadata": {},
   "source": [
    "Einheitsmatrix!"
   ]
  },
  {
   "cell_type": "code",
   "execution_count": 37,
   "metadata": {},
   "outputs": [
    {
     "data": {
      "text/plain": [
       "1.0"
      ]
     },
     "execution_count": 37,
     "metadata": {},
     "output_type": "execute_result"
    }
   ],
   "source": [
    "np.linalg.det(V)"
   ]
  },
  {
   "cell_type": "markdown",
   "metadata": {},
   "source": [
    "(-1.0 wäre auch möglich)"
   ]
  }
 ],
 "metadata": {
  "kernelspec": {
   "display_name": "Python 3 (ipykernel)",
   "language": "python",
   "name": "python3"
  },
  "language_info": {
   "codemirror_mode": {
    "name": "ipython",
    "version": 3
   },
   "file_extension": ".py",
   "mimetype": "text/x-python",
   "name": "python",
   "nbconvert_exporter": "python",
   "pygments_lexer": "ipython3",
   "version": "3.10.13"
  }
 },
 "nbformat": 4,
 "nbformat_minor": 2
}
